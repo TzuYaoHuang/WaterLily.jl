{
 "cells": [
  {
   "cell_type": "code",
   "execution_count": 1,
   "metadata": {},
   "outputs": [],
   "source": [
    "include(\"../../src/WaterLily.jl\")\n",
    "using LinearAlgebra: ⋅\n",
    "using KernelAbstractions: get_backend, @index, @kernel\n",
    "using Statistics"
   ]
  },
  {
   "cell_type": "code",
   "execution_count": 2,
   "metadata": {},
   "outputs": [
    {
     "name": "stdout",
     "output_type": "stream",
     "text": [
      "DebugPois_Easy_Neu_\n"
     ]
    }
   ],
   "source": [
    "optPois = \"DebugPois\"\n",
    "optSour = \"Easy\"\n",
    "optBCon = \"Neu\"\n",
    "\n",
    "computationID = optPois * \"_\" * optSour * \"_\" * optBCon * \"_\"\n",
    "print(computationID,\"\\n\")\n"
   ]
  },
  {
   "cell_type": "code",
   "execution_count": 3,
   "metadata": {},
   "outputs": [
    {
     "data": {
      "text/plain": [
       "(18, 18, 2)"
      ]
     },
     "metadata": {},
     "output_type": "display_data"
    }
   ],
   "source": [
    "\n",
    "T=Float32\n",
    "N = (2^4,2^4)\n",
    "D = length(N)\n",
    "Ng = N .+ 2\n",
    "Nd = (Ng..., 2)"
   ]
  },
  {
   "cell_type": "code",
   "execution_count": 4,
   "metadata": {},
   "outputs": [
    {
     "data": {
      "text/plain": [
       "ManufacSol (generic function with 1 method)"
      ]
     },
     "metadata": {},
     "output_type": "display_data"
    }
   ],
   "source": [
    "offset = -0.3\n",
    "\n",
    "optSour==\"Hard\" && (SourceFunc(x,y) = (\n",
    "    -4 *pi^2 * (1/N[1]^2 + 1/N[2]^2) * sin.(2*pi*(x/N[1].+offset)) .* sin.(2*pi*(y/N[2].+offset)) +\n",
    "    -16*pi^2 * (1/N[1]^2 + 1/N[2]^2) * sin.(8*pi*(x/N[1].+offset)) .* sin.(8*pi*(y/N[2].+offset))\n",
    "))\n",
    "\n",
    "optSour==\"Hard\" && (ManufacSol(x,y) = (\n",
    "    sin.(2*pi*(x/N[1].+offset)) .* sin.(2*pi*(y/N[2].+offset)) +\n",
    "    sin.(8*pi*(x/N[1].+offset)) .* sin.(8*pi*(y/N[2].+offset))/4\n",
    "))\n",
    "\n",
    "optSour==\"Easy\" && (SourceFunc(x,y) = (\n",
    "    4*pi^2 * (\n",
    "        cos.(2*pi*(x/N[1])) .* (1 .-cos.(2*pi*(y/N[2])))/N[1]^2 +\n",
    "        (1 .-cos.(2*pi*(x/N[1]))) .* cos.(2*pi*(y/N[2]))/N[2]^2\n",
    "    )\n",
    "))\n",
    "\n",
    "optSour==\"Easy\" && (ManufacSol(x,y) = (\n",
    "    (1 .-cos.(2*pi*(x/N[1]))) .* (1 .-cos.(2*pi*(y/N[2]))) \n",
    "))"
   ]
  },
  {
   "cell_type": "code",
   "execution_count": 5,
   "metadata": {},
   "outputs": [
    {
     "data": {
      "text/plain": [
       "18×18 Matrix{Float64}:\n",
       " 0.00581243  0.00581243  0.0279539  …  0.0279539  0.00581243  0.00581243\n",
       " 0.00581243  0.00581243  0.0279539     0.0279539  0.00581243  0.00581243\n",
       " 0.0279539   0.0279539   0.043219      0.043219   0.0279539   0.0279539\n",
       " 0.068866    0.068866    0.0714251     0.0714251  0.068866    0.068866\n",
       " 0.12232     0.12232     0.108278      0.108278   0.12232     0.12232\n",
       " 0.180179    0.180179    0.148168   …  0.148168   0.180179    0.180179\n",
       " 0.233633    0.233633    0.185021      0.185021   0.233633    0.233633\n",
       " 0.274545    0.274545    0.213227      0.213227   0.274545    0.274545\n",
       " 0.296686    0.296686    0.228492      0.228492   0.296686    0.296686\n",
       " 0.296686    0.296686    0.228492      0.228492   0.296686    0.296686\n",
       " 0.274545    0.274545    0.213227   …  0.213227   0.274545    0.274545\n",
       " 0.233633    0.233633    0.185021      0.185021   0.233633    0.233633\n",
       " 0.180179    0.180179    0.148168      0.148168   0.180179    0.180179\n",
       " 0.12232     0.12232     0.108278      0.108278   0.12232     0.12232\n",
       " 0.068866    0.068866    0.0714251     0.0714251  0.068866    0.068866\n",
       " 0.0279539   0.0279539   0.043219   …  0.043219   0.0279539   0.0279539\n",
       " 0.00581243  0.00581243  0.0279539     0.0279539  0.00581243  0.00581243\n",
       " 0.00581243  0.00581243  0.0279539     0.0279539  0.00581243  0.00581243"
      ]
     },
     "metadata": {},
     "output_type": "display_data"
    }
   ],
   "source": [
    "solIni = zeros(Ng)\n",
    "source = zeros(Ng)\n",
    "μ₀ = ones(Nd)\n",
    "#WaterLily.BC!(μ₀,ntuple(zero, D))\n",
    "\n",
    "# BCPer!(solIni)\n",
    "# BCPer!(source)\n",
    "# BCPer!(μ₀)\n",
    "\n",
    "X = transpose(reshape([i-1.5 for i=1:Ng[1] for j=1:Ng[2]],Ng[2],Ng[1]))\n",
    "Y = transpose(reshape([j-1.5 for i=1:Ng[1] for j=1:Ng[2]],Ng[2],Ng[1]))\n",
    "\n",
    "source = SourceFunc(X,Y)\n",
    "realSol = ManufacSol(X,Y)\n",
    "originalSource = copy(source)\n",
    "\n",
    "display(originalSource)"
   ]
  },
  {
   "cell_type": "code",
   "execution_count": 6,
   "metadata": {},
   "outputs": [
    {
     "data": {
      "text/plain": [
       "Main.WaterLily.Poisson{Float64, Matrix{Float64}, Array{Float64, 3}}([1.0 1.0 … 1.0 1.0; 1.0 1.0 … 1.0 1.0; … ; 1.0 1.0 … 1.0 1.0; 1.0 1.0 … 1.0 1.0;;; 1.0 1.0 … 1.0 1.0; 1.0 1.0 … 1.0 1.0; … ; 1.0 1.0 … 1.0 1.0; 1.0 1.0 … 1.0 1.0], [0.0 0.0 … 0.0 0.0; 0.0 -4.0 … -4.0 0.0; … ; 0.0 -4.0 … -4.0 0.0; 0.0 0.0 … 0.0 0.0], [0.0 0.0 … 0.0 0.0; 0.0 -0.25 … -0.25 0.0; … ; 0.0 -0.25 … -0.25 0.0; 0.0 0.0 … 0.0 0.0], [0.0 0.0 … 0.0 0.0; 0.0 0.0 … 0.0 0.0; … ; 0.0 0.0 … 0.0 0.0; 0.0 0.0 … 0.0 0.0], [0.0 0.0 … 0.0 0.0; 0.0 0.0 … 0.0 0.0; … ; 0.0 0.0 … 0.0 0.0; 0.0 0.0 … 0.0 0.0], [0.0 0.0 … 0.0 0.0; 0.0 0.0 … 0.0 0.0; … ; 0.0 0.0 … 0.0 0.0; 0.0 0.0 … 0.0 0.0], [0.005812430292869291 0.005812430292869291 … 0.0058124302928693064 0.005812430292869291; 0.005812430292869291 0.005812430292869291 … 0.0058124302928693064 0.005812430292869291; … ; 0.0058124302928693064 0.0058124302928693064 … 0.005812430292869324 0.0058124302928693064; 0.005812430292869291 0.005812430292869291 … 0.0058124302928693064 0.005812430292869291], Int16[])"
      ]
     },
     "metadata": {},
     "output_type": "display_data"
    }
   ],
   "source": [
    "p = pTest = WaterLily.Poisson(solIni, μ₀, source)"
   ]
  },
  {
   "cell_type": "code",
   "execution_count": 7,
   "metadata": {},
   "outputs": [
    {
     "data": {
      "text/plain": [
       "18×18 Matrix{Float64}:\n",
       " -2.89699e-16  -2.89699e-16  -2.89699e-16  …  -2.89699e-16  -2.89699e-16\n",
       " -2.89699e-16  -1.01018      -1.00746         -1.01018      -2.89699e-16\n",
       " -2.89699e-16  -1.00746      -0.98215         -1.00746      -2.89699e-16\n",
       " -2.89699e-16  -1.00242      -0.935387        -1.00242      -2.89699e-16\n",
       " -2.89699e-16  -0.995849     -0.874289        -0.995849     -2.89699e-16\n",
       " -2.89699e-16  -0.98873      -0.808156     …  -0.98873      -2.89699e-16\n",
       " -2.89699e-16  -0.982154     -0.747057        -0.982154     -2.89699e-16\n",
       " -2.89699e-16  -0.977121     -0.700295        -0.977121     -2.89699e-16\n",
       " -2.89699e-16  -0.974397     -0.674987        -0.974397     -2.89699e-16\n",
       " -2.89699e-16  -0.974397     -0.674987        -0.974397     -2.89699e-16\n",
       " -2.89699e-16  -0.977121     -0.700295     …  -0.977121     -2.89699e-16\n",
       " -2.89699e-16  -0.982154     -0.747057        -0.982154     -2.89699e-16\n",
       " -2.89699e-16  -0.98873      -0.808156        -0.98873      -2.89699e-16\n",
       " -2.89699e-16  -0.995849     -0.874289        -0.995849     -2.89699e-16\n",
       " -2.89699e-16  -1.00242      -0.935387        -1.00242      -2.89699e-16\n",
       " -2.89699e-16  -1.00746      -0.98215      …  -1.00746      -2.89699e-16\n",
       " -2.89699e-16  -1.01018      -1.00746         -1.01018      -2.89699e-16\n",
       " -2.89699e-16  -2.89699e-16  -2.89699e-16     -2.89699e-16  -2.89699e-16"
      ]
     },
     "metadata": {},
     "output_type": "display_data"
    }
   ],
   "source": [
    "res = WaterLily.solver!(p;log=true,tol=1e-12,itmx=1000)\n",
    "\n",
    "display(p.x .- mean(p.x[2:end-1,2:end-1]))"
   ]
  },
  {
   "cell_type": "code",
   "execution_count": null,
   "metadata": {},
   "outputs": [],
   "source": [
    "WaterLily.residual!(p)\n",
    "\n",
    "x,r,ϵ,z = p.x,p.r,p.ϵ,p.z\n",
    "for I ∈ WaterLily.inside(x)\n",
    "    z[I] = ϵ[I] = r[I]*p.iD[I]\n",
    "end\n",
    "rho = r ⋅ z"
   ]
  },
  {
   "cell_type": "code",
   "execution_count": null,
   "metadata": {},
   "outputs": [],
   "source": [
    "it=1000\n",
    "for i in 1:it\n",
    "    for I ∈ WaterLily.inside(x)\n",
    "        z[I] = ϵ[I] = r[I]*p.iD[I]\n",
    "    end\n",
    "    rho = r ⋅ z\n",
    "    WaterLily.BC!(ϵ)\n",
    "    for I ∈ WaterLily.inside(x) \n",
    "        z[I] = WaterLily.mult(I,p.L,p.D,ϵ) \n",
    "    end\n",
    "    alpha = rho/(z⋅ϵ)\n",
    "    # print(rho, \" \")\n",
    "    # print(alpha, \" \")\n",
    "    for I ∈ WaterLily.inside(x) \n",
    "        x[I] += alpha*ϵ[I];\n",
    "        r[I] -= alpha*z[I]\n",
    "    end\n",
    "    (i==it || abs(alpha)<1e-2) && return\n",
    "    for I ∈ WaterLily.inside(x) \n",
    "        z[I] = r[I]*p.iD[I]\n",
    "    end\n",
    "    rho2 = r⋅z\n",
    "    abs(rho2)<1e-8 && return\n",
    "    beta = rho2/rho\n",
    "    # print(beta, \" \\n\")\n",
    "    for I ∈ WaterLily.inside(x) \n",
    "        ϵ[I] = beta*ϵ[I]+z[I]\n",
    "    end\n",
    "    rho = rho2        \n",
    "end\n",
    "\n",
    "display(ϵ)"
   ]
  },
  {
   "cell_type": "code",
   "execution_count": null,
   "metadata": {},
   "outputs": [],
   "source": [
    "WaterLily.inside(x)"
   ]
  }
 ],
 "metadata": {
  "kernelspec": {
   "display_name": "Julia 1.9.0",
   "language": "julia",
   "name": "julia-1.9"
  },
  "language_info": {
   "file_extension": ".jl",
   "mimetype": "application/julia",
   "name": "julia",
   "version": "1.9.0"
  },
  "orig_nbformat": 4
 },
 "nbformat": 4,
 "nbformat_minor": 2
}
