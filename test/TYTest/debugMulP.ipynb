{
 "cells": [
  {
   "cell_type": "code",
   "execution_count": 1,
   "metadata": {},
   "outputs": [
    {
     "data": {
      "text/plain": [
       "Main.WaterLily"
      ]
     },
     "metadata": {},
     "output_type": "display_data"
    }
   ],
   "source": [
    "include(\"../../src/WaterLily.jl\")"
   ]
  },
  {
   "cell_type": "code",
   "execution_count": 2,
   "metadata": {},
   "outputs": [
    {
     "name": "stdout",
     "output_type": "stream",
     "text": [
      "DebugMultP_Easy_Neu_\n"
     ]
    }
   ],
   "source": [
    "optPois = \"DebugMultP\"\n",
    "optSour = \"Easy\"\n",
    "optBCon = \"Neu\"\n",
    "\n",
    "computationID = optPois * \"_\" * optSour * \"_\" * optBCon * \"_\"\n",
    "print(computationID,\"\\n\")\n"
   ]
  },
  {
   "cell_type": "code",
   "execution_count": 3,
   "metadata": {},
   "outputs": [
    {
     "data": {
      "text/plain": [
       "(18, 18, 2)"
      ]
     },
     "metadata": {},
     "output_type": "display_data"
    }
   ],
   "source": [
    "\n",
    "T=Float32\n",
    "N = (2^4,2^4)\n",
    "D = length(N)\n",
    "Ng = N .+ 2\n",
    "Nd = (Ng..., 2)"
   ]
  },
  {
   "cell_type": "code",
   "execution_count": 4,
   "metadata": {},
   "outputs": [
    {
     "data": {
      "text/plain": [
       "ManufacSol (generic function with 1 method)"
      ]
     },
     "metadata": {},
     "output_type": "display_data"
    }
   ],
   "source": [
    "offset = -0.3\n",
    "\n",
    "optSour==\"Hard\" && (SourceFunc(x,y) = (\n",
    "    -4 *pi^2 * (1/N[1]^2 + 1/N[2]^2) * sin.(2*pi*(x/N[1].+offset)) .* sin.(2*pi*(y/N[2].+offset)) +\n",
    "    -16*pi^2 * (1/N[1]^2 + 1/N[2]^2) * sin.(8*pi*(x/N[1].+offset)) .* sin.(8*pi*(y/N[2].+offset))\n",
    "))\n",
    "\n",
    "optSour==\"Hard\" && (ManufacSol(x,y) = (\n",
    "    sin.(2*pi*(x/N[1].+offset)) .* sin.(2*pi*(y/N[2].+offset)) +\n",
    "    sin.(8*pi*(x/N[1].+offset)) .* sin.(8*pi*(y/N[2].+offset))/4\n",
    "))\n",
    "\n",
    "optSour==\"Easy\" && (SourceFunc(x,y) = (\n",
    "    4*pi^2 * (\n",
    "        cos.(2*pi*(x/N[1])) .* (1 .-cos.(2*pi*(y/N[2])))/N[1]^2 +\n",
    "        (1 .-cos.(2*pi*(x/N[1]))) .* cos.(2*pi*(y/N[2]))/N[2]^2\n",
    "    )\n",
    "))\n",
    "\n",
    "optSour==\"Easy\" && (ManufacSol(x,y) = (\n",
    "    (1 .-cos.(2*pi*(x/N[1]))) .* (1 .-cos.(2*pi*(y/N[2]))) \n",
    "))"
   ]
  },
  {
   "cell_type": "code",
   "execution_count": 5,
   "metadata": {},
   "outputs": [
    {
     "data": {
      "text/plain": [
       "18×18 Matrix{Float64}:\n",
       " 0.00581243  0.00581243  0.0279539  …  0.0279539  0.00581243  0.00581243\n",
       " 0.00581243  0.00581243  0.0279539     0.0279539  0.00581243  0.00581243\n",
       " 0.0279539   0.0279539   0.043219      0.043219   0.0279539   0.0279539\n",
       " 0.068866    0.068866    0.0714251     0.0714251  0.068866    0.068866\n",
       " 0.12232     0.12232     0.108278      0.108278   0.12232     0.12232\n",
       " 0.180179    0.180179    0.148168   …  0.148168   0.180179    0.180179\n",
       " 0.233633    0.233633    0.185021      0.185021   0.233633    0.233633\n",
       " 0.274545    0.274545    0.213227      0.213227   0.274545    0.274545\n",
       " 0.296686    0.296686    0.228492      0.228492   0.296686    0.296686\n",
       " 0.296686    0.296686    0.228492      0.228492   0.296686    0.296686\n",
       " 0.274545    0.274545    0.213227   …  0.213227   0.274545    0.274545\n",
       " 0.233633    0.233633    0.185021      0.185021   0.233633    0.233633\n",
       " 0.180179    0.180179    0.148168      0.148168   0.180179    0.180179\n",
       " 0.12232     0.12232     0.108278      0.108278   0.12232     0.12232\n",
       " 0.068866    0.068866    0.0714251     0.0714251  0.068866    0.068866\n",
       " 0.0279539   0.0279539   0.043219   …  0.043219   0.0279539   0.0279539\n",
       " 0.00581243  0.00581243  0.0279539     0.0279539  0.00581243  0.00581243\n",
       " 0.00581243  0.00581243  0.0279539     0.0279539  0.00581243  0.00581243"
      ]
     },
     "metadata": {},
     "output_type": "display_data"
    }
   ],
   "source": [
    "solIni = zeros(Ng)\n",
    "source = zeros(Ng)\n",
    "μ₀ = ones(Nd)\n",
    "# WaterLily.BC!(μ₀,ntuple(zero, D))\n",
    "\n",
    "# BCPer!(solIni)\n",
    "# BCPer!(source)\n",
    "# BCPer!(μ₀)\n",
    "\n",
    "X = transpose(reshape([i-1.5 for i=1:Ng[1] for j=1:Ng[2]],Ng[2],Ng[1]))\n",
    "Y = transpose(reshape([j-1.5 for i=1:Ng[1] for j=1:Ng[2]],Ng[2],Ng[1]))\n",
    "\n",
    "source = SourceFunc(X,Y)\n",
    "realSol = ManufacSol(X,Y)\n",
    "originalSource = copy(source)"
   ]
  },
  {
   "cell_type": "code",
   "execution_count": 6,
   "metadata": {},
   "outputs": [
    {
     "data": {
      "text/plain": [
       "Main.WaterLily.MultiLevelPoisson{Float64, Matrix{Float64}, Array{Float64, 3}}([0.0 0.0 … 0.0 0.0; 0.0 0.0 … 0.0 0.0; … ; 0.0 0.0 … 0.0 0.0; 0.0 0.0 … 0.0 0.0], [1.0 1.0 … 1.0 1.0; 1.0 1.0 … 1.0 1.0; … ; 1.0 1.0 … 1.0 1.0; 1.0 1.0 … 1.0 1.0;;; 1.0 1.0 … 1.0 1.0; 1.0 1.0 … 1.0 1.0; … ; 1.0 1.0 … 1.0 1.0; 1.0 1.0 … 1.0 1.0], [0.005812430292869291 0.005812430292869291 … 0.0058124302928693064 0.005812430292869291; 0.005812430292869291 0.005812430292869291 … 0.0058124302928693064 0.005812430292869291; … ; 0.0058124302928693064 0.0058124302928693064 … 0.005812430292869324 0.0058124302928693064; 0.005812430292869291 0.005812430292869291 … 0.0058124302928693064 0.005812430292869291], Main.WaterLily.Poisson{Float64, Matrix{Float64}, Array{Float64, 3}}[Main.WaterLily.Poisson{Float64, Matrix{Float64}, Array{Float64, 3}}([1.0 1.0 … 1.0 1.0; 1.0 1.0 … 1.0 1.0; … ; 1.0 1.0 … 1.0 1.0; 1.0 1.0 … 1.0 1.0;;; 1.0 1.0 … 1.0 1.0; 1.0 1.0 … 1.0 1.0; … ; 1.0 1.0 … 1.0 1.0; 1.0 1.0 … 1.0 1.0], [0.0 0.0 … 0.0 0.0; 0.0 -4.0 … -4.0 0.0; … ; 0.0 -4.0 … -4.0 0.0; 0.0 0.0 … 0.0 0.0], [0.0 0.0 … 0.0 0.0; 0.0 -0.25 … -0.25 0.0; … ; 0.0 -0.25 … -0.25 0.0; 0.0 0.0 … 0.0 0.0], [0.0 0.0 … 0.0 0.0; 0.0 0.0 … 0.0 0.0; … ; 0.0 0.0 … 0.0 0.0; 0.0 0.0 … 0.0 0.0], [0.0 0.0 … 0.0 0.0; 0.0 0.0 … 0.0 0.0; … ; 0.0 0.0 … 0.0 0.0; 0.0 0.0 … 0.0 0.0], [0.0 0.0 … 0.0 0.0; 0.0 0.0 … 0.0 0.0; … ; 0.0 0.0 … 0.0 0.0; 0.0 0.0 … 0.0 0.0], [0.005812430292869291 0.005812430292869291 … 0.0058124302928693064 0.005812430292869291; 0.005812430292869291 0.005812430292869291 … 0.0058124302928693064 0.005812430292869291; … ; 0.0058124302928693064 0.0058124302928693064 … 0.005812430292869324 0.0058124302928693064; 0.005812430292869291 0.005812430292869291 … 0.0058124302928693064 0.005812430292869291], Int16[]), Main.WaterLily.Poisson{Float64, Matrix{Float64}, Array{Float64, 3}}([0.0 0.0 … 0.0 0.0; 0.0 1.0 … 1.0 0.0; … ; 0.0 1.0 … 1.0 0.0; 0.0 0.0 … 0.0 0.0;;; 0.0 0.0 … 0.0 0.0; 0.0 1.0 … 1.0 0.0; … ; 0.0 1.0 … 1.0 0.0; 0.0 0.0 … 0.0 0.0], [0.0 0.0 … 0.0 0.0; 0.0 -4.0 … -3.0 0.0; … ; 0.0 -3.0 … -2.0 0.0; 0.0 0.0 … 0.0 0.0], [0.0 0.0 … 0.0 0.0; 0.0 -0.25 … -0.3333333333333333 0.0; … ; 0.0 -0.3333333333333333 … -0.5 0.0; 0.0 0.0 … 0.0 0.0], [0.0 0.0 … 0.0 0.0; 0.0 0.0 … 0.0 0.0; … ; 0.0 0.0 … 0.0 0.0; 0.0 0.0 … 0.0 0.0], [0.0 0.0 … 0.0 0.0; 0.0 0.0 … 0.0 0.0; … ; 0.0 0.0 … 0.0 0.0; 0.0 0.0 … 0.0 0.0], [0.0 0.0 … 0.0 0.0; 0.0 0.0 … 0.0 0.0; … ; 0.0 0.0 … 0.0 0.0; 0.0 0.0 … 0.0 0.0], [0.0 0.0 … 0.0 0.0; 0.0 0.0 … 0.0 0.0; … ; 0.0 0.0 … 0.0 0.0; 0.0 0.0 … 0.0 0.0], Int16[]), Main.WaterLily.Poisson{Float64, Matrix{Float64}, Array{Float64, 3}}([0.0 0.0 … 0.0 0.0; 0.0 1.0 … 1.0 0.0; … ; 0.0 1.0 … 1.0 0.0; 0.0 0.0 … 0.0 0.0;;; 0.0 0.0 … 0.0 0.0; 0.0 1.0 … 1.0 0.0; … ; 0.0 1.0 … 1.0 0.0; 0.0 0.0 … 0.0 0.0], [0.0 0.0 … 0.0 0.0; 0.0 -4.0 … -3.0 0.0; … ; 0.0 -3.0 … -2.0 0.0; 0.0 0.0 … 0.0 0.0], [0.0 0.0 … 0.0 0.0; 0.0 -0.25 … -0.3333333333333333 0.0; … ; 0.0 -0.3333333333333333 … -0.5 0.0; 0.0 0.0 … 0.0 0.0], [0.0 0.0 … 0.0 0.0; 0.0 0.0 … 0.0 0.0; … ; 0.0 0.0 … 0.0 0.0; 0.0 0.0 … 0.0 0.0], [0.0 0.0 … 0.0 0.0; 0.0 0.0 … 0.0 0.0; … ; 0.0 0.0 … 0.0 0.0; 0.0 0.0 … 0.0 0.0], [0.0 0.0 … 0.0 0.0; 0.0 0.0 … 0.0 0.0; … ; 0.0 0.0 … 0.0 0.0; 0.0 0.0 … 0.0 0.0], [0.0 0.0 … 0.0 0.0; 0.0 0.0 … 0.0 0.0; … ; 0.0 0.0 … 0.0 0.0; 0.0 0.0 … 0.0 0.0], Int16[]), Main.WaterLily.Poisson{Float64, Matrix{Float64}, Array{Float64, 3}}([0.0 0.0 0.0 0.0; 0.0 1.0 1.0 0.0; 0.0 1.0 1.0 0.0; 0.0 0.0 0.0 0.0;;; 0.0 0.0 0.0 0.0; 0.0 1.0 1.0 0.0; 0.0 1.0 1.0 0.0; 0.0 0.0 0.0 0.0], [0.0 0.0 0.0 0.0; 0.0 -4.0 -3.0 0.0; 0.0 -3.0 -2.0 0.0; 0.0 0.0 0.0 0.0], [0.0 0.0 0.0 0.0; 0.0 -0.25 -0.3333333333333333 0.0; 0.0 -0.3333333333333333 -0.5 0.0; 0.0 0.0 0.0 0.0], [0.0 0.0 0.0 0.0; 0.0 0.0 0.0 0.0; 0.0 0.0 0.0 0.0; 0.0 0.0 0.0 0.0], [0.0 0.0 0.0 0.0; 0.0 0.0 0.0 0.0; 0.0 0.0 0.0 0.0; 0.0 0.0 0.0 0.0], [0.0 0.0 0.0 0.0; 0.0 0.0 0.0 0.0; 0.0 0.0 0.0 0.0; 0.0 0.0 0.0 0.0], [0.0 0.0 0.0 0.0; 0.0 0.0 0.0 0.0; 0.0 0.0 0.0 0.0; 0.0 0.0 0.0 0.0], Int16[])], Int16[])"
      ]
     },
     "metadata": {},
     "output_type": "display_data"
    }
   ],
   "source": [
    "ml = pTest = WaterLily.MultiLevelPoisson(solIni, μ₀, source)"
   ]
  },
  {
   "cell_type": "code",
   "execution_count": 7,
   "metadata": {},
   "outputs": [],
   "source": [
    "p = pTest.levels[1]\n",
    "WaterLily.residual!(p)"
   ]
  },
  {
   "cell_type": "code",
   "execution_count": 8,
   "metadata": {},
   "outputs": [],
   "source": [
    "#WaterLily.solver!(pTest)"
   ]
  },
  {
   "cell_type": "code",
   "execution_count": 9,
   "metadata": {},
   "outputs": [],
   "source": [
    "#display(pTest.x)"
   ]
  },
  {
   "cell_type": "code",
   "execution_count": 10,
   "metadata": {},
   "outputs": [
    {
     "data": {
      "text/plain": [
       "(Nothing, Nothing)"
      ]
     },
     "metadata": {},
     "output_type": "display_data"
    }
   ],
   "source": [
    "l = 1\n",
    "fine,coarse = ml.levels[l],ml.levels[l+1]\n",
    "WaterLily.Jacobi!(fine)\n",
    "WaterLily.restrict!(coarse.r,fine.r)\n",
    "fill!(coarse.x,0.)\n",
    "fine, coarse = Nothing, Nothing"
   ]
  },
  {
   "cell_type": "code",
   "execution_count": 11,
   "metadata": {},
   "outputs": [
    {
     "data": {
      "text/plain": [
       "(Nothing, Nothing)"
      ]
     },
     "metadata": {},
     "output_type": "display_data"
    }
   ],
   "source": [
    "l = 2\n",
    "fine,coarse = ml.levels[l],ml.levels[l+1]\n",
    "WaterLily.Jacobi!(fine)\n",
    "WaterLily.restrict!(coarse.r,fine.r)\n",
    "fill!(coarse.x,0.)\n",
    "fine, coarse = Nothing, Nothing"
   ]
  },
  {
   "cell_type": "code",
   "execution_count": 12,
   "metadata": {},
   "outputs": [
    {
     "data": {
      "text/plain": [
       "(Nothing, Nothing)"
      ]
     },
     "metadata": {},
     "output_type": "display_data"
    }
   ],
   "source": [
    "l = 3\n",
    "fine,coarse = ml.levels[l],ml.levels[l+1]\n",
    "WaterLily.Jacobi!(fine)\n",
    "WaterLily.restrict!(coarse.r,fine.r)\n",
    "fill!(coarse.x,0.)\n",
    "fine, coarse = Nothing, Nothing"
   ]
  },
  {
   "cell_type": "code",
   "execution_count": 13,
   "metadata": {},
   "outputs": [
    {
     "data": {
      "text/plain": [
       "6×6 Matrix{Float64}:\n",
       " 0.0   0.0        0.0        0.0        0.0       0.0\n",
       " 0.0  -0.227135  -0.185773  -0.185773  -0.344354  0.0\n",
       " 0.0  -0.185773   0.979898   0.979898  -0.356096  0.0\n",
       " 0.0  -0.185773   0.979898   0.979898  -0.356096  0.0\n",
       " 0.0  -0.344354  -0.356096  -0.356096  -0.589009  0.0\n",
       " 0.0   0.0        0.0        0.0        0.0       0.0"
      ]
     },
     "metadata": {},
     "output_type": "display_data"
    },
    {
     "data": {
      "text/plain": [
       "6×6 Matrix{Float64}:\n",
       " 0.0   0.0        0.0        0.0         0.0        0.0\n",
       " 0.0   0.371546  -0.56699   -0.449771    0.541869   0.0\n",
       " 0.0  -0.56699   -1.58825   -1.41793    -0.279448   0.0\n",
       " 0.0  -0.449771  -1.41793   -1.2476     -0.0347926  0.0\n",
       " 0.0   0.541869  -0.279448  -0.0347926   0.712191   0.0\n",
       " 0.0   0.0        0.0        0.0         0.0        0.0"
      ]
     },
     "metadata": {},
     "output_type": "display_data"
    },
    {
     "data": {
      "text/plain": [
       "6×6 Matrix{Float64}:\n",
       " 0.0  0.0      0.0      0.0      0.0      0.0\n",
       " 0.0  1.41949  1.41949  1.66363  1.66363  0.0\n",
       " 0.0  1.41949  1.41949  1.66363  1.66363  0.0\n",
       " 0.0  1.66363  1.66363  1.96613  1.96613  0.0\n",
       " 0.0  1.66363  1.66363  1.96613  1.96613  0.0\n",
       " 0.0  0.0      0.0      0.0      0.0      0.0"
      ]
     },
     "metadata": {},
     "output_type": "display_data"
    },
    {
     "data": {
      "text/plain": [
       "6×6 Matrix{Float64}:\n",
       " 0.0  0.0  0.0  0.0  0.0  0.0\n",
       " 0.0  0.0  0.0  0.0  0.0  0.0\n",
       " 0.0  0.0  0.0  0.0  0.0  0.0\n",
       " 0.0  0.0  0.0  0.0  0.0  0.0\n",
       " 0.0  0.0  0.0  0.0  0.0  0.0\n",
       " 0.0  0.0  0.0  0.0  0.0  0.0"
      ]
     },
     "metadata": {},
     "output_type": "display_data"
    },
    {
     "data": {
      "text/plain": [
       "6×6 Matrix{Float64}:\n",
       " 0.0  0.0      0.0      0.0      0.0      0.0\n",
       " 0.0  1.19235  1.23371  1.47786  1.31928  0.0\n",
       " 0.0  1.23371  2.39939  2.64353  1.30754  0.0\n",
       " 0.0  1.47786  2.64353  2.94603  1.61004  0.0\n",
       " 0.0  1.31928  1.30754  1.61004  1.37712  0.0\n",
       " 0.0  0.0      0.0      0.0      0.0      0.0"
      ]
     },
     "metadata": {},
     "output_type": "display_data"
    },
    {
     "data": {
      "text/plain": [
       "6×6 Matrix{Float64}:\n",
       " 0.0  0.0        0.0        0.0        0.0       0.0\n",
       " 0.0  3.21052    0.608352   1.45801    2.2055    0.0\n",
       " 0.0  0.608352  -2.07654   -1.47628   -0.581947  0.0\n",
       " 0.0  1.45801   -1.47628   -0.642606   0.267706  0.0\n",
       " 0.0  2.2055    -0.581947   0.267706   0.712191  0.0\n",
       " 0.0  0.0        0.0        0.0        0.0       0.0"
      ]
     },
     "metadata": {},
     "output_type": "display_data"
    },
    {
     "data": {
      "text/plain": [
       "6×6 Matrix{Float64}:\n",
       " 0.0  0.0      0.0      0.0      0.0      0.0\n",
       " 0.0  1.41949  1.41949  1.66363  1.66363  0.0\n",
       " 0.0  1.41949  1.41949  1.66363  1.66363  0.0\n",
       " 0.0  1.66363  1.66363  1.96613  1.96613  0.0\n",
       " 0.0  1.66363  1.66363  1.96613  1.96613  0.0\n",
       " 0.0  0.0      0.0      0.0      0.0      0.0"
      ]
     },
     "metadata": {},
     "output_type": "display_data"
    },
    {
     "data": {
      "text/plain": [
       "6×6 Matrix{Float64}:\n",
       " 0.0  0.0  0.0  0.0  0.0  0.0\n",
       " 0.0  0.0  0.0  0.0  0.0  0.0\n",
       " 0.0  0.0  0.0  0.0  0.0  0.0\n",
       " 0.0  0.0  0.0  0.0  0.0  0.0\n",
       " 0.0  0.0  0.0  0.0  0.0  0.0\n",
       " 0.0  0.0  0.0  0.0  0.0  0.0"
      ]
     },
     "metadata": {},
     "output_type": "display_data"
    }
   ],
   "source": [
    "# using LinearAlgebra: ⋅\n",
    "# for i∈2:3, j∈2:3\n",
    "#     pTest.levels[3].z[i,j] = pTest.levels[3].ϵ[i,j] = pTest.levels[3].r[i,j]*pTest.levels[3].iD[i,j]\n",
    "# end\n",
    "\n",
    "# display(pTest.levels[3].x)\n",
    "# display(pTest.levels[3].r)\n",
    "# display(pTest.levels[3].ϵ)\n",
    "\n",
    "# rho = pTest.levels[3].r ⋅ pTest.levels[3].z\n",
    "\n",
    "# display(rho)\n",
    "\n",
    "# for i∈2:3, j∈2:3\n",
    "#     pTest.levels[3].z[i,j] = WaterLily.mult(CartesianIndex(i,j),pTest.levels[3].L,pTest.levels[3].D,pTest.levels[3].ϵ)\n",
    "# end\n",
    "\n",
    "# display(pTest.levels[3].z)\n",
    "\n",
    "# rhop = pTest.levels[3].z⋅pTest.levels[3].ϵ\n",
    "\n",
    "# display(rhop)\n",
    "# display(pTest.levels[3].x)\n",
    "# display(pTest.levels[3].r)\n",
    "# display(pTest.levels[3].ϵ)\n",
    "# display(pTest.levels[3].z)\n",
    "WaterLily.pcg!(pTest.levels[4],it=6)\n",
    "# display(pTest.levels[3].x)\n",
    "# display(pTest.levels[3].r)\n",
    "# display(pTest.levels[3].ϵ)\n",
    "# display(pTest.levels[3].z)\n",
    "WaterLily.prolongate!(pTest.levels[3].ϵ,pTest.levels[4].x)\n",
    "display(pTest.levels[3].x)\n",
    "display(pTest.levels[3].r)\n",
    "display(pTest.levels[3].ϵ)\n",
    "display(pTest.levels[3].z)\n",
    "WaterLily.increment!(pTest.levels[3])\n",
    "display(pTest.levels[3].x)\n",
    "display(pTest.levels[3].r)\n",
    "display(pTest.levels[3].ϵ)\n",
    "display(pTest.levels[3].z)"
   ]
  },
  {
   "cell_type": "code",
   "execution_count": 14,
   "metadata": {},
   "outputs": [
    {
     "data": {
      "text/plain": [
       "18×18 Matrix{Float64}:\n",
       " 0.0  0.0        0.0        0.0        …  0.0        0.0        0.0\n",
       " 0.0  0.0139769  0.0294743  0.0554248     0.0294743  0.0139769  0.0\n",
       " 0.0  0.0294743  0.0496895  0.0741293     0.0496895  0.0294743  0.0\n",
       " 0.0  0.0554248  0.0741293  0.0768787     0.0741293  0.0554248  0.0\n",
       " 0.0  0.0893307  0.106061   0.0804709     0.106061   0.0893307  0.0\n",
       " 0.0  0.12603    0.140624   0.0843592  …  0.140624   0.12603    0.0\n",
       " 0.0  0.159936   0.172556   0.0879515     0.172556   0.159936   0.0\n",
       " 0.0  0.185887   0.196996   0.0907009     0.196996   0.185887   0.0\n",
       " 0.0  0.199931   0.210223   0.0921888     0.210223   0.199931   0.0\n",
       " 0.0  0.199931   0.210223   0.0921888     0.210223   0.199931   0.0\n",
       " 0.0  0.185887   0.196996   0.0907009  …  0.196996   0.185887   0.0\n",
       " 0.0  0.159936   0.172556   0.0879515     0.172556   0.159936   0.0\n",
       " 0.0  0.12603    0.140624   0.0843592     0.140624   0.12603    0.0\n",
       " 0.0  0.0893307  0.106061   0.0804709     0.106061   0.0893307  0.0\n",
       " 0.0  0.0554248  0.0741293  0.0768787     0.0741293  0.0554248  0.0\n",
       " 0.0  0.0294743  0.0496895  0.0741293  …  0.0496895  0.0294743  0.0\n",
       " 0.0  0.0139769  0.0294743  0.0554248     0.0294743  0.0139769  0.0\n",
       " 0.0  0.0        0.0        0.0           0.0        0.0        0.0"
      ]
     },
     "metadata": {},
     "output_type": "display_data"
    },
    {
     "data": {
      "text/plain": [
       "10×10 Matrix{Float64}:\n",
       " 0.0  0.0        0.0         0.0        …  0.0        0.0       0.0\n",
       " 0.0  0.162473   0.251655    0.319637      0.261873   0.189552  0.0\n",
       " 0.0  0.251655   0.242756    0.0876738     0.269835   0.311801  0.0\n",
       " 0.0  0.319637   0.0876738  -0.493728      0.137603   0.412802  0.0\n",
       " 0.0  0.366216  -0.0304352  -0.923129      0.0356512  0.482231  0.0\n",
       " 0.0  0.366216  -0.0304352  -0.923129   …  0.0356512  0.482231  0.0\n",
       " 0.0  0.319637   0.0876738  -0.493728      0.137603   0.412802  0.0\n",
       " 0.0  0.261873   0.269835    0.137603      0.296914   0.332237  0.0\n",
       " 0.0  0.189552   0.311801    0.412802      0.332237   0.216631  0.0\n",
       " 0.0  0.0        0.0         0.0           0.0        0.0       0.0"
      ]
     },
     "metadata": {},
     "output_type": "display_data"
    },
    {
     "data": {
      "text/plain": [
       "6×6 Matrix{Float64}:\n",
       " 0.0  0.0        0.0        0.0        0.0       0.0\n",
       " 0.0  3.21052    0.608352   1.45801    2.2055    0.0\n",
       " 0.0  0.608352  -2.07654   -1.47628   -0.581947  0.0\n",
       " 0.0  1.45801   -1.47628   -0.642606   0.267706  0.0\n",
       " 0.0  2.2055    -0.581947   0.267706   0.712191  0.0\n",
       " 0.0  0.0        0.0        0.0        0.0       0.0"
      ]
     },
     "metadata": {},
     "output_type": "display_data"
    },
    {
     "data": {
      "text/plain": [
       "4×4 Matrix{Float64}:\n",
       " 0.0   0.0           0.0          0.0\n",
       " 0.0   8.90379e-17  -8.48942e-18  0.0\n",
       " 0.0  -8.48942e-18   2.16403e-17  0.0\n",
       " 0.0   0.0           0.0          0.0"
      ]
     },
     "metadata": {},
     "output_type": "display_data"
    }
   ],
   "source": [
    "for i ∈ 1:length(pTest.levels)\n",
    "    display(pTest.levels[i].r)\n",
    "end"
   ]
  },
  {
   "cell_type": "code",
   "execution_count": null,
   "metadata": {},
   "outputs": [],
   "source": [
    "# l = 2\n",
    "# fine,coarse = ml.levels[l],ml.levels[l+1]\n",
    "# WaterLily.smooth!(coarse)\n",
    "# # correct fine\n",
    "# WaterLily.prolongate!(fine.ϵ,coarse.x)\n",
    "# WaterLily.increment!(fine)\n",
    "# fine, coarse = Nothing, Nothing"
   ]
  },
  {
   "cell_type": "code",
   "execution_count": null,
   "metadata": {},
   "outputs": [],
   "source": [
    "l = 1\n",
    "fine,coarse = ml.levels[l],ml.levels[l+1]\n",
    "WaterLily.smooth!(coarse)\n",
    "# correct fine\n",
    "WaterLily.prolongate!(fine.ϵ,coarse.x)\n",
    "WaterLily.increment!(fine)\n",
    "fine, coarse = Nothing, Nothing"
   ]
  },
  {
   "cell_type": "code",
   "execution_count": null,
   "metadata": {},
   "outputs": [],
   "source": [
    "WaterLily.smooth!(ml.levels[1])"
   ]
  },
  {
   "cell_type": "code",
   "execution_count": null,
   "metadata": {},
   "outputs": [],
   "source": [
    "for i ∈ 1:length(pTest.levels)\n",
    "    display(pTest.levels[i].ϵ)\n",
    "end"
   ]
  }
 ],
 "metadata": {
  "kernelspec": {
   "display_name": "Julia 1.9.0",
   "language": "julia",
   "name": "julia-1.9"
  },
  "language_info": {
   "file_extension": ".jl",
   "mimetype": "application/julia",
   "name": "julia",
   "version": "1.9.0"
  },
  "orig_nbformat": 4
 },
 "nbformat": 4,
 "nbformat_minor": 2
}
