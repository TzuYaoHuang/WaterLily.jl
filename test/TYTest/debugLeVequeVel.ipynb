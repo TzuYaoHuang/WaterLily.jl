{
 "cells": [
  {
   "cell_type": "code",
   "execution_count": 1,
   "metadata": {},
   "outputs": [
    {
     "name": "stderr",
     "output_type": "stream",
     "text": [
      "WARNING: using LinearAlgebra.× in module WaterLily conflicts with an existing identifier.\n",
      "WARNING: using LinearAlgebra.diag in module WaterLily conflicts with an existing identifier.\n"
     ]
    }
   ],
   "source": [
    "include(\"../../src/WaterLily.jl\")\n",
    "WaterLily = Main.WaterLily;\n",
    "using Plots; gr()\n",
    "using StaticArrays\n",
    "using JLD\n",
    "using Images\n",
    "using FFTW\n",
    "using Statistics\n",
    "using Interpolations\n",
    "using DelimitedFiles\n",
    "using LinearAlgebra\n",
    "using PyPlot\n",
    "using GLMakie\n",
    "GLMakie.activate!()"
   ]
  },
  {
   "cell_type": "code",
   "execution_count": 2,
   "metadata": {},
   "outputs": [
    {
     "data": {
      "text/plain": [
       "(256, 256, 256)"
      ]
     },
     "metadata": {},
     "output_type": "display_data"
    }
   ],
   "source": [
    "Lp = 256\n",
    "N = (Lp, Lp, Lp)"
   ]
  },
  {
   "cell_type": "code",
   "execution_count": 3,
   "metadata": {},
   "outputs": [],
   "source": [
    "sim = WaterLily.Simulation(N, (0, 0, 0), Lp; U=1, ν=0.0,T=Float32,mem=Array,perdir=(1,2,3), Δt=0.00001)\n",
    "\n",
    "xList = reshape((1:N[1]+2).-2,(N[1]+2,1,1))/N[1]\n",
    "yList = reshape((1:N[2]+2).-2,(1,N[2]+2,1))/N[2]\n",
    "zList = reshape((1:N[3]+2).-2,(1,1,N[3]+2))/N[3]\n",
    "\n",
    "\n",
    "function leVeque!(u,x,y,z)\n",
    "    u[:,:,:,1] = @. 2*sin( pi*x)^2*sin(2pi*y)  *sin(2pi*z)  *N[1]\n",
    "    u[:,:,:,2] = @.  -sin(2pi*x)  *sin( pi*y)^2*sin(2pi*z)  *N[2]\n",
    "    u[:,:,:,3] = @.  -sin(2pi*x)  *sin(2pi*y)  *sin( pi*z)^2*N[3]\n",
    "    # u[:,:,:,1] .= 2\n",
    "    # u[:,:,:,2] .= 1\n",
    "    # u[:,:,:,3] .= 1\n",
    "end\n",
    "\n",
    "leVeque!(sim.flow.u,xList,yList,zList);"
   ]
  },
  {
   "cell_type": "code",
   "execution_count": 4,
   "metadata": {},
   "outputs": [],
   "source": [
    "WaterLily.project!(sim.flow,sim.pois)\n",
    "WaterLily.BCVecPerNeu!(sim.flow.u;Dirichlet=true, A=sim.flow.U, perdir=sim.flow.perdir)\n",
    "save(\"aLeVequeubase.jld\",\"data\",sim.flow.u)"
   ]
  },
  {
   "cell_type": "code",
   "execution_count": 7,
   "metadata": {},
   "outputs": [
    {
     "data": {
      "text/plain": [
       "8.493662f-7"
      ]
     },
     "metadata": {},
     "output_type": "display_data"
    }
   ],
   "source": [
    "u⁰ = sim.flow.u\n",
    "Statistics.mean\n",
    "maximum(abs.(\n",
    "    u⁰[3:end, 2:end-1, 2:end-1,1]-u⁰[2:end-1, 2:end-1, 2:end-1,1]+\n",
    "    u⁰[2:end-1, 3:end, 2:end-1,2]-u⁰[2:end-1, 2:end-1, 2:end-1,2]+\n",
    "    u⁰[2:end-1, 2:end-1, 3:end,3]-u⁰[2:end-1, 2:end-1, 2:end-1,3]\n",
    "))/256"
   ]
  },
  {
   "cell_type": "code",
   "execution_count": null,
   "metadata": {},
   "outputs": [],
   "source": [
    "GLMakie.contour(uMag,levels=[N[1]],alpha=1,isorange=N[1]/10)"
   ]
  },
  {
   "cell_type": "code",
   "execution_count": null,
   "metadata": {},
   "outputs": [],
   "source": [
    "uu = copy(sim.flow.u);\n",
    "leVeque!(sim.flow.u,xList,yList,zList);\n",
    "uuMag = sqrt.(sum(uu.^2,dims=[4]))[:,:,:,1];"
   ]
  },
  {
   "cell_type": "code",
   "execution_count": null,
   "metadata": {},
   "outputs": [],
   "source": [
    "GLMakie.contour(uuMag,levels=[N[1]],alpha=1,isorange=N[1]/10)\n"
   ]
  },
  {
   "cell_type": "code",
   "execution_count": null,
   "metadata": {},
   "outputs": [],
   "source": [
    "uDiffMag = sqrt.(sum((sim.flow.u .- uu).^2,dims=[4]))[:,:,:,1];"
   ]
  },
  {
   "cell_type": "code",
   "execution_count": null,
   "metadata": {},
   "outputs": [],
   "source": [
    "maximum(uDiffMag)"
   ]
  }
 ],
 "metadata": {
  "kernelspec": {
   "display_name": "Julia 1.9.2",
   "language": "julia",
   "name": "julia-1.9"
  },
  "language_info": {
   "file_extension": ".jl",
   "mimetype": "application/julia",
   "name": "julia",
   "version": "1.9.2"
  },
  "orig_nbformat": 4
 },
 "nbformat": 4,
 "nbformat_minor": 2
}
