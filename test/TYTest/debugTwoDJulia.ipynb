{
 "cells": [
  {
   "cell_type": "code",
   "execution_count": 27,
   "metadata": {},
   "outputs": [
    {
     "name": "stderr",
     "output_type": "stream",
     "text": [
      "WARNING: replacing module WaterLily.\n"
     ]
    }
   ],
   "source": [
    "include(\"../../src/WaterLily.jl\")\n",
    "WaterLily = Main.WaterLily;\n",
    "using Plots; gr()\n",
    "using StaticArrays\n",
    "using JLD"
   ]
  },
  {
   "cell_type": "code",
   "execution_count": 28,
   "metadata": {},
   "outputs": [
    {
     "data": {
      "text/plain": [
       "δ (generic function with 2 methods)"
      ]
     },
     "metadata": {},
     "output_type": "display_data"
    }
   ],
   "source": [
    "inside(a::AbstractArray) = CartesianIndices(map(ax->first(ax)+1:last(ax)-1,axes(a)))\n",
    "@inline CI(a...) = CartesianIndex(a...)\n",
    "\"\"\"\n",
    "    δ(i,N::Int)\n",
    "    δ(i,I::CartesianIndex{N}) where {N}\n",
    "\n",
    "Return a CartesianIndex of dimension `N` which is one at index `i` and zero elsewhere.\n",
    "\"\"\"\n",
    "δ(i,::Val{N}) where N = CI(ntuple(j -> j==i ? 1 : 0, N))\n",
    "δ(i,I::CartesianIndex{N}) where N = δ(i, Val{N}())"
   ]
  },
  {
   "cell_type": "code",
   "execution_count": 29,
   "metadata": {},
   "outputs": [
    {
     "data": {
      "text/plain": [
       "InterpolOmega (generic function with 1 method)"
      ]
     },
     "metadata": {},
     "output_type": "display_data"
    }
   ],
   "source": [
    "function InterpolOmega(xOrig,omega)\n",
    "    x = xOrig .+ 2.0\n",
    "    floorx = floor.(x)\n",
    "    I = CartesianIndex(Int.(floorx)...)\n",
    "    residual = x.-floorx\n",
    "    N = length(I)\n",
    "    s = 0.0\n",
    "    for i ∈ N\n",
    "        s += omega[I]*(1-residual[i]) + omega[I+δ(i,I)]*residual[i]\n",
    "    end\n",
    "    return s/N\n",
    "end"
   ]
  },
  {
   "cell_type": "code",
   "execution_count": 30,
   "metadata": {},
   "outputs": [
    {
     "data": {
      "text/plain": [
       "sim_gif! (generic function with 1 method)"
      ]
     },
     "metadata": {},
     "output_type": "display_data"
    }
   ],
   "source": [
    "function flood(f::Array;shift=(0.,0.),cfill=:RdBu_11,clims=(),levels=10,kv...)\n",
    "    if length(clims)==2\n",
    "        @assert clims[1]<clims[2]\n",
    "        @. f=min(clims[2],max(clims[1],f))\n",
    "    else\n",
    "        clims = (minimum(f),maximum(f))\n",
    "    end\n",
    "    Plots.contourf(axes(f,1).+shift[1],axes(f,2).+shift[2],f',\n",
    "        linewidth=0, levels=levels, color=cfill, clims = clims, \n",
    "        aspect_ratio=:equal; kv...)\n",
    "end\n",
    "\n",
    "addbody(x,y;c=:black) = Plots.plot!(Shape(x,y), c=c, legend=false)\n",
    "function body_plot!(sim;levels=[0],lines=:black,R=inside(sim.flow.p))\n",
    "    WaterLily.measure_sdf!(sim.flow.σ,sim.body,WaterLily.time(sim))\n",
    "    contour!(sim.flow.σ[R]';levels,lines)\n",
    "end\n",
    "\n",
    "function sim_gif!(sim;duration=1,step=0.1,verbose=true,R=inside(sim.flow.p),\n",
    "                    remeasure=false,plotbody=false,kv...)\n",
    "    t₀ = round(WaterLily.sim_time(sim))\n",
    "    omegaInter = Float64[]\n",
    "    @time @gif for tᵢ in range(t₀,t₀+duration;step)\n",
    "        WaterLily.sim_step!(sim,tᵢ;remeasure)\n",
    "        for I∈inside(sim.flow.σ)\n",
    "            sim.flow.σ[I] = WaterLily.curl(3,I,sim.flow.u)*sim.L/sim.U\n",
    "        end\n",
    "        WaterLily.BCPer!(sim.flow.σ)\n",
    "        flood(sim.flow.σ[R]; kv...)\n",
    "        plotbody && body_plot!(sim)\n",
    "        verbose && println(\"tU/L=\",round(tᵢ,digits=4),\n",
    "            \", Δt=\",round(sim.flow.Δt[end],digits=3))\n",
    "        push!(omegaInter,InterpolOmega(SA[mod(16.1+6.4*tᵢ,64),mod(16.1+12.8*tᵢ,64)], sim.flow.σ))\n",
    "    end\n",
    "    return omegaInter\n",
    "end"
   ]
  },
  {
   "cell_type": "code",
   "execution_count": 31,
   "metadata": {},
   "outputs": [
    {
     "data": {
      "text/plain": [
       "circle (generic function with 1 method)"
      ]
     },
     "metadata": {},
     "output_type": "display_data"
    }
   ],
   "source": [
    "function circle(n,m;Re=250,U=1)\n",
    "    radius, center = m/8, m/2\n",
    "    body = WaterLily.AutoBody((x,t)->√sum(abs2, x .- center) - radius)\n",
    "    return WaterLily.Simulation((n,m), (U,0), radius; ν=U*radius/Re, body)\n",
    "end"
   ]
  },
  {
   "cell_type": "code",
   "execution_count": 32,
   "metadata": {},
   "outputs": [
    {
     "data": {
      "text/plain": [
       "TGV (generic function with 1 method)"
      ]
     },
     "metadata": {},
     "output_type": "display_data"
    }
   ],
   "source": [
    "function TGV(; pow=6, Re=1e5, T=Float32, mem=Array)\n",
    "    # Define vortex size, velocity, viscosity\n",
    "    L = 2^pow; U = 1; ν = U*L/Re\n",
    "    # Taylor-Green-Vortex initial velocity field\n",
    "    function uλ(i,xyz)\n",
    "        x,y = @. (xyz-1.5)*2π/L                # scaled coordinates\n",
    "        i==1 && return -U*(sin(x)*cos(y)+0.2*sin(5x)*cos(5y)) # u_x\n",
    "        i==2 && return  U*(cos(x)*sin(y)+0.2*cos(5x)*sin(5y)+0.1) # u_y\n",
    "        return 0.                              # u_z\n",
    "    end\n",
    "    # Initialize simulation\n",
    "    return WaterLily.Simulation((L, L), (0, 0), L; U=U, uλ=uλ, ν=ν, T=T, mem=mem,perdir=(2,))\n",
    "end"
   ]
  },
  {
   "cell_type": "code",
   "execution_count": 33,
   "metadata": {},
   "outputs": [
    {
     "data": {
      "text/plain": [
       "TGVHalfPer (generic function with 1 method)"
      ]
     },
     "metadata": {},
     "output_type": "display_data"
    }
   ],
   "source": [
    "function TGVHalfPer(; pow=6, Re=1e5, T=Float32, mem=Array)\n",
    "    # Define vortex size, velocity, viscosity\n",
    "    L = 2^pow; U = 1; ν = U*L/Re\n",
    "    # Taylor-Green-Vortex initial velocity field\n",
    "    function uλ(i,xyz)\n",
    "        x,y = @. (xyz-1.5)*2π/L                # scaled coordinates\n",
    "        i==1 && return U*(sin(x)*sin(y)+0.1sin(10x)*sin(10y)+0.2*rand()+0.0) # u_x\n",
    "        i==2 && return U*(cos(x)*cos(y)+0.1cos(10x)*cos(10y)+0.2*rand()+0.0) # u_y\n",
    "        return 0.                              # u_z\n",
    "    end\n",
    "    # Initialize simulation\n",
    "    return WaterLily.Simulation((L, L), (0, 0), L; U=U, uλ=uλ, ν=ν, T=T, mem=mem)\n",
    "end"
   ]
  },
  {
   "cell_type": "code",
   "execution_count": 34,
   "metadata": {},
   "outputs": [
    {
     "data": {
      "text/plain": [
       "Main.WaterLily.Simulation(1, 64, 1, Main.WaterLily.Flow{2, Float32, Matrix{Float32}, Array{Float32, 3}, Array{Float32, 4}}([0.0 0.0 … 0.0 0.0; 0.0 0.0 … 0.0 0.0; … ; 0.18935299 0.18935299 … 0.18935299 0.18935299; 0.0 0.0 … 0.0 0.0;;; -0.08935299 0.1 … -0.08935299 0.1; -0.08935299 0.1 … -0.08935299 0.1; … ; -0.08935299 0.1 … -0.08935299 0.1; -0.08935299 0.1 … -0.08935299 0.1], [0.0 0.0 … 0.0 0.0; 0.0 0.0 … 0.0 0.0; … ; 0.18935299 0.18935299 … 0.18935299 0.18935299; 0.0 0.0 … 0.0 0.0;;; -0.08935299 0.1 … -0.08935299 0.1; -0.08935299 0.1 … -0.08935299 0.1; … ; -0.08935299 0.1 … -0.08935299 0.1; -0.08935299 0.1 … -0.08935299 0.1], [0.0 0.0 … 0.0 0.0; 0.0 0.0 … 0.0 0.0; … ; 0.0 0.0 … 0.0 0.0; 0.0 0.0 … 0.0 0.0;;; 0.0 0.0 … 0.0 0.0; 0.0 0.0 … 0.0 0.0; … ; 0.0 0.0 … 0.0 0.0; 0.0 0.0 … 0.0 0.0], Float32[0.0 0.0 … 0.0 0.0; 0.0 0.0 … 0.0 0.0; … ; 0.0 0.0 … 0.0 0.0; 0.0 0.0 … 0.0 0.0], Float32[0.0 0.0 … 0.0 0.0; 0.0 0.0 … 0.0 0.0; … ; 0.0 0.0 … 0.0 0.0; 0.0 0.0 … 0.0 0.0], [0.0 0.0 … 0.0 0.0; 0.0 0.0 … 0.0 0.0; … ; 0.0 0.0 … 0.0 0.0; 0.0 0.0 … 0.0 0.0;;; 0.0 0.0 … 0.0 0.0; 0.0 0.0 … 0.0 0.0; … ; 0.0 0.0 … 0.0 0.0; 0.0 0.0 … 0.0 0.0], Float32[0.0 0.0 … 0.0 0.0; 0.0 0.0 … 0.0 0.0; … ; 0.0 0.0 … 0.0 0.0; 0.0 0.0 … 0.0 0.0], [1.0 1.0 … 1.0 1.0; 1.0 1.0 … 1.0 1.0; … ; 1.0 1.0 … 1.0 1.0; 1.0 1.0 … 1.0 1.0;;; 1.0 1.0 … 1.0 1.0; 1.0 1.0 … 1.0 1.0; … ; 1.0 1.0 … 1.0 1.0; 1.0 1.0 … 1.0 1.0], [0.0 0.0 … 0.0 0.0; 0.0 0.0 … 0.0 0.0; … ; 0.0 0.0 … 0.0 0.0; 0.0 0.0 … 0.0 0.0;;; 0.0 0.0 … 0.0 0.0; 0.0 0.0 … 0.0 0.0; … ; 0.0 0.0 … 0.0 0.0; 0.0 0.0 … 0.0 0.0;;;; 0.0 0.0 … 0.0 0.0; 0.0 0.0 … 0.0 0.0; … ; 0.0 0.0 … 0.0 0.0; 0.0 0.0 … 0.0 0.0;;; 0.0 0.0 … 0.0 0.0; 0.0 0.0 … 0.0 0.0; … ; 0.0 0.0 … 0.0 0.0; 0.0 0.0 … 0.0 0.0], (0.0f0, 0.0f0), Float32[0.25], 0.0064f0, (2,)), Main.WaterLily.NoBody(), Main.WaterLily.MultiLevelPoisson{Float32, Matrix{Float32}, Array{Float32, 3}}(Float32[0.0 0.0 … 0.0 0.0; 0.0 0.0 … 0.0 0.0; … ; 0.0 0.0 … 0.0 0.0; 0.0 0.0 … 0.0 0.0], [1.0 1.0 … 1.0 1.0; 1.0 1.0 … 1.0 1.0; … ; 1.0 1.0 … 1.0 1.0; 1.0 1.0 … 1.0 1.0;;; 1.0 1.0 … 1.0 1.0; 1.0 1.0 … 1.0 1.0; … ; 1.0 1.0 … 1.0 1.0; 1.0 1.0 … 1.0 1.0], Float32[0.0 0.0 … 0.0 0.0; 0.0 0.0 … 0.0 0.0; … ; 0.0 0.0 … 0.0 0.0; 0.0 0.0 … 0.0 0.0], Main.WaterLily.Poisson{Float32, Matrix{Float32}, Array{Float32, 3}}[Main.WaterLily.Poisson{Float32, Matrix{Float32}, Array{Float32, 3}}([1.0 1.0 … 1.0 1.0; 1.0 1.0 … 1.0 1.0; … ; 1.0 1.0 … 1.0 1.0; 1.0 1.0 … 1.0 1.0;;; 1.0 1.0 … 1.0 1.0; 1.0 1.0 … 1.0 1.0; … ; 1.0 1.0 … 1.0 1.0; 1.0 1.0 … 1.0 1.0], Float32[0.0 0.0 … 0.0 0.0; 0.0 -4.0 … -4.0 0.0; … ; 0.0 -4.0 … -4.0 0.0; 0.0 0.0 … 0.0 0.0], Float32[0.0 0.0 … 0.0 0.0; 0.0 -0.25 … -0.25 0.0; … ; 0.0 -0.25 … -0.25 0.0; 0.0 0.0 … 0.0 0.0], Float32[0.0 0.0 … 0.0 0.0; 0.0 0.0 … 0.0 0.0; … ; 0.0 0.0 … 0.0 0.0; 0.0 0.0 … 0.0 0.0], Float32[0.0 0.0 … 0.0 0.0; 0.0 0.0 … 0.0 0.0; … ; 0.0 0.0 … 0.0 0.0; 0.0 0.0 … 0.0 0.0], Float32[0.0 0.0 … 0.0 0.0; 0.0 0.0 … 0.0 0.0; … ; 0.0 0.0 … 0.0 0.0; 0.0 0.0 … 0.0 0.0], Float32[0.0 0.0 … 0.0 0.0; 0.0 0.0 … 0.0 0.0; … ; 0.0 0.0 … 0.0 0.0; 0.0 0.0 … 0.0 0.0], Int16[], (2,)), Main.WaterLily.Poisson{Float32, Matrix{Float32}, Array{Float32, 3}}([1.0 1.0 … 1.0 1.0; 1.0 1.0 … 1.0 1.0; … ; 1.0 1.0 … 1.0 1.0; 1.0 1.0 … 1.0 1.0;;; 1.0 1.0 … 1.0 1.0; 1.0 1.0 … 1.0 1.0; … ; 1.0 1.0 … 1.0 1.0; 1.0 1.0 … 1.0 1.0], Float32[0.0 0.0 … 0.0 0.0; 0.0 -4.0 … -4.0 0.0; … ; 0.0 -4.0 … -4.0 0.0; 0.0 0.0 … 0.0 0.0], Float32[0.0 0.0 … 0.0 0.0; 0.0 -0.25 … -0.25 0.0; … ; 0.0 -0.25 … -0.25 0.0; 0.0 0.0 … 0.0 0.0], Float32[0.0 0.0 … 0.0 0.0; 0.0 0.0 … 0.0 0.0; … ; 0.0 0.0 … 0.0 0.0; 0.0 0.0 … 0.0 0.0], Float32[0.0 0.0 … 0.0 0.0; 0.0 0.0 … 0.0 0.0; … ; 0.0 0.0 … 0.0 0.0; 0.0 0.0 … 0.0 0.0], Float32[0.0 0.0 … 0.0 0.0; 0.0 0.0 … 0.0 0.0; … ; 0.0 0.0 … 0.0 0.0; 0.0 0.0 … 0.0 0.0], Float32[0.0 0.0 … 0.0 0.0; 0.0 0.0 … 0.0 0.0; … ; 0.0 0.0 … 0.0 0.0; 0.0 0.0 … 0.0 0.0], Int16[], (2,)), Main.WaterLily.Poisson{Float32, Matrix{Float32}, Array{Float32, 3}}([1.0 1.0 … 1.0 1.0; 1.0 1.0 … 1.0 1.0; … ; 1.0 1.0 … 1.0 1.0; 1.0 1.0 … 1.0 1.0;;; 1.0 1.0 … 1.0 1.0; 1.0 1.0 … 1.0 1.0; … ; 1.0 1.0 … 1.0 1.0; 1.0 1.0 … 1.0 1.0], Float32[0.0 0.0 … 0.0 0.0; 0.0 -4.0 … -4.0 0.0; … ; 0.0 -4.0 … -4.0 0.0; 0.0 0.0 … 0.0 0.0], Float32[0.0 0.0 … 0.0 0.0; 0.0 -0.25 … -0.25 0.0; … ; 0.0 -0.25 … -0.25 0.0; 0.0 0.0 … 0.0 0.0], Float32[0.0 0.0 … 0.0 0.0; 0.0 0.0 … 0.0 0.0; … ; 0.0 0.0 … 0.0 0.0; 0.0 0.0 … 0.0 0.0], Float32[0.0 0.0 … 0.0 0.0; 0.0 0.0 … 0.0 0.0; … ; 0.0 0.0 … 0.0 0.0; 0.0 0.0 … 0.0 0.0], Float32[0.0 0.0 … 0.0 0.0; 0.0 0.0 … 0.0 0.0; … ; 0.0 0.0 … 0.0 0.0; 0.0 0.0 … 0.0 0.0], Float32[0.0 0.0 … 0.0 0.0; 0.0 0.0 … 0.0 0.0; … ; 0.0 0.0 … 0.0 0.0; 0.0 0.0 … 0.0 0.0], Int16[], (2,)), Main.WaterLily.Poisson{Float32, Matrix{Float32}, Array{Float32, 3}}([1.0 1.0 … 1.0 1.0; 1.0 1.0 … 1.0 1.0; … ; 1.0 1.0 … 1.0 1.0; 1.0 1.0 … 1.0 1.0;;; 1.0 1.0 … 1.0 1.0; 1.0 1.0 … 1.0 1.0; … ; 1.0 1.0 … 1.0 1.0; 1.0 1.0 … 1.0 1.0], Float32[0.0 0.0 … 0.0 0.0; 0.0 -4.0 … -4.0 0.0; … ; 0.0 -4.0 … -4.0 0.0; 0.0 0.0 … 0.0 0.0], Float32[0.0 0.0 … 0.0 0.0; 0.0 -0.25 … -0.25 0.0; … ; 0.0 -0.25 … -0.25 0.0; 0.0 0.0 … 0.0 0.0], Float32[0.0 0.0 … 0.0 0.0; 0.0 0.0 … 0.0 0.0; … ; 0.0 0.0 … 0.0 0.0; 0.0 0.0 … 0.0 0.0], Float32[0.0 0.0 … 0.0 0.0; 0.0 0.0 … 0.0 0.0; … ; 0.0 0.0 … 0.0 0.0; 0.0 0.0 … 0.0 0.0], Float32[0.0 0.0 … 0.0 0.0; 0.0 0.0 … 0.0 0.0; … ; 0.0 0.0 … 0.0 0.0; 0.0 0.0 … 0.0 0.0], Float32[0.0 0.0 … 0.0 0.0; 0.0 0.0 … 0.0 0.0; … ; 0.0 0.0 … 0.0 0.0; 0.0 0.0 … 0.0 0.0], Int16[], (2,)), Main.WaterLily.Poisson{Float32, Matrix{Float32}, Array{Float32, 3}}([1.0 1.0 … 1.0 1.0; 1.0 1.0 … 1.0 1.0; … ; 1.0 1.0 … 1.0 1.0; 1.0 1.0 … 1.0 1.0;;; 1.0 1.0 … 1.0 1.0; 1.0 1.0 … 1.0 1.0; … ; 1.0 1.0 … 1.0 1.0; 1.0 1.0 … 1.0 1.0], Float32[0.0 0.0 … 0.0 0.0; 0.0 -4.0 … -4.0 0.0; … ; 0.0 -4.0 … -4.0 0.0; 0.0 0.0 … 0.0 0.0], Float32[0.0 0.0 … 0.0 0.0; 0.0 -0.25 … -0.25 0.0; … ; 0.0 -0.25 … -0.25 0.0; 0.0 0.0 … 0.0 0.0], Float32[0.0 0.0 … 0.0 0.0; 0.0 0.0 … 0.0 0.0; … ; 0.0 0.0 … 0.0 0.0; 0.0 0.0 … 0.0 0.0], Float32[0.0 0.0 … 0.0 0.0; 0.0 0.0 … 0.0 0.0; … ; 0.0 0.0 … 0.0 0.0; 0.0 0.0 … 0.0 0.0], Float32[0.0 0.0 … 0.0 0.0; 0.0 0.0 … 0.0 0.0; … ; 0.0 0.0 … 0.0 0.0; 0.0 0.0 … 0.0 0.0], Float32[0.0 0.0 … 0.0 0.0; 0.0 0.0 … 0.0 0.0; … ; 0.0 0.0 … 0.0 0.0; 0.0 0.0 … 0.0 0.0], Int16[], (2,))], Int16[], (2,)))"
      ]
     },
     "metadata": {},
     "output_type": "display_data"
    }
   ],
   "source": [
    "sim = TGV(;Re=10000)\n",
    "# sim = TGVHalfPer(;Re=10000)"
   ]
  },
  {
   "cell_type": "code",
   "execution_count": 35,
   "metadata": {},
   "outputs": [
    {
     "name": "stdout",
     "output_type": "stream",
     "text": [
      "125.369673 seconds (175.19 M allocations: 8.192 GiB, 1.61% gc time)\n"
     ]
    },
    {
     "name": "stderr",
     "output_type": "stream",
     "text": [
      "┌ Info: Saved animation to /tmp/jl_g9gTY1erAl.gif\n",
      "└ @ Plots /home/tyhuang/.julia/packages/Plots/3BCH5/src/animation.jl:156\n"
     ]
    }
   ],
   "source": [
    "omegaInter = sim_gif!(sim,duration=20, step=0.01,clims=(-10,10),plotbody=false,verbose=false,levels=32);\n"
   ]
  },
  {
   "cell_type": "code",
   "execution_count": 36,
   "metadata": {},
   "outputs": [],
   "source": [
    "#save(\"omega_Stay.jld\", \"data\", -omegaInter)"
   ]
  },
  {
   "cell_type": "code",
   "execution_count": 37,
   "metadata": {},
   "outputs": [],
   "source": [
    "omega_Stay = load(\"omega_Stay.jld\")[\"data\"];\n",
    "omega_Moving = load(\"omega_Moving.jld\")[\"data\"];\n",
    "t = range(0.00,5,501)\n",
    "\n",
    "omega_ini = omega_Stay[1];\n",
    "omega_Ana = omega_ini*exp.(-8*pi^2/100*t);"
   ]
  },
  {
   "cell_type": "code",
   "execution_count": 38,
   "metadata": {},
   "outputs": [
    {
     "data": {
      "text/plain": [
       "\"/home/tyhuang/Documents/Github/WaterLily.jl/test/TYTest/TGVHalfPer_TravelingStationaryOmegaError.png\""
      ]
     },
     "metadata": {},
     "output_type": "display_data"
    }
   ],
   "source": [
    "pythonplot()\n",
    "plot(t, (omega_Stay[1:end]-omega_Ana[1:end])./omega_Ana[1:end], label=\"Stationary\")\n",
    "plot!(t, (omega_Moving[1:end]-omega_Ana[1:end])./omega_Ana[1:end],legend=:topleft, label=\"Traveling\")\n",
    "savefig(\"TGVHalfPer_TravelingStationaryOmegaError.png\")\n",
    "\n",
    "# plot!()"
   ]
  },
  {
   "cell_type": "code",
   "execution_count": 39,
   "metadata": {},
   "outputs": [
    {
     "data": {
      "text/plain": [
       "\"/home/tyhuang/Documents/Github/WaterLily.jl/test/TYTest/TGVHalfPer_AnalyticalOmega.png\""
      ]
     },
     "metadata": {},
     "output_type": "display_data"
    }
   ],
   "source": [
    "pythonplot()\n",
    "plot(t, omega_Ana[1:end])\n",
    "savefig(\"TGVHalfPer_AnalyticalOmega.png\")"
   ]
  }
 ],
 "metadata": {
  "kernelspec": {
   "display_name": "Julia 1.9.2",
   "language": "julia",
   "name": "julia-1.9"
  },
  "language_info": {
   "file_extension": ".jl",
   "mimetype": "application/julia",
   "name": "julia",
   "version": "1.9.2"
  },
  "orig_nbformat": 4
 },
 "nbformat": 4,
 "nbformat_minor": 2
}
