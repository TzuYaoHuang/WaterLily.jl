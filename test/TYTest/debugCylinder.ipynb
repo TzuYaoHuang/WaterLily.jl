{
 "cells": [
  {
   "cell_type": "code",
   "execution_count": 1,
   "metadata": {},
   "outputs": [],
   "source": [
    "include(\"../../src/WaterLily.jl\")\n",
    "\n",
    "using Plots\n",
    "using Statistics"
   ]
  },
  {
   "cell_type": "code",
   "execution_count": 2,
   "metadata": {},
   "outputs": [
    {
     "name": "stdout",
     "output_type": "stream",
     "text": [
      "Pois_Cylinder_Neu_\n"
     ]
    }
   ],
   "source": [
    "optPois = \"Pois\"\n",
    "optSour = \"Cylinder\"\n",
    "optBCon = \"Per\"\n",
    "\n",
    "stepbystep = false\n",
    "\n",
    "computationID = optPois * \"_\" * optSour * \"_\" * optBCon * \"_\"\n",
    "print(computationID,\"\\n\")"
   ]
  },
  {
   "cell_type": "code",
   "execution_count": 3,
   "metadata": {},
   "outputs": [],
   "source": [
    "T=Float32\n",
    "N = (5*2^7,2^7)\n",
    "#N = (2^8,2^8)\n",
    "D = length(N)\n",
    "Ng = N .+ 2\n",
    "Nd = (Ng..., 2)\n",
    "figureSize = Int.(N.*3.75)\n",
    "\n",
    "l = N[2]\n",
    "xc, yc = N[1]/2+1.5,N[2]/2+1.5\n",
    "R = 2^5\n",
    "U=1\n",
    "\n",
    "optSour==\"Cylinder\" && function SourceFunc(x,y)\n",
    "    r = sqrt.((x.-xc).^2+(y.-yc).^2)\n",
    "\n",
    "    return -32*pi^6*R^4*U^2/l^6*(\n",
    "        (cosh.(2*pi*(x.-xc)/l).+cos.(2*pi*(y.-yc)/l))./\n",
    "        (cosh.(2*pi*(x.-xc)/l).-cos.(2*pi*(y.-yc)/l)).^3\n",
    "    ).*(r .> 0.99R)\n",
    "end\n",
    "\n",
    "optSour==\"Cylinder\" && function ManufacSol(x,y)\n",
    "    r = sqrt.((x.-xc).^2+(y.-yc).^2)\n",
    "\n",
    "    return 2*R^2*pi^2*U^2/l^4*(\n",
    "        (l^2*cosh.(2*pi*(x.-xc)/l).*cos.(2*pi*(y.-yc)/l).-pi^2*R^2 .-l^2)./\n",
    "        (cosh.(2*pi*(x.-xc)/l).-cos.(2*pi*(y.-yc)/l)).^2\n",
    "    ).*(r .> 0.99R)\n",
    "end;\n",
    "\n",
    "optSour==\"Cylinder\" && function UGradU(i, xyz)\n",
    "    x,y = @. (xyz.- Array([xc,yc]))*2*pi/l\n",
    "    coeff = 8*U^2*R^2*pi^3/l^5 ./ (-cosh.(x).+cos.(y)).^3\n",
    "    commonInner = pi^2*R^2+l^2 .- l^2*cos(y).*cosh(x)/2\n",
    "    i==1 && return coeff*(commonInner .- l^2* cos(y).^2/2).*sinh(x) # u_x\n",
    "    i==2 && return coeff*(commonInner .- l^2*cosh(x).^2/2).* sin(y) # u_y\n",
    "    return 0.                              # u_z\n",
    "end;\n",
    "\n",
    "optSour==\"OneCylinder\" && function SourceFunc(x,y)\n",
    "    r = sqrt.((x.-xc).^2+(y.-yc).^2)\n",
    "\n",
    "    return -8*U^2*R^4 ./r.^6 .*(r .> 0.99R)\n",
    "end\n",
    "\n",
    "optSour==\"OneCylinder\" && function ManufacSol(x,y)\n",
    "    r = sqrt.((x.-xc).^2+(y.-yc).^2)\n",
    "\n",
    "    return -U^2*R^2/2*(R^2 .-2*(x.-xc).^2 .+2*(y.-yc).^2)./r.^4 .*(r .> 0.99R)\n",
    "end;"
   ]
  },
  {
   "cell_type": "code",
   "execution_count": 4,
   "metadata": {},
   "outputs": [
    {
     "data": {
      "text/plain": [
       "642×130×2 Array{Float64, 3}:\n",
       "[:, :, 1] =\n",
       " 0.0  0.0  0.0  0.0  0.0  0.0  0.0  0.0  …  0.0  0.0  0.0  0.0  0.0  0.0  0.0\n",
       " 0.0  0.0  0.0  0.0  0.0  0.0  0.0  0.0     0.0  0.0  0.0  0.0  0.0  0.0  0.0\n",
       " 1.0  1.0  1.0  1.0  1.0  1.0  1.0  1.0     1.0  1.0  1.0  1.0  1.0  1.0  1.0\n",
       " 1.0  1.0  1.0  1.0  1.0  1.0  1.0  1.0     1.0  1.0  1.0  1.0  1.0  1.0  1.0\n",
       " 1.0  1.0  1.0  1.0  1.0  1.0  1.0  1.0     1.0  1.0  1.0  1.0  1.0  1.0  1.0\n",
       " 1.0  1.0  1.0  1.0  1.0  1.0  1.0  1.0  …  1.0  1.0  1.0  1.0  1.0  1.0  1.0\n",
       " 1.0  1.0  1.0  1.0  1.0  1.0  1.0  1.0     1.0  1.0  1.0  1.0  1.0  1.0  1.0\n",
       " 1.0  1.0  1.0  1.0  1.0  1.0  1.0  1.0     1.0  1.0  1.0  1.0  1.0  1.0  1.0\n",
       " 1.0  1.0  1.0  1.0  1.0  1.0  1.0  1.0     1.0  1.0  1.0  1.0  1.0  1.0  1.0\n",
       " 1.0  1.0  1.0  1.0  1.0  1.0  1.0  1.0     1.0  1.0  1.0  1.0  1.0  1.0  1.0\n",
       " ⋮                        ⋮              ⋱            ⋮                   \n",
       " 1.0  1.0  1.0  1.0  1.0  1.0  1.0  1.0     1.0  1.0  1.0  1.0  1.0  1.0  1.0\n",
       " 1.0  1.0  1.0  1.0  1.0  1.0  1.0  1.0     1.0  1.0  1.0  1.0  1.0  1.0  1.0\n",
       " 1.0  1.0  1.0  1.0  1.0  1.0  1.0  1.0  …  1.0  1.0  1.0  1.0  1.0  1.0  1.0\n",
       " 1.0  1.0  1.0  1.0  1.0  1.0  1.0  1.0     1.0  1.0  1.0  1.0  1.0  1.0  1.0\n",
       " 1.0  1.0  1.0  1.0  1.0  1.0  1.0  1.0     1.0  1.0  1.0  1.0  1.0  1.0  1.0\n",
       " 1.0  1.0  1.0  1.0  1.0  1.0  1.0  1.0     1.0  1.0  1.0  1.0  1.0  1.0  1.0\n",
       " 1.0  1.0  1.0  1.0  1.0  1.0  1.0  1.0     1.0  1.0  1.0  1.0  1.0  1.0  1.0\n",
       " 1.0  1.0  1.0  1.0  1.0  1.0  1.0  1.0  …  1.0  1.0  1.0  1.0  1.0  1.0  1.0\n",
       " 0.0  0.0  0.0  0.0  0.0  0.0  0.0  0.0     0.0  0.0  0.0  0.0  0.0  0.0  0.0\n",
       "\n",
       "[:, :, 2] =\n",
       " 0.0  0.0  1.0  1.0  1.0  1.0  1.0  1.0  …  1.0  1.0  1.0  1.0  1.0  1.0  0.0\n",
       " 0.0  0.0  1.0  1.0  1.0  1.0  1.0  1.0     1.0  1.0  1.0  1.0  1.0  1.0  0.0\n",
       " 0.0  0.0  1.0  1.0  1.0  1.0  1.0  1.0     1.0  1.0  1.0  1.0  1.0  1.0  0.0\n",
       " 0.0  0.0  1.0  1.0  1.0  1.0  1.0  1.0     1.0  1.0  1.0  1.0  1.0  1.0  0.0\n",
       " 0.0  0.0  1.0  1.0  1.0  1.0  1.0  1.0     1.0  1.0  1.0  1.0  1.0  1.0  0.0\n",
       " 0.0  0.0  1.0  1.0  1.0  1.0  1.0  1.0  …  1.0  1.0  1.0  1.0  1.0  1.0  0.0\n",
       " 0.0  0.0  1.0  1.0  1.0  1.0  1.0  1.0     1.0  1.0  1.0  1.0  1.0  1.0  0.0\n",
       " 0.0  0.0  1.0  1.0  1.0  1.0  1.0  1.0     1.0  1.0  1.0  1.0  1.0  1.0  0.0\n",
       " 0.0  0.0  1.0  1.0  1.0  1.0  1.0  1.0     1.0  1.0  1.0  1.0  1.0  1.0  0.0\n",
       " 0.0  0.0  1.0  1.0  1.0  1.0  1.0  1.0     1.0  1.0  1.0  1.0  1.0  1.0  0.0\n",
       " ⋮                        ⋮              ⋱            ⋮                   \n",
       " 0.0  0.0  1.0  1.0  1.0  1.0  1.0  1.0     1.0  1.0  1.0  1.0  1.0  1.0  0.0\n",
       " 0.0  0.0  1.0  1.0  1.0  1.0  1.0  1.0     1.0  1.0  1.0  1.0  1.0  1.0  0.0\n",
       " 0.0  0.0  1.0  1.0  1.0  1.0  1.0  1.0  …  1.0  1.0  1.0  1.0  1.0  1.0  0.0\n",
       " 0.0  0.0  1.0  1.0  1.0  1.0  1.0  1.0     1.0  1.0  1.0  1.0  1.0  1.0  0.0\n",
       " 0.0  0.0  1.0  1.0  1.0  1.0  1.0  1.0     1.0  1.0  1.0  1.0  1.0  1.0  0.0\n",
       " 0.0  0.0  1.0  1.0  1.0  1.0  1.0  1.0     1.0  1.0  1.0  1.0  1.0  1.0  0.0\n",
       " 0.0  0.0  1.0  1.0  1.0  1.0  1.0  1.0     1.0  1.0  1.0  1.0  1.0  1.0  0.0\n",
       " 0.0  0.0  1.0  1.0  1.0  1.0  1.0  1.0  …  1.0  1.0  1.0  1.0  1.0  1.0  0.0\n",
       " 0.0  0.0  1.0  1.0  1.0  1.0  1.0  1.0     1.0  1.0  1.0  1.0  1.0  1.0  0.0"
      ]
     },
     "metadata": {},
     "output_type": "display_data"
    }
   ],
   "source": [
    "body = WaterLily.AutoBody((x,t)->√sum(abs2, x .- Array([xc,yc])) - R);\n",
    "flow = WaterLily.Flow(N,(0,0));\n",
    "flow.μ₀ .= 1.0;\n",
    "WaterLily.measure!(flow,body;ϵ=1);\n",
    "μ₀ = flow.μ₀;\n",
    "#WaterLily.BC!(μ₀,(1,1))"
   ]
  },
  {
   "cell_type": "code",
   "execution_count": 5,
   "metadata": {},
   "outputs": [
    {
     "data": {
      "text/plain": [
       "642×130 Matrix{Float64}:\n",
       " 0.0  0.0  0.0  0.0  0.0  0.0  0.0  0.0  …  0.0  0.0  0.0  0.0  0.0  0.0  0.0\n",
       " 0.0  0.0  0.0  0.0  0.0  0.0  0.0  0.0     0.0  0.0  0.0  0.0  0.0  0.0  0.0\n",
       " 0.0  0.0  0.0  0.0  0.0  0.0  0.0  0.0     0.0  0.0  0.0  0.0  0.0  0.0  0.0\n",
       " 0.0  0.0  0.0  0.0  0.0  0.0  0.0  0.0     0.0  0.0  0.0  0.0  0.0  0.0  0.0\n",
       " 0.0  0.0  0.0  0.0  0.0  0.0  0.0  0.0     0.0  0.0  0.0  0.0  0.0  0.0  0.0\n",
       " 0.0  0.0  0.0  0.0  0.0  0.0  0.0  0.0  …  0.0  0.0  0.0  0.0  0.0  0.0  0.0\n",
       " 0.0  0.0  0.0  0.0  0.0  0.0  0.0  0.0     0.0  0.0  0.0  0.0  0.0  0.0  0.0\n",
       " 0.0  0.0  0.0  0.0  0.0  0.0  0.0  0.0     0.0  0.0  0.0  0.0  0.0  0.0  0.0\n",
       " 0.0  0.0  0.0  0.0  0.0  0.0  0.0  0.0     0.0  0.0  0.0  0.0  0.0  0.0  0.0\n",
       " 0.0  0.0  0.0  0.0  0.0  0.0  0.0  0.0     0.0  0.0  0.0  0.0  0.0  0.0  0.0\n",
       " ⋮                        ⋮              ⋱            ⋮                   \n",
       " 0.0  0.0  0.0  0.0  0.0  0.0  0.0  0.0     0.0  0.0  0.0  0.0  0.0  0.0  0.0\n",
       " 0.0  0.0  0.0  0.0  0.0  0.0  0.0  0.0     0.0  0.0  0.0  0.0  0.0  0.0  0.0\n",
       " 0.0  0.0  0.0  0.0  0.0  0.0  0.0  0.0  …  0.0  0.0  0.0  0.0  0.0  0.0  0.0\n",
       " 0.0  0.0  0.0  0.0  0.0  0.0  0.0  0.0     0.0  0.0  0.0  0.0  0.0  0.0  0.0\n",
       " 0.0  0.0  0.0  0.0  0.0  0.0  0.0  0.0     0.0  0.0  0.0  0.0  0.0  0.0  0.0\n",
       " 0.0  0.0  0.0  0.0  0.0  0.0  0.0  0.0     0.0  0.0  0.0  0.0  0.0  0.0  0.0\n",
       " 0.0  0.0  0.0  0.0  0.0  0.0  0.0  0.0     0.0  0.0  0.0  0.0  0.0  0.0  0.0\n",
       " 0.0  0.0  0.0  0.0  0.0  0.0  0.0  0.0  …  0.0  0.0  0.0  0.0  0.0  0.0  0.0\n",
       " 0.0  0.0  0.0  0.0  0.0  0.0  0.0  0.0     0.0  0.0  0.0  0.0  0.0  0.0  0.0"
      ]
     },
     "metadata": {},
     "output_type": "display_data"
    }
   ],
   "source": [
    "#optPois==\"MulP\" && WaterLily.BC!(μ₀,ntuple(zero, D))\n",
    "\n",
    "X = transpose(reshape([i-0.5 for i=1:Ng[1] for j=1:Ng[2]],Ng[2],Ng[1]))\n",
    "Y = transpose(reshape([j-0.5 for i=1:Ng[1] for j=1:Ng[2]],Ng[2],Ng[1]))\n",
    "\n",
    "source = SourceFunc(X,Y);\n",
    "realSol = ManufacSol(X,Y);\n",
    "originalSource = copy(source);\n",
    "solIni = zeros(size(realSol));\n",
    "\n",
    "# BCPer!(solIni)\n",
    "# WaterLily.BCPer!(source)\n",
    "# WaterLily.BC(source)\n",
    "# BCPerVec!(μ₀)"
   ]
  },
  {
   "cell_type": "code",
   "execution_count": 6,
   "metadata": {},
   "outputs": [],
   "source": [
    "optPois==\"Pois\" && (pp = WaterLily.Poisson(solIni, μ₀, source));\n",
    "optPois==\"MulP\" && (pp = WaterLily.MultiLevelPoisson(solIni, μ₀, source));"
   ]
  },
  {
   "cell_type": "code",
   "execution_count": 7,
   "metadata": {},
   "outputs": [
    {
     "data": {
      "text/plain": [
       "false"
      ]
     },
     "metadata": {},
     "output_type": "display_data"
    }
   ],
   "source": [
    "reconstructedSource = zeros(size(source))\n",
    "\n",
    "for i∈2:N[1]+1, j∈2:N[2]+1\n",
    "    I = CartesianIndex(i,j)\n",
    "    reconstructedSource[I] = WaterLily.mult(I,μ₀,pp.D,realSol)\n",
    "end\n",
    "optPois==\"Pois\" && (pTest = WaterLily.Poisson(solIni, μ₀, reconstructedSource));\n",
    "optPois==\"MulP\" && (pTest = WaterLily.MultiLevelPoisson(solIni, μ₀, source));\n",
    "# reconstructedSource.*= (r .> R);"
   ]
  },
  {
   "cell_type": "code",
   "execution_count": 8,
   "metadata": {},
   "outputs": [],
   "source": [
    "stepbystep && for i ∈ 1:200\n",
    "    partRes = WaterLily.solver!(pTest;log=true,tol=1e-12,itmx=20)\n",
    "    # pTest.x .-= mean(pTest.x[2:end-1,2:end-1]) \n",
    "    pythonplot()\n",
    "    contourf(X[2:end-1,2:end-1],Y[2:end-1,2:end-1],pTest.x[2:end-1,2:end-1];levels=32)\n",
    "    savefig(\"bunchFig/\" * computationID * \"Calculated_\"*string(i, pad=4)*\".png\")\n",
    "    # pythonplot()\n",
    "    # contourf(X[2:end-1,2:end-1],Y[2:end-1,2:end-1],log10.(abs.(realSol[2:end-1,2:end-1]-pTest.x[2:end-1,2:end-1]).+1e-12);levels=32)\n",
    "    # savefig(\"bunchFig/\" * computationID * \"Error_\"*string(i, pad=4)*\".png\")\n",
    "\n",
    "    push!(res,partRes...)\n",
    "end\n",
    "\n",
    "!stepbystep && (res = WaterLily.solver!(pTest;log=true,tol=1e-12,itmx=5e3));"
   ]
  },
  {
   "cell_type": "code",
   "execution_count": 9,
   "metadata": {},
   "outputs": [
    {
     "data": {
      "text/plain": [
       "640×128 Matrix{Float64}:\n",
       " -2.22108e-6   -2.17296e-6   -2.01019e-6   …  -2.11476e-6   -2.27922e-6\n",
       " -2.60147e-6   -2.43703e-6   -2.3906e-6       -2.49517e-6   -2.54327e-6\n",
       " -3.2957e-6    -3.24761e-6   -3.08487e-6      -3.18941e-6   -3.35384e-6\n",
       " -4.53635e-6   -4.37195e-6   -4.32558e-6      -4.43009e-6   -4.47815e-6\n",
       " -6.09063e-6   -6.04262e-6   -5.87994e-6      -5.98441e-6   -6.14877e-6\n",
       " -8.19105e-6   -8.02674e-6   -7.98047e-6   …  -8.08489e-6   -8.13284e-6\n",
       " -1.06047e-5   -1.05568e-5   -1.03942e-5      -1.04986e-5   -1.06629e-5\n",
       " -1.35641e-5   -1.33999e-5   -1.33538e-5      -1.3458e-5    -1.35058e-5\n",
       " -1.68361e-5   -1.67884e-5   -1.66259e-5      -1.67301e-5   -1.68942e-5\n",
       " -2.06532e-5   -2.04891e-5   -2.04432e-5      -2.05473e-5   -2.05949e-5\n",
       "  ⋮                                        ⋱                \n",
       " -0.000428449  -0.000428262  -0.000428243     -0.000428345  -0.000428366\n",
       " -0.000425092  -0.000425071  -0.000424886     -0.000424988  -0.000425176\n",
       " -0.000422324  -0.000422136  -0.000422117     -0.000422219  -0.00042224\n",
       " -0.00041981   -0.000419789  -0.000419603     -0.000419706  -0.000419894\n",
       " -0.000417886  -0.000417698  -0.000417679  …  -0.000417782  -0.000417803\n",
       " -0.000416218  -0.000416197  -0.000416011     -0.000416113  -0.000416301\n",
       " -0.000415139  -0.000414951  -0.000414931     -0.000415034  -0.000415055\n",
       " -0.000414316  -0.000414295  -0.000414108     -0.000414211  -0.000414399\n",
       " -0.000414082  -0.000413894  -0.000413875     -0.000413978  -0.000413999"
      ]
     },
     "metadata": {},
     "output_type": "display_data"
    }
   ],
   "source": [
    "#print(res)\n",
    "r = sqrt.((X.-xc).^2+(Y.-yc).^2);\n",
    "pTest.x .-= mean(pTest.x[2,2:end-1]);\n",
    "realSol .-= mean(realSol[2,2:end-1]);\n",
    "#pTest.x .*= (r .> R);\n",
    "mu = (μ₀[2:end-1,2:end-1,1]+μ₀[3:end,2:end-1,1]+μ₀[2:end-1,2:end-1,2]+μ₀[2:end-1,3:end,2])/4\n",
    "error = realSol[2:end-1,2:end-1]-pTest.x[2:end-1,2:end-1]"
   ]
  },
  {
   "cell_type": "code",
   "execution_count": 22,
   "metadata": {},
   "outputs": [
    {
     "data": {
      "text/plain": [
       "\"/home/tyhuang/Documents/Github/WaterLily.jl/test/TYTest/Pois_Cylinder_Neu_Source.png\""
      ]
     },
     "metadata": {},
     "output_type": "display_data"
    }
   ],
   "source": [
    "pythonplot()\n",
    "contourf(X[2:end-1,2:end-1],Y[2:end-1,2:end-1],originalSource[2:end-1,2:end-1];levels=32,aspect_ratio = :equal)\n",
    "plot!(size=figureSize)\n",
    "savefig(computationID * \"Source.png\")"
   ]
  },
  {
   "cell_type": "code",
   "execution_count": 11,
   "metadata": {},
   "outputs": [
    {
     "data": {
      "text/plain": [
       "\"/home/tyhuang/Documents/Github/WaterLily.jl/test/TYTest/Pois_Cylinder_Neu_Correct.png\""
      ]
     },
     "metadata": {},
     "output_type": "display_data"
    }
   ],
   "source": [
    "pythonplot()\n",
    "contourf(X[2:end-1,2:end-1],Y[2:end-1,2:end-1],realSol[2:end-1,2:end-1];levels=32,aspect_ratio = :equal)\n",
    "plot!(size=figureSize)\n",
    "savefig(computationID * \"Correct.png\")"
   ]
  },
  {
   "cell_type": "code",
   "execution_count": 12,
   "metadata": {},
   "outputs": [
    {
     "data": {
      "text/plain": [
       "\"/home/tyhuang/Documents/Github/WaterLily.jl/test/TYTest/Pois_Cylinder_Neu_Residual.png\""
      ]
     },
     "metadata": {},
     "output_type": "display_data"
    }
   ],
   "source": [
    "pythonplot()\n",
    "plot(res)\n",
    "plot!(yscale=:log10, minorgrid=true)\n",
    "savefig(computationID * \"Residual.png\")"
   ]
  },
  {
   "cell_type": "code",
   "execution_count": 13,
   "metadata": {},
   "outputs": [
    {
     "data": {
      "text/plain": [
       "\"/home/tyhuang/Documents/Github/WaterLily.jl/test/TYTest/Pois_Cylinder_Neu_Calculated.png\""
      ]
     },
     "metadata": {},
     "output_type": "display_data"
    }
   ],
   "source": [
    "pythonplot()\n",
    "contourf(X[2:end-1,2:end-1],Y[2:end-1,2:end-1],pTest.x[2:end-1,2:end-1];levels=32,aspect_ratio = :equal)\n",
    "plot!(size=figureSize)\n",
    "savefig(computationID * \"Calculated.png\")"
   ]
  },
  {
   "cell_type": "code",
   "execution_count": 14,
   "metadata": {},
   "outputs": [
    {
     "data": {
      "text/plain": [
       "\"/home/tyhuang/Documents/Github/WaterLily.jl/test/TYTest/Pois_Cylinder_Neu_Error.png\""
      ]
     },
     "metadata": {},
     "output_type": "display_data"
    }
   ],
   "source": [
    "pythonplot()\n",
    "contourf(X[2:end-1,2:end-1],Y[2:end-1,2:end-1],log10.(abs.(error).+1e-12);levels=32,aspect_ratio = :equal)\n",
    "plot!(size=figureSize)\n",
    "savefig(computationID * \"Error.png\")"
   ]
  },
  {
   "cell_type": "code",
   "execution_count": 21,
   "metadata": {},
   "outputs": [
    {
     "data": {
      "text/plain": [
       "\"/home/tyhuang/Documents/Github/WaterLily.jl/test/TYTest/Pois_Cylinder_Neu_ReconstructedSource.png\""
      ]
     },
     "metadata": {},
     "output_type": "display_data"
    }
   ],
   "source": [
    "pythonplot()\n",
    "contourf(X[2:end-1,2:end-1],Y[2:end-1,2:end-1],log10.(abs.(reconstructedSource[2:end-1,2:end-1]));levels=32,aspect_ratio = :equal)\n",
    "plot!(size=figureSize)\n",
    "savefig(computationID * \"ReconstructedSource.png\")"
   ]
  },
  {
   "cell_type": "code",
   "execution_count": 16,
   "metadata": {},
   "outputs": [
    {
     "data": {
      "text/plain": [
       "\"/home/tyhuang/Documents/Github/WaterLily.jl/test/TYTest/Pois_Cylinder_Neu_DiffSource.png\""
      ]
     },
     "metadata": {},
     "output_type": "display_data"
    }
   ],
   "source": [
    "pythonplot()\n",
    "contourf(X[2:end-1,2:end-1],Y[2:end-1,2:end-1],log10.(abs.(originalSource[2:end-1,2:end-1]-reconstructedSource[2:end-1,2:end-1]));levels=32,aspect_ratio = :equal)\n",
    "plot!(size=figureSize)\n",
    "savefig(computationID * \"DiffSource.png\")"
   ]
  },
  {
   "cell_type": "code",
   "execution_count": 17,
   "metadata": {},
   "outputs": [
    {
     "data": {
      "text/plain": [
       "\"/home/tyhuang/Documents/Github/WaterLily.jl/test/TYTest/Pois_Cylinder_Neu_SourceRatio.png\""
      ]
     },
     "metadata": {},
     "output_type": "display_data"
    }
   ],
   "source": [
    "pythonplot()\n",
    "contourf(X[2:end-1,2:end-1],Y[2:end-1,2:end-1],log10.(abs.(reconstructedSource[2:end-1,2:end-1]./(originalSource[2:end-1,2:end-1].+1e-12)));levels=32,aspect_ratio = :equal)\n",
    "plot!(size=figureSize)\n",
    "savefig(computationID * \"SourceRatio.png\")"
   ]
  },
  {
   "cell_type": "code",
   "execution_count": 18,
   "metadata": {},
   "outputs": [
    {
     "data": {
      "text/plain": [
       "\"/home/tyhuang/Documents/Github/WaterLily.jl/test/TYTest/Pois_Cylinder_Neu_CenterP.png\""
      ]
     },
     "metadata": {},
     "output_type": "display_data"
    }
   ],
   "source": [
    "pythonplot()\n",
    "#plot(pTest.x[:,Int(N[2]/2)])\n",
    "#plot(reconstructedSource[:,Int(N[2]/2)]+reconstructedSource[:,Int(N[2]/2+1)])\n",
    "#plot(μ₀[:,Int(N[2]/2),2])\n",
    "plot(error[:,Int(N[2]/2)])\n",
    "plot!(minorgrid=true)\n",
    "savefig(computationID * \"CenterP.png\")"
   ]
  },
  {
   "cell_type": "code",
   "execution_count": 19,
   "metadata": {},
   "outputs": [
    {
     "data": {
      "text/plain": [
       "\"/home/tyhuang/Documents/Github/WaterLily.jl/test/TYTest/Pois_Cylinder_Neu_Kernel.png\""
      ]
     },
     "metadata": {},
     "output_type": "display_data"
    }
   ],
   "source": [
    "pythonplot()\n",
    "contourf(X[2:end-1,2:end-1],Y[2:end-1,2:end-1],mu;levels=32,aspect_ratio = :equal)\n",
    "plot!(size=figureSize)\n",
    "savefig(computationID * \"Kernel.png\")"
   ]
  },
  {
   "cell_type": "code",
   "execution_count": 20,
   "metadata": {},
   "outputs": [
    {
     "data": {
      "text/plain": [
       "65×65 Matrix{Float64}:\n",
       " 1.0  1.0  1.0  1.0  1.0  1.0  1.0  1.0  …  1.0  1.0  1.0  1.0  1.0  1.0  1.0\n",
       " 1.0  1.0  1.0  1.0  1.0  1.0  1.0  1.0     1.0  1.0  1.0  1.0  1.0  1.0  1.0\n",
       " 1.0  1.0  1.0  1.0  1.0  1.0  1.0  1.0     1.0  1.0  1.0  1.0  1.0  1.0  1.0\n",
       " 1.0  1.0  1.0  1.0  1.0  1.0  1.0  1.0     1.0  1.0  1.0  1.0  1.0  1.0  1.0\n",
       " 1.0  1.0  1.0  1.0  1.0  1.0  1.0  1.0     1.0  1.0  1.0  1.0  1.0  1.0  1.0\n",
       " 1.0  1.0  1.0  1.0  1.0  1.0  1.0  1.0  …  1.0  1.0  1.0  1.0  1.0  1.0  1.0\n",
       " 1.0  1.0  1.0  1.0  1.0  1.0  1.0  1.0     1.0  1.0  1.0  1.0  1.0  1.0  1.0\n",
       " 1.0  1.0  1.0  1.0  1.0  1.0  1.0  1.0     1.0  1.0  1.0  1.0  1.0  1.0  1.0\n",
       " 1.0  1.0  1.0  1.0  1.0  1.0  1.0  1.0     1.0  1.0  1.0  1.0  1.0  1.0  1.0\n",
       " 1.0  1.0  1.0  1.0  1.0  1.0  1.0  1.0     1.0  1.0  1.0  1.0  1.0  1.0  1.0\n",
       " ⋮                        ⋮              ⋱            ⋮                   \n",
       " 1.0  1.0  1.0  1.0  1.0  1.0  1.0  1.0     1.0  1.0  1.0  1.0  1.0  1.0  1.0\n",
       " 1.0  1.0  1.0  1.0  1.0  1.0  1.0  1.0     1.0  1.0  1.0  1.0  1.0  1.0  1.0\n",
       " 1.0  1.0  1.0  1.0  1.0  1.0  1.0  1.0     1.0  1.0  1.0  1.0  1.0  1.0  1.0\n",
       " 1.0  1.0  1.0  1.0  1.0  1.0  1.0  1.0     1.0  1.0  1.0  1.0  1.0  1.0  1.0\n",
       " 1.0  1.0  1.0  1.0  1.0  1.0  1.0  1.0  …  1.0  1.0  1.0  1.0  1.0  1.0  1.0\n",
       " 1.0  1.0  1.0  1.0  1.0  1.0  1.0  1.0     1.0  1.0  1.0  1.0  1.0  1.0  1.0\n",
       " 1.0  1.0  1.0  1.0  1.0  1.0  1.0  1.0     1.0  1.0  1.0  1.0  1.0  1.0  1.0\n",
       " 1.0  1.0  1.0  1.0  1.0  1.0  1.0  1.0     1.0  1.0  1.0  1.0  1.0  1.0  1.0\n",
       " 1.0  1.0  1.0  1.0  1.0  1.0  1.0  1.0     1.0  1.0  1.0  1.0  1.0  1.0  1.0"
      ]
     },
     "metadata": {},
     "output_type": "display_data"
    }
   ],
   "source": [
    "μ₀[Int(Ng[1]/2-R):Int(Ng[1]/2+R),Int(Ng[2]/2-R):Int(Ng[2]/2+R),2]"
   ]
  }
 ],
 "metadata": {
  "kernelspec": {
   "display_name": "Julia 1.9.0",
   "language": "julia",
   "name": "julia-1.9"
  },
  "language_info": {
   "file_extension": ".jl",
   "mimetype": "application/julia",
   "name": "julia",
   "version": "1.9.0"
  },
  "orig_nbformat": 4
 },
 "nbformat": 4,
 "nbformat_minor": 2
}
