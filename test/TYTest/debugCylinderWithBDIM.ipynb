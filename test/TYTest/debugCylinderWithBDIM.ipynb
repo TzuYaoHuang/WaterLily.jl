{
 "cells": [
  {
   "cell_type": "code",
   "execution_count": 29,
   "metadata": {},
   "outputs": [
    {
     "name": "stderr",
     "output_type": "stream",
     "text": [
      "WARNING: replacing module WaterLily.\n"
     ]
    }
   ],
   "source": [
    "include(\"../../src/WaterLily.jl\")\n",
    "\n",
    "using Plots\n",
    "using Statistics\n",
    "using JLD"
   ]
  },
  {
   "cell_type": "code",
   "execution_count": 30,
   "metadata": {},
   "outputs": [
    {
     "name": "stdout",
     "output_type": "stream",
     "text": [
      "MulP_CylinderLow_Per_\n"
     ]
    }
   ],
   "source": [
    "optPois = \"MulP\"\n",
    "optSour = \"Cylinder\"\n",
    "optBCon = \"Per\"\n",
    "\n",
    "stepbystep = false\n",
    "\n",
    "computationID = optPois * \"_\" * optSour * \"Low\" * \"_\" * optBCon * \"_\"\n",
    "print(computationID,\"\\n\")"
   ]
  },
  {
   "cell_type": "code",
   "execution_count": 31,
   "metadata": {},
   "outputs": [],
   "source": [
    "T=Float32\n",
    "N = (5*2^8,2^8)\n",
    "#N = (2^8,2^8)\n",
    "D = length(N)\n",
    "Ng = N .+ 2\n",
    "Nd = (Ng..., 2)\n",
    "figureSize = Int.(N.*3.75)\n",
    "\n",
    "l = N[2]\n",
    "xc = N[1]/2+1.5\n",
    "yc = 0+1.5\n",
    "R = 2^6\n",
    "U=1\n",
    "\n",
    "optSour==\"Cylinder\" && function SourceFunc(x,y)\n",
    "    r = sqrt.((x.-xc).^2+(y.-yc).^2)\n",
    "\n",
    "    return -32*pi^6*R^4*U^2/l^6*(\n",
    "        (cosh.(2*pi*(x.-xc)/l).+cos.(2*pi*(y.-yc)/l))./\n",
    "        (cosh.(2*pi*(x.-xc)/l).-cos.(2*pi*(y.-yc)/l)).^3\n",
    "    ).*(r .> R)\n",
    "end\n",
    "\n",
    "optSour==\"Cylinder\" && function ManufacSol(x,y)\n",
    "    r = sqrt.((x.-xc).^2+(y.-yc).^2)\n",
    "\n",
    "    return 2*R^2*pi^2*U^2/l^4*(\n",
    "        (l^2*cosh.(2*pi*(x.-xc)/l).*cos.(2*pi*(y.-yc)/l).-pi^2*R^2 .-l^2)./\n",
    "        (cosh.(2*pi*(x.-xc)/l).-cos.(2*pi*(y.-yc)/l)).^2\n",
    "    ).*(r .> R)\n",
    "end;\n",
    "\n",
    "optSour==\"Cylinder\" && function UGradU(i, xyz)\n",
    "    x,y = @. (xyz.- [xc,yc])*2*pi/l\n",
    "    coeff = 8*U^2*R^2*pi^3/l^5 ./ (-cosh.(x).+cos.(y)).^3\n",
    "    commonInner = pi^2*R^2+l^2 .- l^2*cos(y).*cosh(x)/2\n",
    "    i==1 && return coeff .*(commonInner .- l^2* cos(y).^2/2).*sinh(x) # u_x\n",
    "    i==2 && return coeff .*(commonInner .- l^2*cosh(x).^2/2).* sin(y) # u_y\n",
    "    return 0.                              # u_z\n",
    "end;\n",
    "\n",
    "optSour==\"OneCylinder\" && function SourceFunc(x,y)\n",
    "    r = sqrt.((x.-xc).^2+(y.-yc).^2)\n",
    "\n",
    "    return -8*U^2*R^4 ./r.^6 .*(r .> 0.99R)\n",
    "end\n",
    "\n",
    "optSour==\"OneCylinder\" && function ManufacSol(x,y)\n",
    "    r = sqrt.((x.-xc).^2+(y.-yc).^2)\n",
    "\n",
    "    return -U^2*R^2/2*(R^2 .-2*(x.-xc).^2 .+2*(y.-yc).^2)./r.^4 .*(r .> 0.99R)\n",
    "end;"
   ]
  },
  {
   "cell_type": "code",
   "execution_count": 32,
   "metadata": {},
   "outputs": [],
   "source": [
    "#optPois==\"MulP\" && WaterLily.BC!(μ₀,ntuple(zero, D))\n",
    "\n",
    "X = transpose(reshape([i-0.5 for i=1:Ng[1] for j=1:Ng[2]],Ng[2],Ng[1]))\n",
    "Y = transpose(reshape([j-0.5 for i=1:Ng[1] for j=1:Ng[2]],Ng[2],Ng[1]))\n",
    "\n",
    "source = SourceFunc(X,Y);\n",
    "realSol = ManufacSol(X,Y);\n",
    "originalSource = copy(source);\n",
    "solIni = rand(Ng...);\n",
    "\n",
    "WaterLily.BCPer!(solIni)\n",
    "# WaterLily.BCPer!(source)\n",
    "# WaterLily.BC(source)\n",
    "# BCPerVec!(μ₀)"
   ]
  },
  {
   "cell_type": "code",
   "execution_count": 33,
   "metadata": {},
   "outputs": [
    {
     "data": {
      "text/plain": [
       "1282×258×2 Array{Float64, 3}:\n",
       "[:, :, 1] =\n",
       " 1.0  1.0  1.0  1.0  1.0  1.0  1.0  1.0  …  1.0  1.0  1.0  1.0  1.0  1.0  1.0\n",
       " 1.0  1.0  1.0  1.0  1.0  1.0  1.0  1.0     1.0  1.0  1.0  1.0  1.0  1.0  1.0\n",
       " 1.0  1.0  1.0  1.0  1.0  1.0  1.0  1.0     1.0  1.0  1.0  1.0  1.0  1.0  1.0\n",
       " 1.0  1.0  1.0  1.0  1.0  1.0  1.0  1.0     1.0  1.0  1.0  1.0  1.0  1.0  1.0\n",
       " 1.0  1.0  1.0  1.0  1.0  1.0  1.0  1.0     1.0  1.0  1.0  1.0  1.0  1.0  1.0\n",
       " 1.0  1.0  1.0  1.0  1.0  1.0  1.0  1.0  …  1.0  1.0  1.0  1.0  1.0  1.0  1.0\n",
       " 1.0  1.0  1.0  1.0  1.0  1.0  1.0  1.0     1.0  1.0  1.0  1.0  1.0  1.0  1.0\n",
       " 1.0  1.0  1.0  1.0  1.0  1.0  1.0  1.0     1.0  1.0  1.0  1.0  1.0  1.0  1.0\n",
       " 1.0  1.0  1.0  1.0  1.0  1.0  1.0  1.0     1.0  1.0  1.0  1.0  1.0  1.0  1.0\n",
       " 1.0  1.0  1.0  1.0  1.0  1.0  1.0  1.0     1.0  1.0  1.0  1.0  1.0  1.0  1.0\n",
       " ⋮                        ⋮              ⋱                      ⋮         \n",
       " 1.0  1.0  1.0  1.0  1.0  1.0  1.0  1.0     1.0  1.0  1.0  1.0  1.0  1.0  1.0\n",
       " 1.0  1.0  1.0  1.0  1.0  1.0  1.0  1.0     1.0  1.0  1.0  1.0  1.0  1.0  1.0\n",
       " 1.0  1.0  1.0  1.0  1.0  1.0  1.0  1.0  …  1.0  1.0  1.0  1.0  1.0  1.0  1.0\n",
       " 1.0  1.0  1.0  1.0  1.0  1.0  1.0  1.0     1.0  1.0  1.0  1.0  1.0  1.0  1.0\n",
       " 1.0  1.0  1.0  1.0  1.0  1.0  1.0  1.0     1.0  1.0  1.0  1.0  1.0  1.0  1.0\n",
       " 1.0  1.0  1.0  1.0  1.0  1.0  1.0  1.0     1.0  1.0  1.0  1.0  1.0  1.0  1.0\n",
       " 1.0  1.0  1.0  1.0  1.0  1.0  1.0  1.0     1.0  1.0  1.0  1.0  1.0  1.0  1.0\n",
       " 1.0  1.0  1.0  1.0  1.0  1.0  1.0  1.0  …  1.0  1.0  1.0  1.0  1.0  1.0  1.0\n",
       " 1.0  1.0  1.0  1.0  1.0  1.0  1.0  1.0     1.0  1.0  1.0  1.0  1.0  1.0  1.0\n",
       "\n",
       "[:, :, 2] =\n",
       " 1.0  1.0  1.0  1.0  1.0  1.0  1.0  1.0  …  1.0  1.0  1.0  1.0  1.0  1.0  1.0\n",
       " 1.0  1.0  1.0  1.0  1.0  1.0  1.0  1.0     1.0  1.0  1.0  1.0  1.0  1.0  1.0\n",
       " 1.0  1.0  1.0  1.0  1.0  1.0  1.0  1.0     1.0  1.0  1.0  1.0  1.0  1.0  1.0\n",
       " 1.0  1.0  1.0  1.0  1.0  1.0  1.0  1.0     1.0  1.0  1.0  1.0  1.0  1.0  1.0\n",
       " 1.0  1.0  1.0  1.0  1.0  1.0  1.0  1.0     1.0  1.0  1.0  1.0  1.0  1.0  1.0\n",
       " 1.0  1.0  1.0  1.0  1.0  1.0  1.0  1.0  …  1.0  1.0  1.0  1.0  1.0  1.0  1.0\n",
       " 1.0  1.0  1.0  1.0  1.0  1.0  1.0  1.0     1.0  1.0  1.0  1.0  1.0  1.0  1.0\n",
       " 1.0  1.0  1.0  1.0  1.0  1.0  1.0  1.0     1.0  1.0  1.0  1.0  1.0  1.0  1.0\n",
       " 1.0  1.0  1.0  1.0  1.0  1.0  1.0  1.0     1.0  1.0  1.0  1.0  1.0  1.0  1.0\n",
       " 1.0  1.0  1.0  1.0  1.0  1.0  1.0  1.0     1.0  1.0  1.0  1.0  1.0  1.0  1.0\n",
       " ⋮                        ⋮              ⋱                      ⋮         \n",
       " 1.0  1.0  1.0  1.0  1.0  1.0  1.0  1.0     1.0  1.0  1.0  1.0  1.0  1.0  1.0\n",
       " 1.0  1.0  1.0  1.0  1.0  1.0  1.0  1.0     1.0  1.0  1.0  1.0  1.0  1.0  1.0\n",
       " 1.0  1.0  1.0  1.0  1.0  1.0  1.0  1.0  …  1.0  1.0  1.0  1.0  1.0  1.0  1.0\n",
       " 1.0  1.0  1.0  1.0  1.0  1.0  1.0  1.0     1.0  1.0  1.0  1.0  1.0  1.0  1.0\n",
       " 1.0  1.0  1.0  1.0  1.0  1.0  1.0  1.0     1.0  1.0  1.0  1.0  1.0  1.0  1.0\n",
       " 1.0  1.0  1.0  1.0  1.0  1.0  1.0  1.0     1.0  1.0  1.0  1.0  1.0  1.0  1.0\n",
       " 1.0  1.0  1.0  1.0  1.0  1.0  1.0  1.0     1.0  1.0  1.0  1.0  1.0  1.0  1.0\n",
       " 1.0  1.0  1.0  1.0  1.0  1.0  1.0  1.0  …  1.0  1.0  1.0  1.0  1.0  1.0  1.0\n",
       " 1.0  1.0  1.0  1.0  1.0  1.0  1.0  1.0     1.0  1.0  1.0  1.0  1.0  1.0  1.0"
      ]
     },
     "metadata": {},
     "output_type": "display_data"
    }
   ],
   "source": [
    "body = WaterLily.AutoBody((x,t)->√sum(abs2, x .- Array([xc,yc])) - R);\n",
    "body+= WaterLily.AutoBody((x,t)->√sum(abs2, x .- Array([xc,yc+l])) - R);\n",
    "flow = WaterLily.Flow(N,(0,0);Δt=1.0);\n",
    "flow.μ₀ .= 1.0;\n",
    "WaterLily.measure!(flow,body;ϵ=1);\n",
    "μ₀ = flow.μ₀\n",
    "#WaterLily.BC!(μ₀,(1,1))"
   ]
  },
  {
   "cell_type": "code",
   "execution_count": 34,
   "metadata": {},
   "outputs": [],
   "source": [
    "WaterLily.apply!(UGradU, flow.f)\n",
    "WaterLily.BDIM!(flow)\n",
    "WaterLily.BCPerVec!(flow.u)\n"
   ]
  },
  {
   "cell_type": "code",
   "execution_count": 35,
   "metadata": {},
   "outputs": [
    {
     "data": {
      "text/plain": [
       "1282×258 Matrix{Float64}:\n",
       " 1.82514e-8   1.82514e-8   1.82404e-8   …  1.82514e-8   1.82514e-8\n",
       " 1.12117e-14  1.12117e-14  1.12048e-14     1.12117e-14  1.12117e-14\n",
       " 1.14859e-14  1.14859e-14  1.14789e-14     1.14859e-14  1.14859e-14\n",
       " 1.17668e-14  1.17668e-14  1.17596e-14     1.17668e-14  1.17668e-14\n",
       " 1.20543e-14  1.20543e-14  1.2047e-14      1.20543e-14  1.20543e-14\n",
       " 1.23488e-14  1.23488e-14  1.23413e-14  …  1.23488e-14  1.23488e-14\n",
       " 1.26504e-14  1.26504e-14  1.26426e-14     1.26504e-14  1.26504e-14\n",
       " 1.29591e-14  1.29591e-14  1.29512e-14     1.29591e-14  1.29591e-14\n",
       " 1.32753e-14  1.32753e-14  1.32672e-14     1.32753e-14  1.32753e-14\n",
       " 1.3599e-14   1.3599e-14   1.35907e-14     1.3599e-14   1.3599e-14\n",
       " ⋮                                      ⋱               \n",
       " 1.32753e-14  1.32753e-14  1.32672e-14     1.32753e-14  1.32753e-14\n",
       " 1.29591e-14  1.29591e-14  1.29512e-14     1.29591e-14  1.29591e-14\n",
       " 1.26504e-14  1.26504e-14  1.26426e-14  …  1.26504e-14  1.26504e-14\n",
       " 1.23488e-14  1.23488e-14  1.23413e-14     1.23488e-14  1.23488e-14\n",
       " 1.20543e-14  1.20543e-14  1.2047e-14      1.20543e-14  1.20543e-14\n",
       " 1.17668e-14  1.17668e-14  1.17596e-14     1.17668e-14  1.17668e-14\n",
       " 1.14859e-14  1.14859e-14  1.14789e-14     1.14859e-14  1.14859e-14\n",
       " 1.82514e-8   1.82514e-8   1.82404e-8   …  1.82514e-8   1.82514e-8\n",
       " 1.12117e-14  1.12117e-14  1.12048e-14     1.12117e-14  1.12117e-14"
      ]
     },
     "metadata": {},
     "output_type": "display_data"
    }
   ],
   "source": [
    "\n",
    "BDIMSource = zeros(size(source))\n",
    "for i∈2:N[1]+1, j∈2:N[2]+1\n",
    "    I = CartesianIndex(i,j)\n",
    "    BDIMSource[I] = -WaterLily.div(I,flow.u)\n",
    "end\n",
    "WaterLily.BCPer!(BDIMSource)\n",
    "OriginalBDIMSource = copy(BDIMSource)"
   ]
  },
  {
   "cell_type": "code",
   "execution_count": 36,
   "metadata": {},
   "outputs": [],
   "source": [
    "optPois==\"Pois\" && (pTest = WaterLily.Poisson(solIni, μ₀, BDIMSource));\n",
    "optPois==\"MulP\" && (pTest = WaterLily.MultiLevelPoisson(solIni, μ₀, BDIMSource));"
   ]
  },
  {
   "cell_type": "code",
   "execution_count": 37,
   "metadata": {},
   "outputs": [],
   "source": [
    "stepbystep && for i ∈ 1:200\n",
    "    partRes = WaterLily.solver!(pTest;log=true,tol=1e-12,itmx=20)\n",
    "    # pTest.x .-= mean(pTest.x[2:end-1,2:end-1]) \n",
    "    pythonplot()\n",
    "    contourf(X[2:end-1,2:end-1],Y[2:end-1,2:end-1],pTest.x[2:end-1,2:end-1];levels=32)\n",
    "    savefig(\"bunchFig/\" * computationID * \"Calculated_\"*string(i, pad=4)*\".png\")\n",
    "    # pythonplot()\n",
    "    # contourf(X[2:end-1,2:end-1],Y[2:end-1,2:end-1],log10.(abs.(realSol[2:end-1,2:end-1]-pTest.x[2:end-1,2:end-1]).+1e-12);levels=32)\n",
    "    # savefig(\"bunchFig/\" * computationID * \"Error_\"*string(i, pad=4)*\".png\")\n",
    "\n",
    "    push!(res,partRes...)\n",
    "end\n",
    "\n",
    "!stepbystep && (res = WaterLily.solver!(pTest;log=true,tol=1e-12,itmx=1e3));"
   ]
  },
  {
   "cell_type": "code",
   "execution_count": 38,
   "metadata": {},
   "outputs": [
    {
     "data": {
      "text/plain": [
       "1282×258 Matrix{Float64}:\n",
       " 0.0   0.0           0.0          …   0.0           0.0          0.0\n",
       " 0.0  -1.64257e-11  -1.64257e-11     -1.64257e-11  -1.64257e-11  0.0\n",
       " 0.0  -1.35774e-11  -1.35774e-11     -1.35774e-11  -1.35774e-11  0.0\n",
       " 0.0  -1.36773e-11  -1.36773e-11     -1.36773e-11  -1.36773e-11  0.0\n",
       " 0.0  -9.99196e-12  -9.99196e-12     -9.99196e-12  -9.99196e-12  0.0\n",
       " 0.0  -1.48923e-11  -1.48923e-11  …  -1.48923e-11  -1.48923e-11  0.0\n",
       " 0.0  -1.11463e-11  -1.11463e-11     -1.11463e-11  -1.11463e-11  0.0\n",
       " 0.0  -1.12545e-11  -1.12545e-11     -1.12545e-11  -1.12545e-11  0.0\n",
       " 0.0  -8.11825e-12  -8.11825e-12     -8.11825e-12  -8.11825e-12  0.0\n",
       " 0.0  -1.56974e-11  -1.56974e-11     -1.56974e-11  -1.56974e-11  0.0\n",
       " ⋮                                ⋱   ⋮                          \n",
       " 0.0  -1.63189e-11  -1.63189e-11     -1.63189e-11  -1.63189e-11  0.0\n",
       " 0.0  -1.33961e-11  -1.33961e-11     -1.33961e-11  -1.33961e-11  0.0\n",
       " 0.0  -1.34988e-11  -1.34988e-11  …  -1.34988e-11  -1.34988e-11  0.0\n",
       " 0.0  -9.96196e-12  -9.96196e-12     -9.96196e-12  -9.96196e-12  0.0\n",
       " 0.0  -1.4652e-11   -1.4652e-11      -1.4652e-11   -1.4652e-11   0.0\n",
       " 0.0  -1.10756e-11  -1.10756e-11     -1.10756e-11  -1.10756e-11  0.0\n",
       " 0.0  -1.11722e-11  -1.11722e-11     -1.11722e-11  -1.11722e-11  0.0\n",
       " 0.0  -8.37515e-12  -8.37515e-12  …  -8.37515e-12  -8.37515e-12  0.0\n",
       " 0.0   0.0           0.0              0.0           0.0          0.0"
      ]
     },
     "metadata": {},
     "output_type": "display_data"
    }
   ],
   "source": [
    "#print(res)\n",
    "r = min.(sqrt.((X.-xc).^2+(Y.-yc).^2),sqrt.((X.-xc).^2+(Y.-yc.-l).^2));\n",
    "pTest.x .-= mean(pTest.x[2,2:end-1]);\n",
    "realSol .-= mean(realSol[2,2:end-1]);\n",
    "pTest.x .*= (r .> R);\n",
    "realSol .*= (r .> R);\n",
    "mu = (μ₀[2:end-1,2:end-1,1]+μ₀[3:end,2:end-1,1]+μ₀[2:end-1,2:end-1,2]+μ₀[2:end-1,3:end,2])/4\n",
    "errors = realSol[2:end-1,2:end-1]-pTest.x[2:end-1,2:end-1]\n",
    "\n",
    "optPois==\"Pois\" && (lc = pTest.r)\n",
    "optPois==\"MulP\" && (lc = pTest.levels[1].r)"
   ]
  },
  {
   "cell_type": "code",
   "execution_count": 39,
   "metadata": {},
   "outputs": [
    {
     "data": {
      "text/plain": [
       "\"/home/tyhuang/Documents/Github/WaterLily.jl/test/TYTest/MulP_CylinderLow_Per_Source.png\""
      ]
     },
     "metadata": {},
     "output_type": "display_data"
    }
   ],
   "source": [
    "pythonplot()\n",
    "contourf(X[2:end-1,2:end-1],Y[2:end-1,2:end-1],originalSource[2:end-1,2:end-1];levels=32,aspect_ratio = :equal)\n",
    "plot!(size=figureSize)\n",
    "savefig(computationID * \"Source.png\")"
   ]
  },
  {
   "cell_type": "code",
   "execution_count": 40,
   "metadata": {},
   "outputs": [
    {
     "data": {
      "text/plain": [
       "\"/home/tyhuang/Documents/Github/WaterLily.jl/test/TYTest/MulP_CylinderLow_Per_Correct.png\""
      ]
     },
     "metadata": {},
     "output_type": "display_data"
    }
   ],
   "source": [
    "pythonplot()\n",
    "contourf(X[2:end-1,2:end-1],Y[2:end-1,2:end-1],realSol[2:end-1,2:end-1];levels=32,aspect_ratio = :equal) #(-2:0.1:0.5)\n",
    "plot!(size=figureSize)\n",
    "savefig(computationID * \"Correct.png\")"
   ]
  },
  {
   "cell_type": "code",
   "execution_count": 41,
   "metadata": {},
   "outputs": [
    {
     "data": {
      "text/plain": [
       "\"/home/tyhuang/Documents/Github/WaterLily.jl/test/TYTest/MulP_CylinderLow_Per_Residual.png\""
      ]
     },
     "metadata": {},
     "output_type": "display_data"
    }
   ],
   "source": [
    "pythonplot()\n",
    "plot(res)\n",
    "plot!(yscale=:log10, minorgrid=true)\n",
    "savefig(computationID * \"Residual.png\")"
   ]
  },
  {
   "cell_type": "code",
   "execution_count": 42,
   "metadata": {},
   "outputs": [
    {
     "data": {
      "text/plain": [
       "\"/home/tyhuang/Documents/Github/WaterLily.jl/test/TYTest/MulP_CylinderLow_Per_Error.png\""
      ]
     },
     "metadata": {},
     "output_type": "display_data"
    }
   ],
   "source": [
    "pythonplot()\n",
    "contourf(X[2:end-1,2:end-1],Y[2:end-1,2:end-1],log10.(abs.(errors).+1e-12);levels=32,aspect_ratio = :equal)\n",
    "plot!(size=figureSize)\n",
    "savefig(computationID * \"Error.png\")"
   ]
  },
  {
   "cell_type": "code",
   "execution_count": 43,
   "metadata": {},
   "outputs": [
    {
     "data": {
      "text/plain": [
       "\"/home/tyhuang/Documents/Github/WaterLily.jl/test/TYTest/MulP_CylinderLow_Per_Calculated.png\""
      ]
     },
     "metadata": {},
     "output_type": "display_data"
    }
   ],
   "source": [
    "pythonplot()\n",
    "contourf(X[2:end-1,2:end-1],Y[2:end-1,2:end-1],pTest.x[2:end-1,2:end-1];levels=(-2:0.1:0.5),aspect_ratio = :equal)\n",
    "plot!(size=figureSize)\n",
    "savefig(computationID * \"Calculated.png\")"
   ]
  },
  {
   "cell_type": "code",
   "execution_count": 44,
   "metadata": {},
   "outputs": [
    {
     "data": {
      "text/plain": [
       "\"/home/tyhuang/Documents/Github/WaterLily.jl/test/TYTest/MulP_CylinderLow_Per_LogCalculated.png\""
      ]
     },
     "metadata": {},
     "output_type": "display_data"
    }
   ],
   "source": [
    "pythonplot()\n",
    "contourf(X[2:end-1,2:end-1],Y[2:end-1,2:end-1],log10.(abs.(pTest.x[2:end-1,2:end-1]));levels=32,aspect_ratio = :equal)\n",
    "plot!(size=figureSize)\n",
    "savefig(computationID * \"LogCalculated.png\")"
   ]
  },
  {
   "cell_type": "code",
   "execution_count": 45,
   "metadata": {},
   "outputs": [
    {
     "data": {
      "text/plain": [
       "\"/home/tyhuang/Documents/Github/WaterLily.jl/test/TYTest/MulP_CylinderLow_Per_LocalResidul.png\""
      ]
     },
     "metadata": {},
     "output_type": "display_data"
    }
   ],
   "source": [
    "pythonplot()\n",
    "contourf(X[2:end-1,2:end-1],Y[2:end-1,2:end-1],log10.(abs.(lc[2:end-1,2:end-1]).+1e-12);levels=32,aspect_ratio = :equal)\n",
    "plot!(size=figureSize)\n",
    "savefig(computationID * \"LocalResidul.png\")"
   ]
  },
  {
   "cell_type": "code",
   "execution_count": 46,
   "metadata": {},
   "outputs": [
    {
     "data": {
      "text/plain": [
       "\"/home/tyhuang/Documents/Github/WaterLily.jl/test/TYTest/MulP_CylinderLow_Per_ReconstructedSource.png\""
      ]
     },
     "metadata": {},
     "output_type": "display_data"
    }
   ],
   "source": [
    "pythonplot()\n",
    "contourf(X[2:end-1,2:end-1],Y[2:end-1,2:end-1],OriginalBDIMSource[2:end-1,2:end-1];levels=32,aspect_ratio = :equal)\n",
    "plot!(size=figureSize)\n",
    "savefig(computationID * \"ReconstructedSource.png\")"
   ]
  },
  {
   "cell_type": "code",
   "execution_count": 47,
   "metadata": {},
   "outputs": [
    {
     "data": {
      "text/plain": [
       "\"/home/tyhuang/Documents/Github/WaterLily.jl/test/TYTest/MulP_CylinderLow_Per_LogReconstructedSource.png\""
      ]
     },
     "metadata": {},
     "output_type": "display_data"
    }
   ],
   "source": [
    "pythonplot()\n",
    "contourf(X[2:end-1,2:end-1],Y[2:end-1,2:end-1],log10.(abs.(OriginalBDIMSource[2:end-1,2:end-1]).+1e-12);levels=(-12:0.25:-2),aspect_ratio = :equal)\n",
    "plot!(size=figureSize)\n",
    "savefig(computationID * \"LogReconstructedSource.png\")"
   ]
  },
  {
   "cell_type": "code",
   "execution_count": 48,
   "metadata": {},
   "outputs": [
    {
     "data": {
      "text/plain": [
       "\"/home/tyhuang/Documents/Github/WaterLily.jl/test/TYTest/MulP_CylinderLow_Per_LogSource.png\""
      ]
     },
     "metadata": {},
     "output_type": "display_data"
    }
   ],
   "source": [
    "pythonplot()\n",
    "contourf(X[2:end-1,2:end-1],Y[2:end-1,2:end-1],log10.(abs.(originalSource[2:end-1,2:end-1]).+1e-12);levels=(-12:0.25:-2),aspect_ratio = :equal)\n",
    "plot!(size=figureSize)\n",
    "savefig(computationID * \"LogSource.png\")"
   ]
  },
  {
   "cell_type": "code",
   "execution_count": 49,
   "metadata": {},
   "outputs": [
    {
     "data": {
      "text/plain": [
       "\"/home/tyhuang/Documents/Github/WaterLily.jl/test/TYTest/MulP_CylinderLow_Per_DiffSource.png\""
      ]
     },
     "metadata": {},
     "output_type": "display_data"
    }
   ],
   "source": [
    "pythonplot()\n",
    "contourf(X[2:end-1,2:end-1],Y[2:end-1,2:end-1],log10.(abs.(originalSource[2:end-1,2:end-1]-BDIMSource[2:end-1,2:end-1]));levels=32,aspect_ratio = :equal)\n",
    "plot!(size=figureSize)\n",
    "savefig(computationID * \"DiffSource.png\")"
   ]
  },
  {
   "cell_type": "code",
   "execution_count": 50,
   "metadata": {},
   "outputs": [
    {
     "data": {
      "text/plain": [
       "\"/home/tyhuang/Documents/Github/WaterLily.jl/test/TYTest/MulP_CylinderLow_Per_SourceRatio.png\""
      ]
     },
     "metadata": {},
     "output_type": "display_data"
    }
   ],
   "source": [
    "pythonplot()\n",
    "contourf(X[2:end-1,2:end-1],Y[2:end-1,2:end-1],log10.(abs.(OriginalBDIMSource[2:end-1,2:end-1]./(originalSource[2:end-1,2:end-1].+1e-12)));levels=32,aspect_ratio = :equal)\n",
    "plot!(size=figureSize)\n",
    "savefig(computationID * \"SourceRatio.png\")"
   ]
  },
  {
   "cell_type": "code",
   "execution_count": 51,
   "metadata": {},
   "outputs": [
    {
     "data": {
      "text/plain": [
       "\"/home/tyhuang/Documents/Github/WaterLily.jl/test/TYTest/MulP_CylinderLow_Per_CenterP.png\""
      ]
     },
     "metadata": {},
     "output_type": "display_data"
    }
   ],
   "source": [
    "pythonplot()\n",
    "plot(pTest.x[:,Int(N[2]/2)])\n",
    "# plot(reconstructedSource[:,Int(N[2]/2)]+reconstructedSource[:,Int(N[2]/2+1)])\n",
    "# plot(μ₀[:,Int(N[2]/2),2])\n",
    "# plot(error[:,Int(N[2]/2)])\n",
    "plot!(minorgrid=true)\n",
    "savefig(computationID * \"CenterP.png\")"
   ]
  },
  {
   "cell_type": "code",
   "execution_count": 52,
   "metadata": {},
   "outputs": [
    {
     "data": {
      "text/plain": [
       "\"/home/tyhuang/Documents/Github/WaterLily.jl/test/TYTest/MulP_CylinderLow_Per_Kernel.png\""
      ]
     },
     "metadata": {},
     "output_type": "display_data"
    }
   ],
   "source": [
    "pythonplot()\n",
    "contourf(X[2:end-1,2:end-1],Y[2:end-1,2:end-1],mu;levels=32,aspect_ratio = :equal)\n",
    "plot!(size=figureSize)\n",
    "savefig(computationID * \"Kernel.png\")"
   ]
  },
  {
   "cell_type": "code",
   "execution_count": 53,
   "metadata": {},
   "outputs": [
    {
     "data": {
      "text/plain": [
       "129×129 Matrix{Float64}:\n",
       " 1.0  1.0  1.0  1.0  1.0  1.0  1.0  1.0  …  1.0  1.0  1.0  1.0  1.0  1.0  1.0\n",
       " 1.0  1.0  1.0  1.0  1.0  1.0  1.0  1.0     1.0  1.0  1.0  1.0  1.0  1.0  1.0\n",
       " 1.0  1.0  1.0  1.0  1.0  1.0  1.0  1.0     1.0  1.0  1.0  1.0  1.0  1.0  1.0\n",
       " 1.0  1.0  1.0  1.0  1.0  1.0  1.0  1.0     1.0  1.0  1.0  1.0  1.0  1.0  1.0\n",
       " 1.0  1.0  1.0  1.0  1.0  1.0  1.0  1.0     1.0  1.0  1.0  1.0  1.0  1.0  1.0\n",
       " 1.0  1.0  1.0  1.0  1.0  1.0  1.0  1.0  …  1.0  1.0  1.0  1.0  1.0  1.0  1.0\n",
       " 1.0  1.0  1.0  1.0  1.0  1.0  1.0  1.0     1.0  1.0  1.0  1.0  1.0  1.0  1.0\n",
       " 1.0  1.0  1.0  1.0  1.0  1.0  1.0  1.0     1.0  1.0  1.0  1.0  1.0  1.0  1.0\n",
       " 1.0  1.0  1.0  1.0  1.0  1.0  1.0  1.0     1.0  1.0  1.0  1.0  1.0  1.0  1.0\n",
       " 1.0  1.0  1.0  1.0  1.0  1.0  1.0  1.0     1.0  1.0  1.0  1.0  1.0  1.0  1.0\n",
       " ⋮                        ⋮              ⋱                 ⋮              \n",
       " 1.0  1.0  1.0  1.0  1.0  1.0  1.0  1.0  …  1.0  1.0  1.0  1.0  1.0  1.0  1.0\n",
       " 1.0  1.0  1.0  1.0  1.0  1.0  1.0  1.0     1.0  1.0  1.0  1.0  1.0  1.0  1.0\n",
       " 1.0  1.0  1.0  1.0  1.0  1.0  1.0  1.0     1.0  1.0  1.0  1.0  1.0  1.0  1.0\n",
       " 1.0  1.0  1.0  1.0  1.0  1.0  1.0  1.0     1.0  1.0  1.0  1.0  1.0  1.0  1.0\n",
       " 1.0  1.0  1.0  1.0  1.0  1.0  1.0  1.0     1.0  1.0  1.0  1.0  1.0  1.0  1.0\n",
       " 1.0  1.0  1.0  1.0  1.0  1.0  1.0  1.0  …  1.0  1.0  1.0  1.0  1.0  1.0  1.0\n",
       " 1.0  1.0  1.0  1.0  1.0  1.0  1.0  1.0     1.0  1.0  1.0  1.0  1.0  1.0  1.0\n",
       " 1.0  1.0  1.0  1.0  1.0  1.0  1.0  1.0     1.0  1.0  1.0  1.0  1.0  1.0  1.0\n",
       " 1.0  1.0  1.0  1.0  1.0  1.0  1.0  1.0     1.0  1.0  1.0  1.0  1.0  1.0  1.0"
      ]
     },
     "metadata": {},
     "output_type": "display_data"
    }
   ],
   "source": [
    "μ₀[Int(Ng[1]/2-R):Int(Ng[1]/2+R),Int(Ng[2]/2-R):Int(Ng[2]/2+R),2]"
   ]
  },
  {
   "cell_type": "code",
   "execution_count": 54,
   "metadata": {},
   "outputs": [],
   "source": [
    "save(computationID * \"sol.jld\", \"data\", pTest.x[2:end-1,2:end-1])"
   ]
  },
  {
   "cell_type": "code",
   "execution_count": 55,
   "metadata": {},
   "outputs": [
    {
     "ename": "ArgumentError",
     "evalue": "ArgumentError: No file exists at given path: MulP_CylinderLow_Per_sol_middle.jld",
     "output_type": "error",
     "traceback": [
      "ArgumentError: No file exists at given path: MulP_CylinderLow_Per_sol_middle.jld\n",
      "\n",
      "Stacktrace:\n",
      " [1] checkpath_load\n",
      "   @ ~/.julia/packages/FileIO/BE7iZ/src/loadsave.jl:167 [inlined]\n",
      " [2] load(::String; options::Base.Pairs{Symbol, Union{}, Tuple{}, NamedTuple{(), Tuple{}}})\n",
      "   @ FileIO ~/.julia/packages/FileIO/BE7iZ/src/loadsave.jl:110\n",
      " [3] load(::String)\n",
      "   @ FileIO ~/.julia/packages/FileIO/BE7iZ/src/loadsave.jl:109\n",
      " [4] top-level scope\n",
      "   @ ~/Documents/Github/WaterLily.jl/test/TYTest/debugCylinderWithBDIM.ipynb:1"
     ]
    }
   ],
   "source": [
    "middleSol = load(computationID * \"sol_middle.jld\")[\"data\"];\n",
    "downSol = load(computationID * \"sol_down.jld\")[\"data\"];\n",
    "downSolShfit = circshift(downSol,[0,N[1]/2]);"
   ]
  },
  {
   "cell_type": "code",
   "execution_count": 56,
   "metadata": {},
   "outputs": [
    {
     "ename": "UndefVarError",
     "evalue": "UndefVarError: `middleSol` not defined",
     "output_type": "error",
     "traceback": [
      "UndefVarError: `middleSol` not defined\n",
      "\n",
      "Stacktrace:\n",
      " [1] top-level scope\n",
      "   @ ~/Documents/Github/WaterLily.jl/test/TYTest/debugCylinderWithBDIM.ipynb:2"
     ]
    }
   ],
   "source": [
    "pythonplot()\n",
    "contourf(X[2:end-1,2:end-1],Y[2:end-1,2:end-1],log10.(abs.(middleSol-downSolShfit).+1e-12);levels=32,aspect_ratio = :equal)\n",
    "plot!(size=figureSize)\n",
    "savefig(computationID * \"DownMiddleDiff.png\")"
   ]
  }
 ],
 "metadata": {
  "kernelspec": {
   "display_name": "Julia 1.9.0",
   "language": "julia",
   "name": "julia-1.9"
  },
  "language_info": {
   "file_extension": ".jl",
   "mimetype": "application/julia",
   "name": "julia",
   "version": "1.9.0"
  },
  "orig_nbformat": 4
 },
 "nbformat": 4,
 "nbformat_minor": 2
}
