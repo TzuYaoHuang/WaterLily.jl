{
 "cells": [
  {
   "cell_type": "code",
   "execution_count": 65,
   "metadata": {},
   "outputs": [
    {
     "name": "stderr",
     "output_type": "stream",
     "text": [
      "WARNING: replacing module WaterLily.\n"
     ]
    }
   ],
   "source": [
    "include(\"../../src/WaterLily.jl\")\n",
    "\n",
    "using Plots\n",
    "using Statistics"
   ]
  },
  {
   "cell_type": "code",
   "execution_count": 66,
   "metadata": {},
   "outputs": [
    {
     "name": "stdout",
     "output_type": "stream",
     "text": [
      "Pois_HalfPerEasy_Per_\n"
     ]
    }
   ],
   "source": [
    "optPois = \"Pois\"\n",
    "optSour = \"HalfPerEasy\"\n",
    "optBCon = \"Per\"\n",
    "\n",
    "stepbystep = false\n",
    "\n",
    "computationID = optPois * \"_\" * optSour * \"_\" * optBCon * \"_\"\n",
    "print(computationID,\"\\n\")"
   ]
  },
  {
   "cell_type": "code",
   "execution_count": 67,
   "metadata": {},
   "outputs": [
    {
     "data": {
      "text/plain": [
       "ManufacSol (generic function with 1 method)"
      ]
     },
     "metadata": {},
     "output_type": "display_data"
    }
   ],
   "source": [
    "T=Float32\n",
    "N = (2^7,3*2^7)\n",
    "D = length(N)\n",
    "Ng = N .+ 2\n",
    "Nd = (Ng..., 2)\n",
    "\n",
    "offset = -0.3\n",
    "\n",
    "\n",
    "optSour==\"Hard\" && (SourceFunc(x,y) = (\n",
    "    -4 *pi^2 * (1/N[1]^2 + 1/N[2]^2) * sin.(2*pi*(x/N[1].+offset)) .* sin.(2*pi*(y/N[2].+offset)) +\n",
    "    -16*pi^2 * (1/N[1]^2 + 1/N[2]^2) * sin.(8*pi*(x/N[1].+offset)) .* sin.(8*pi*(y/N[2].+offset))\n",
    "))\n",
    "\n",
    "optSour==\"Hard\" && (ManufacSol(x,y) = (\n",
    "    sin.(2*pi*(x/N[1].+offset)) .* sin.(2*pi*(y/N[2].+offset)) +\n",
    "    sin.(8*pi*(x/N[1].+offset)) .* sin.(8*pi*(y/N[2].+offset))/4\n",
    "))\n",
    "\n",
    "optSour==\"HardHalPer\" && (SourceFunc(x,y) = (\n",
    "    -4 *pi^2 * (1/N[1]^2 + 1/N[2]^2) * cos.(2*pi*(x/N[1])) .* cos.(2*pi*(y/N[2].+offset)) +\n",
    "    -16*pi^2 * (1/N[1]^2 + 1/N[2]^2) * cos.(8*pi*(x/N[1])) .* cos.(8*pi*(y/N[2].+offset))\n",
    "))\n",
    "\n",
    "optSour==\"HardHalPer\" && (ManufacSol(x,y) = (\n",
    "    cos.(2*pi*(x/N[1])) .* cos.(2*pi*(y/N[2].+offset)) +\n",
    "    cos.(8*pi*(x/N[1])) .* cos.(8*pi*(y/N[2].+offset))/4\n",
    "))\n",
    "\n",
    "optSour==\"Easy\" && (SourceFunc(x,y) = (\n",
    "    4*pi^2 * (\n",
    "        cos.(2*pi*(x/N[1])) .* (1 .-cos.(2*pi*(y/N[2])))/N[1]^2 +\n",
    "        (1 .-cos.(2*pi*(x/N[1]))) .* cos.(2*pi*(y/N[2]))/N[2]^2\n",
    "    )\n",
    "))\n",
    "\n",
    "optSour==\"Easy\" && (ManufacSol(x,y) = (\n",
    "    (1 .-cos.(2*pi*(x/N[1]))) .* (1 .-cos.(2*pi*(y/N[2]))) \n",
    "))\n",
    "\n",
    "\n",
    "waveNum = 4*pi\n",
    "optSour==\"Middle\" && (SourceFunc(x,y) = (\n",
    "    waveNum^2 * (\n",
    "        cos.(waveNum*(x/N[1])) .* (1 .-cos.(waveNum*(y/N[2])))/N[1]^2 +\n",
    "        (1 .-cos.(waveNum*(x/N[1]))) .* cos.(waveNum*(y/N[2]))/N[2]^2\n",
    "    )\n",
    "))\n",
    "\n",
    "optSour==\"Middle\" && (ManufacSol(x,y) = (\n",
    "    (1 .-cos.(waveNum*(x/N[1]))) .* (1 .-cos.(waveNum*(y/N[2]))) \n",
    "))\n",
    "\n",
    "optSour==\"HalfPerEasy\" && (SourceFunc(x,y) = (\n",
    "    -pi^2*(1/N[1]^2 + 4/N[2]^2) * cos.(1*pi*(x/N[1])) .* sin.(2*pi*(y/N[2]))\n",
    "))\n",
    "\n",
    "optSour==\"HalfPerEasy\" && (ManufacSol(x,y) = (\n",
    "    cos.(1*pi*(x/N[1])) .* sin.(2*pi*(y/N[2]))\n",
    "))"
   ]
  },
  {
   "cell_type": "code",
   "execution_count": 68,
   "metadata": {},
   "outputs": [
    {
     "data": {
      "text/plain": [
       "130×386 Matrix{Float64}:\n",
       " -0.00818052   0.00818052   0.0245394  …  -0.00818052   0.00818052\n",
       " -0.00818052   0.00818052   0.0245394     -0.00818052   0.00818052\n",
       " -0.0081756    0.0081756    0.0245246     -0.0081756    0.0081756\n",
       " -0.00816574   0.00816574   0.024495      -0.00816574   0.00816574\n",
       " -0.00815097   0.00815097   0.0244507     -0.00815097   0.00815097\n",
       " -0.00813129   0.00813129   0.0243917  …  -0.00813129   0.00813129\n",
       " -0.00810671   0.00810671   0.024318      -0.00810671   0.00810671\n",
       " -0.00807725   0.00807725   0.0242296     -0.00807725   0.00807725\n",
       " -0.00804292   0.00804292   0.0241266     -0.00804292   0.00804292\n",
       " -0.00800375   0.00800375   0.0240091     -0.00800375   0.00800375\n",
       "  ⋮                                    ⋱                ⋮\n",
       "  0.00804292  -0.00804292  -0.0241266      0.00804292  -0.00804292\n",
       "  0.00807725  -0.00807725  -0.0242296      0.00807725  -0.00807725\n",
       "  0.00810671  -0.00810671  -0.024318       0.00810671  -0.00810671\n",
       "  0.00813129  -0.00813129  -0.0243917      0.00813129  -0.00813129\n",
       "  0.00815097  -0.00815097  -0.0244507  …   0.00815097  -0.00815097\n",
       "  0.00816574  -0.00816574  -0.024495       0.00816574  -0.00816574\n",
       "  0.0081756   -0.0081756   -0.0245246      0.0081756   -0.0081756\n",
       "  0.00818052  -0.00818052  -0.0245394      0.00818052  -0.00818052\n",
       "  0.00818052  -0.00818052  -0.0245394      0.00818052  -0.00818052"
      ]
     },
     "metadata": {},
     "output_type": "display_data"
    }
   ],
   "source": [
    "solIni = rand(Ng...)*10\n",
    "IniOrig = copy(solIni)\n",
    "source = zeros(Ng)\n",
    "μ₀ = ones(Nd)\n",
    "# WaterLily.BCVecPerNeu!(μ₀,Dirichlet=true, A=zeros(2),perdir=(2,))\n",
    "#optPois==\"MulP\" && WaterLily.BC!(μ₀,ntuple(zero, D))\n",
    "\n",
    "optBCon == \"Neu\" && WaterLily.BC!(solIni)\n",
    "optBCon == \"Per\" && WaterLily.BCPer!(solIni)\n",
    "WaterLily.BCPerNeu!(solIni)\n",
    "# BCPer!(source)\n",
    "# BCPerVec!(μ₀)\n",
    "\n",
    "X = transpose(reshape([i-1.5 for i=1:Ng[1] for j=1:Ng[2]],Ng[2],Ng[1]))\n",
    "Y = transpose(reshape([j-1.5 for i=1:Ng[1] for j=1:Ng[2]],Ng[2],Ng[1]))\n",
    "\n",
    "\n",
    "source = SourceFunc(X,Y)\n",
    "realSol = ManufacSol(X,Y)\n",
    "originalSource = copy(source)\n",
    "\n",
    "realSol .-= mean(realSol[2:end-1,2:end-1])"
   ]
  },
  {
   "cell_type": "code",
   "execution_count": 69,
   "metadata": {},
   "outputs": [
    {
     "data": {
      "text/plain": [
       "false"
      ]
     },
     "metadata": {},
     "output_type": "display_data"
    }
   ],
   "source": [
    "optPois==\"Pois\" && (pTest = WaterLily.Poisson(solIni, μ₀, source,perdir=(2,)))\n",
    "optPois==\"MulP\" && (pTest = WaterLily.MultiLevelPoisson(solIni, μ₀, source,perdir=(2,)))\n"
   ]
  },
  {
   "cell_type": "code",
   "execution_count": 70,
   "metadata": {},
   "outputs": [
    {
     "data": {
      "text/plain": [
       "5001-element Vector{Float64}:\n",
       "    8.128475641730766e6\n",
       " 1633.5937555234173\n",
       "   72.25817376427159\n",
       "   24.46363552056929\n",
       "    6.656662233214044\n",
       "    4.28182699809887\n",
       "    1.748724268033535\n",
       "    1.4534453870372093\n",
       "    0.712762283920526\n",
       "    0.6784689310340324\n",
       "    ⋮\n",
       "    8.569184651961522e-9\n",
       "    8.709424686978414e-9\n",
       "    8.566878199475934e-9\n",
       "    8.707080491595573e-9\n",
       "    8.56457237492406e-9\n",
       "    8.704736934418871e-9\n",
       "    8.562267178128868e-9\n",
       "    8.702394015268375e-9\n",
       "    8.559962608913316e-9"
      ]
     },
     "metadata": {},
     "output_type": "display_data"
    }
   ],
   "source": [
    "res = []\n",
    "stepbystep && for i ∈ 1:200\n",
    "    partRes = WaterLily.solver!(pTest;log=true,tol=1e-12,itmx=20)\n",
    "    # pTest.x .-= mean(pTest.x[2:end-1,2:end-1]) \n",
    "    pythonplot()\n",
    "    contourf(X[2:end-1,2:end-1],Y[2:end-1,2:end-1],pTest.x[2:end-1,2:end-1];levels=32)\n",
    "    savefig(\"bunchFig/\" * computationID * \"Calculated_\"*string(i, pad=4)*\".png\")\n",
    "    # pythonplot()\n",
    "    # contourf(X[2:end-1,2:end-1],Y[2:end-1,2:end-1],log10.(abs.(realSol[2:end-1,2:end-1]-pTest.x[2:end-1,2:end-1]).+1e-12);levels=32)\n",
    "    # savefig(\"bunchFig/\" * computationID * \"Error_\"*string(i, pad=4)*\".png\")\n",
    "\n",
    "    push!(res,partRes...)\n",
    "end\n",
    "\n",
    "!stepbystep && (res = WaterLily.solver!(pTest;log=true,tol=1e-12,itmx=5e3));\n",
    "\n",
    "#print(res)"
   ]
  },
  {
   "cell_type": "code",
   "execution_count": 71,
   "metadata": {},
   "outputs": [
    {
     "data": {
      "text/plain": [
       "130×386 Matrix{Float64}:\n",
       " -0.00818052   0.00818052   0.0245394  …  -0.00818052   0.00818052\n",
       " -0.00818052   0.00818052   0.0245394     -0.00818052   0.00818052\n",
       " -0.0081756    0.0081756    0.0245246     -0.0081756    0.0081756\n",
       " -0.00816574   0.00816574   0.024495      -0.00816574   0.00816574\n",
       " -0.00815097   0.00815097   0.0244507     -0.00815097   0.00815097\n",
       " -0.00813129   0.00813129   0.0243917  …  -0.00813129   0.00813129\n",
       " -0.00810671   0.00810671   0.024318      -0.00810671   0.00810671\n",
       " -0.00807725   0.00807725   0.0242296     -0.00807725   0.00807725\n",
       " -0.00804292   0.00804292   0.0241266     -0.00804292   0.00804292\n",
       " -0.00800375   0.00800375   0.0240091     -0.00800375   0.00800375\n",
       "  ⋮                                    ⋱                ⋮\n",
       "  0.00804292  -0.00804292  -0.0241266      0.00804292  -0.00804292\n",
       "  0.00807725  -0.00807725  -0.0242296      0.00807725  -0.00807725\n",
       "  0.00810671  -0.00810671  -0.024318       0.00810671  -0.00810671\n",
       "  0.00813129  -0.00813129  -0.0243917      0.00813129  -0.00813129\n",
       "  0.00815097  -0.00815097  -0.0244507  …   0.00815097  -0.00815097\n",
       "  0.00816574  -0.00816574  -0.024495       0.00816574  -0.00816574\n",
       "  0.0081756   -0.0081756   -0.0245246      0.0081756   -0.0081756\n",
       "  0.00818052  -0.00818052  -0.0245394      0.00818052  -0.00818052\n",
       "  0.00818052  -0.00818052  -0.0245394      0.00818052  -0.00818052"
      ]
     },
     "metadata": {},
     "output_type": "display_data"
    }
   ],
   "source": [
    "pTest.x .-= mean(pTest.x[2:end-1,2:end-1]) \n",
    "realSol .-= mean(realSol[2:end-1,2:end-1]) "
   ]
  },
  {
   "cell_type": "code",
   "execution_count": 72,
   "metadata": {},
   "outputs": [
    {
     "data": {
      "text/plain": [
       "\"/home/tyhuang/Documents/Github/WaterLily.jl/test/TYTest/Pois_HalfPerEasy_Per_Residual.png\""
      ]
     },
     "metadata": {},
     "output_type": "display_data"
    }
   ],
   "source": [
    "pythonplot()\n",
    "plot(res)\n",
    "plot!(yscale=:log10, minorgrid=true)\n",
    "savefig(computationID * \"Residual.png\")"
   ]
  },
  {
   "cell_type": "code",
   "execution_count": 73,
   "metadata": {},
   "outputs": [
    {
     "data": {
      "text/plain": [
       "\"/home/tyhuang/Documents/Github/WaterLily.jl/test/TYTest/Pois_HalfPerEasy_Per_Calculated.png\""
      ]
     },
     "metadata": {},
     "output_type": "display_data"
    }
   ],
   "source": [
    "pythonplot()\n",
    "contourf(X[2:end-1,2:end-1],Y[2:end-1,2:end-1],pTest.x[2:end-1,2:end-1];levels=32)\n",
    "savefig(computationID * \"Calculated.png\")"
   ]
  },
  {
   "cell_type": "code",
   "execution_count": 74,
   "metadata": {},
   "outputs": [
    {
     "data": {
      "text/plain": [
       "\"/home/tyhuang/Documents/Github/WaterLily.jl/test/TYTest/Pois_HalfPerEasy_Per_Error.png\""
      ]
     },
     "metadata": {},
     "output_type": "display_data"
    }
   ],
   "source": [
    "pythonplot()\n",
    "contourf(X[2:end-1,2:end-1],Y[2:end-1,2:end-1],log10.(abs.(realSol[2:end-1,2:end-1]-pTest.x[2:end-1,2:end-1]).+1e-12);levels=32)\n",
    "savefig(computationID * \"Error.png\")"
   ]
  },
  {
   "cell_type": "code",
   "execution_count": 75,
   "metadata": {},
   "outputs": [
    {
     "data": {
      "text/plain": [
       "\"/home/tyhuang/Documents/Github/WaterLily.jl/test/TYTest/Pois_HalfPerEasy_Per_Correct.png\""
      ]
     },
     "metadata": {},
     "output_type": "display_data"
    }
   ],
   "source": [
    "pythonplot()\n",
    "contourf(X[2:end-1,2:end-1],Y[2:end-1,2:end-1],realSol[2:end-1,2:end-1];levels=32)\n",
    "savefig(computationID * \"Correct.png\")"
   ]
  },
  {
   "cell_type": "code",
   "execution_count": 76,
   "metadata": {},
   "outputs": [
    {
     "data": {
      "text/plain": [
       "\"/home/tyhuang/Documents/Github/WaterLily.jl/test/TYTest/Pois_HalfPerEasy_Per_Source.png\""
      ]
     },
     "metadata": {},
     "output_type": "display_data"
    }
   ],
   "source": [
    "pythonplot()\n",
    "contourf(X[2:end-1,2:end-1],Y[2:end-1,2:end-1],originalSource[2:end-1,2:end-1];levels=32)\n",
    "savefig(computationID * \"Source.png\")"
   ]
  },
  {
   "cell_type": "code",
   "execution_count": 77,
   "metadata": {},
   "outputs": [
    {
     "data": {
      "text/plain": [
       "\"/home/tyhuang/Documents/Github/WaterLily.jl/test/TYTest/Pois_HalfPerEasy_Per_InitialSol.png\""
      ]
     },
     "metadata": {},
     "output_type": "display_data"
    }
   ],
   "source": [
    "pythonplot()\n",
    "contourf(X[2:end-1,2:end-1],Y[2:end-1,2:end-1],IniOrig[2:end-1,2:end-1];levels=32)\n",
    "savefig(computationID * \"InitialSol.png\")"
   ]
  }
 ],
 "metadata": {
  "kernelspec": {
   "display_name": "Julia 1.9.2",
   "language": "julia",
   "name": "julia-1.9"
  },
  "language_info": {
   "file_extension": ".jl",
   "mimetype": "application/julia",
   "name": "julia",
   "version": "1.9.2"
  },
  "orig_nbformat": 4
 },
 "nbformat": 4,
 "nbformat_minor": 2
}
