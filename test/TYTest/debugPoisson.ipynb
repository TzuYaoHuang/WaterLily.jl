{
 "cells": [
  {
   "cell_type": "code",
   "execution_count": 1,
   "metadata": {},
   "outputs": [],
   "source": [
    "include(\"../../src/WaterLily.jl\")\n",
    "\n",
    "using Plots\n",
    "using Statistics"
   ]
  },
  {
   "cell_type": "code",
   "execution_count": 2,
   "metadata": {},
   "outputs": [
    {
     "name": "stdout",
     "output_type": "stream",
     "text": [
      "Pois_Easy_Per_\n"
     ]
    }
   ],
   "source": [
    "optPois = \"Pois\"\n",
    "optSour = \"Easy\"\n",
    "optBCon = \"Per\"\n",
    "\n",
    "stepbystep = false\n",
    "\n",
    "computationID = optPois * \"_\" * optSour * \"_\" * optBCon * \"_\"\n",
    "print(computationID,\"\\n\")"
   ]
  },
  {
   "cell_type": "code",
   "execution_count": 3,
   "metadata": {},
   "outputs": [
    {
     "data": {
      "text/plain": [
       "false"
      ]
     },
     "metadata": {},
     "output_type": "display_data"
    }
   ],
   "source": [
    "T=Float32\n",
    "N = (2^7,3*2^7)\n",
    "D = length(N)\n",
    "Ng = N .+ 2\n",
    "Nd = (Ng..., 2)\n",
    "\n",
    "offset = -0.3\n",
    "\n",
    "\n",
    "optSour==\"Hard\" && (SourceFunc(x,y) = (\n",
    "    -4 *pi^2 * (1/N[1]^2 + 1/N[2]^2) * sin.(2*pi*(x/N[1].+offset)) .* sin.(2*pi*(y/N[2].+offset)) +\n",
    "    -16*pi^2 * (1/N[1]^2 + 1/N[2]^2) * sin.(8*pi*(x/N[1].+offset)) .* sin.(8*pi*(y/N[2].+offset))\n",
    "))\n",
    "\n",
    "optSour==\"Hard\" && (ManufacSol(x,y) = (\n",
    "    sin.(2*pi*(x/N[1].+offset)) .* sin.(2*pi*(y/N[2].+offset)) +\n",
    "    sin.(8*pi*(x/N[1].+offset)) .* sin.(8*pi*(y/N[2].+offset))/4\n",
    "))\n",
    "\n",
    "optSour==\"Easy\" && (SourceFunc(x,y) = (\n",
    "    4*pi^2 * (\n",
    "        cos.(2*pi*(x/N[1])) .* (1 .-cos.(2*pi*(y/N[2])))/N[1]^2 +\n",
    "        (1 .-cos.(2*pi*(x/N[1]))) .* cos.(2*pi*(y/N[2]))/N[2]^2\n",
    "    )\n",
    "))\n",
    "\n",
    "optSour==\"Easy\" && (ManufacSol(x,y) = (\n",
    "    (1 .-cos.(2*pi*(x/N[1]))) .* (1 .-cos.(2*pi*(y/N[2]))) \n",
    "))\n",
    "\n",
    "\n",
    "waveNum = 4*pi\n",
    "optSour==\"Middle\" && (SourceFunc(x,y) = (\n",
    "    waveNum^2 * (\n",
    "        cos.(waveNum*(x/N[1])) .* (1 .-cos.(waveNum*(y/N[2])))/N[1]^2 +\n",
    "        (1 .-cos.(waveNum*(x/N[1]))) .* cos.(waveNum*(y/N[2]))/N[2]^2\n",
    "    )\n",
    "))\n",
    "\n",
    "optSour==\"Middle\" && (ManufacSol(x,y) = (\n",
    "    (1 .-cos.(waveNum*(x/N[1]))) .* (1 .-cos.(waveNum*(y/N[2]))) \n",
    "))"
   ]
  },
  {
   "cell_type": "code",
   "execution_count": 4,
   "metadata": {},
   "outputs": [
    {
     "data": {
      "text/plain": [
       "130×386 Matrix{Float64}:\n",
       " -1.0       -1.0       -1.0       …  -1.0       -1.0       -1.0\n",
       " -1.0       -1.0       -1.0          -1.0       -1.0       -1.0\n",
       " -1.0       -1.0       -0.999999     -0.999999  -1.0       -1.0\n",
       " -1.0       -1.0       -0.999998     -0.999998  -1.0       -1.0\n",
       " -1.0       -1.0       -0.999996     -0.999996  -1.0       -1.0\n",
       " -0.999999  -0.999999  -0.999993  …  -0.999993  -0.999999  -0.999999\n",
       " -0.999999  -0.999999  -0.999989     -0.999989  -0.999999  -0.999999\n",
       " -0.999998  -0.999998  -0.999985     -0.999985  -0.999998  -0.999998\n",
       " -0.999998  -0.999998  -0.99998      -0.99998   -0.999998  -0.999998\n",
       " -0.999997  -0.999997  -0.999974     -0.999974  -0.999997  -0.999997\n",
       "  ⋮                               ⋱                         ⋮\n",
       " -0.999998  -0.999998  -0.99998      -0.99998   -0.999998  -0.999998\n",
       " -0.999998  -0.999998  -0.999985     -0.999985  -0.999998  -0.999998\n",
       " -0.999999  -0.999999  -0.999989     -0.999989  -0.999999  -0.999999\n",
       " -0.999999  -0.999999  -0.999993     -0.999993  -0.999999  -0.999999\n",
       " -1.0       -1.0       -0.999996  …  -0.999996  -1.0       -1.0\n",
       " -1.0       -1.0       -0.999998     -0.999998  -1.0       -1.0\n",
       " -1.0       -1.0       -0.999999     -0.999999  -1.0       -1.0\n",
       " -1.0       -1.0       -1.0          -1.0       -1.0       -1.0\n",
       " -1.0       -1.0       -1.0          -1.0       -1.0       -1.0"
      ]
     },
     "metadata": {},
     "output_type": "display_data"
    }
   ],
   "source": [
    "solIni = rand(Ng...)*10\n",
    "IniOrig = copy(solIni)\n",
    "source = zeros(Ng)\n",
    "μ₀ = ones(Nd)\n",
    "#optPois==\"MulP\" && WaterLily.BC!(μ₀,ntuple(zero, D))\n",
    "\n",
    "optBCon == \"Neu\" && WaterLily.BC!(solIni)\n",
    "optBCon == \"Per\" && WaterLily.BCPer!(solIni)\n",
    "# BCPer!(source)\n",
    "# BCPerVec!(μ₀)\n",
    "\n",
    "X = transpose(reshape([i-1.5 for i=1:Ng[1] for j=1:Ng[2]],Ng[2],Ng[1]))\n",
    "Y = transpose(reshape([j-1.5 for i=1:Ng[1] for j=1:Ng[2]],Ng[2],Ng[1]))\n",
    "\n",
    "\n",
    "source = SourceFunc(X,Y)\n",
    "realSol = ManufacSol(X,Y)\n",
    "originalSource = copy(source)\n",
    "\n",
    "realSol .-= mean(realSol[2:end-1,2:end-1])"
   ]
  },
  {
   "cell_type": "code",
   "execution_count": 5,
   "metadata": {},
   "outputs": [
    {
     "data": {
      "text/plain": [
       "false"
      ]
     },
     "metadata": {},
     "output_type": "display_data"
    }
   ],
   "source": [
    "optPois==\"Pois\" && (pTest = WaterLily.Poisson(solIni, μ₀, source))\n",
    "optPois==\"MulP\" && (pTest = WaterLily.MultiLevelPoisson(solIni, μ₀, source))"
   ]
  },
  {
   "cell_type": "code",
   "execution_count": 6,
   "metadata": {},
   "outputs": [
    {
     "data": {
      "text/plain": [
       "5001-element Vector{Float64}:\n",
       "    8.162678895173293e6\n",
       " 1622.3464909320617\n",
       "   73.60352293777126\n",
       "   25.648690186813976\n",
       "    7.820743151641087\n",
       "    6.396981560517368\n",
       "    3.449351887990914\n",
       "    3.8566617383794917\n",
       "    2.4642915459622436\n",
       "    3.023966015238822\n",
       "    ⋮\n",
       "    1.0327522966890468e-8\n",
       "    1.0480111784458556e-8\n",
       "    1.0324758257938222e-8\n",
       "    1.0477306227020791e-8\n",
       "    1.032199428910687e-8\n",
       "    1.0474501420639138e-8\n",
       "    1.0319231060198288e-8\n",
       "    1.0471697365112666e-8\n",
       "    1.0316468571014347e-8"
      ]
     },
     "metadata": {},
     "output_type": "display_data"
    }
   ],
   "source": [
    "res = []\n",
    "stepbystep && for i ∈ 1:200\n",
    "    partRes = WaterLily.solver!(pTest;log=true,tol=1e-12,itmx=20)\n",
    "    # pTest.x .-= mean(pTest.x[2:end-1,2:end-1]) \n",
    "    pythonplot()\n",
    "    contourf(X[2:end-1,2:end-1],Y[2:end-1,2:end-1],pTest.x[2:end-1,2:end-1];levels=32)\n",
    "    savefig(\"bunchFig/\" * computationID * \"Calculated_\"*string(i, pad=4)*\".png\")\n",
    "    # pythonplot()\n",
    "    # contourf(X[2:end-1,2:end-1],Y[2:end-1,2:end-1],log10.(abs.(realSol[2:end-1,2:end-1]-pTest.x[2:end-1,2:end-1]).+1e-12);levels=32)\n",
    "    # savefig(\"bunchFig/\" * computationID * \"Error_\"*string(i, pad=4)*\".png\")\n",
    "\n",
    "    push!(res,partRes...)\n",
    "end\n",
    "\n",
    "!stepbystep && (res = WaterLily.solver!(pTest;log=true,tol=1e-12,itmx=5e3));\n",
    "\n",
    "#print(res)"
   ]
  },
  {
   "cell_type": "code",
   "execution_count": 7,
   "metadata": {},
   "outputs": [
    {
     "data": {
      "text/plain": [
       "130×386 Matrix{Float64}:\n",
       " -1.0       -1.0       -1.0       …  -1.0       -1.0       -1.0\n",
       " -1.0       -1.0       -1.0          -1.0       -1.0       -1.0\n",
       " -1.0       -1.0       -0.999999     -0.999999  -1.0       -1.0\n",
       " -1.0       -1.0       -0.999998     -0.999998  -1.0       -1.0\n",
       " -1.0       -1.0       -0.999996     -0.999996  -1.0       -1.0\n",
       " -0.999999  -0.999999  -0.999993  …  -0.999993  -0.999999  -0.999999\n",
       " -0.999999  -0.999999  -0.999989     -0.999989  -0.999999  -0.999999\n",
       " -0.999998  -0.999998  -0.999985     -0.999985  -0.999998  -0.999998\n",
       " -0.999998  -0.999998  -0.99998      -0.99998   -0.999998  -0.999998\n",
       " -0.999997  -0.999997  -0.999974     -0.999974  -0.999997  -0.999997\n",
       "  ⋮                               ⋱                         ⋮\n",
       " -0.999998  -0.999998  -0.99998      -0.99998   -0.999998  -0.999998\n",
       " -0.999998  -0.999998  -0.999985     -0.999985  -0.999998  -0.999998\n",
       " -0.999999  -0.999999  -0.999989     -0.999989  -0.999999  -0.999999\n",
       " -0.999999  -0.999999  -0.999993     -0.999993  -0.999999  -0.999999\n",
       " -1.0       -1.0       -0.999996  …  -0.999996  -1.0       -1.0\n",
       " -1.0       -1.0       -0.999998     -0.999998  -1.0       -1.0\n",
       " -1.0       -1.0       -0.999999     -0.999999  -1.0       -1.0\n",
       " -1.0       -1.0       -1.0          -1.0       -1.0       -1.0\n",
       " -1.0       -1.0       -1.0          -1.0       -1.0       -1.0"
      ]
     },
     "metadata": {},
     "output_type": "display_data"
    }
   ],
   "source": [
    "pTest.x .-= mean(pTest.x[2:end-1,2:end-1]) \n",
    "realSol .-= mean(realSol[2:end-1,2:end-1]) "
   ]
  },
  {
   "cell_type": "code",
   "execution_count": 8,
   "metadata": {},
   "outputs": [
    {
     "data": {
      "text/plain": [
       "\"/home/tyhuang/Documents/Github/WaterLily.jl/test/TYTest/Pois_Easy_Per_Residual.png\""
      ]
     },
     "metadata": {},
     "output_type": "display_data"
    }
   ],
   "source": [
    "pythonplot()\n",
    "plot(res)\n",
    "plot!(yscale=:log10, minorgrid=true)\n",
    "savefig(computationID * \"Residual.png\")"
   ]
  },
  {
   "cell_type": "code",
   "execution_count": 9,
   "metadata": {},
   "outputs": [
    {
     "name": "stderr",
     "output_type": "stream",
     "text": [
      "sys:1: UserWarning: The following kwargs were not used by contour: 'label'\n"
     ]
    },
    {
     "data": {
      "text/plain": [
       "\"/home/tyhuang/Documents/Github/WaterLily.jl/test/TYTest/Pois_Easy_Per_Calculated.png\""
      ]
     },
     "metadata": {},
     "output_type": "display_data"
    }
   ],
   "source": [
    "pythonplot()\n",
    "contourf(X[2:end-1,2:end-1],Y[2:end-1,2:end-1],pTest.x[2:end-1,2:end-1];levels=32)\n",
    "savefig(computationID * \"Calculated.png\")"
   ]
  },
  {
   "cell_type": "code",
   "execution_count": 10,
   "metadata": {},
   "outputs": [
    {
     "data": {
      "text/plain": [
       "\"/home/tyhuang/Documents/Github/WaterLily.jl/test/TYTest/Pois_Easy_Per_Error.png\""
      ]
     },
     "metadata": {},
     "output_type": "display_data"
    }
   ],
   "source": [
    "pythonplot()\n",
    "contourf(X[2:end-1,2:end-1],Y[2:end-1,2:end-1],log10.(abs.(realSol[2:end-1,2:end-1]-pTest.x[2:end-1,2:end-1]).+1e-12);levels=32)\n",
    "savefig(computationID * \"Error.png\")"
   ]
  },
  {
   "cell_type": "code",
   "execution_count": 11,
   "metadata": {},
   "outputs": [
    {
     "data": {
      "text/plain": [
       "\"/home/tyhuang/Documents/Github/WaterLily.jl/test/TYTest/Pois_Easy_Per_Correct.png\""
      ]
     },
     "metadata": {},
     "output_type": "display_data"
    }
   ],
   "source": [
    "pythonplot()\n",
    "contourf(X[2:end-1,2:end-1],Y[2:end-1,2:end-1],realSol[2:end-1,2:end-1];levels=32)\n",
    "savefig(computationID * \"Correct.png\")"
   ]
  },
  {
   "cell_type": "code",
   "execution_count": 12,
   "metadata": {},
   "outputs": [
    {
     "data": {
      "text/plain": [
       "\"/home/tyhuang/Documents/Github/WaterLily.jl/test/TYTest/Pois_Easy_Per_Source.png\""
      ]
     },
     "metadata": {},
     "output_type": "display_data"
    }
   ],
   "source": [
    "pythonplot()\n",
    "contourf(X[2:end-1,2:end-1],Y[2:end-1,2:end-1],originalSource[2:end-1,2:end-1];levels=32)\n",
    "savefig(computationID * \"Source.png\")"
   ]
  },
  {
   "cell_type": "code",
   "execution_count": 13,
   "metadata": {},
   "outputs": [
    {
     "data": {
      "text/plain": [
       "\"/home/tyhuang/Documents/Github/WaterLily.jl/test/TYTest/Pois_Easy_Per_InitialSol.png\""
      ]
     },
     "metadata": {},
     "output_type": "display_data"
    }
   ],
   "source": [
    "pythonplot()\n",
    "contourf(X[2:end-1,2:end-1],Y[2:end-1,2:end-1],IniOrig[2:end-1,2:end-1];levels=32)\n",
    "savefig(computationID * \"InitialSol.png\")"
   ]
  }
 ],
 "metadata": {
  "kernelspec": {
   "display_name": "Julia 1.9.0",
   "language": "julia",
   "name": "julia-1.9"
  },
  "language_info": {
   "file_extension": ".jl",
   "mimetype": "application/julia",
   "name": "julia",
   "version": "1.9.0"
  },
  "orig_nbformat": 4
 },
 "nbformat": 4,
 "nbformat_minor": 2
}
