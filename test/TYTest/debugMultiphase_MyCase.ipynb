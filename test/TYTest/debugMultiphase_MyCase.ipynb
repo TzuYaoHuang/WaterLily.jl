{
 "cells": [
  {
   "cell_type": "code",
   "execution_count": 185,
   "metadata": {},
   "outputs": [
    {
     "name": "stderr",
     "output_type": "stream",
     "text": [
      "WARNING: replacing module WaterLily.\n"
     ]
    }
   ],
   "source": [
    "include(\"../../src/WaterLily.jl\")\n",
    "WaterLily = Main.WaterLily;\n",
    "using Plots; gr()\n",
    "using StaticArrays\n",
    "using JLD\n",
    "using Images\n",
    "using FFTW\n",
    "using Statistics\n",
    "using Interpolations\n",
    "using DelimitedFiles\n",
    "using LinearAlgebra\n",
    "using PyPlot\n",
    "using GLMakie\n",
    "GLMakie.activate!()\n",
    "using PlotlyJS"
   ]
  },
  {
   "cell_type": "code",
   "execution_count": 186,
   "metadata": {},
   "outputs": [
    {
     "data": {
      "text/plain": [
       "δ (generic function with 2 methods)"
      ]
     },
     "metadata": {},
     "output_type": "display_data"
    }
   ],
   "source": [
    "inside(a::AbstractArray) = CartesianIndices(map(ax->first(ax)+1:last(ax)-1,axes(a)))\n",
    "@inline CI(a...) = CartesianIndex(a...)\n",
    "\"\"\"\n",
    "    δ(i,N::Int)\n",
    "    δ(i,I::CartesianIndex{N}) where {N}\n",
    "\n",
    "Return a CartesianIndex of dimension `N` which is one at index `i` and zero elsewhere.\n",
    "\"\"\"\n",
    "δ(i,::Val{N}) where N = CI(ntuple(j -> j==i ? 1 : 0, N))\n",
    "δ(i,I::CartesianIndex{N}) where N = δ(i, Val{N}())\n"
   ]
  },
  {
   "cell_type": "code",
   "execution_count": 187,
   "metadata": {},
   "outputs": [
    {
     "data": {
      "text/plain": [
       "\"cVOFMyCase\""
      ]
     },
     "metadata": {},
     "output_type": "display_data"
    }
   ],
   "source": [
    "computationID = \"cVOFMyCase\""
   ]
  },
  {
   "cell_type": "code",
   "execution_count": 188,
   "metadata": {},
   "outputs": [
    {
     "data": {
      "text/plain": [
       "(66, 66, 66, 3)"
      ]
     },
     "metadata": {},
     "output_type": "display_data"
    }
   ],
   "source": [
    "NN = 64\n",
    "N = (NN,NN,NN)\n",
    "D = length(N)\n",
    "Nd = ((N.+2)...,D)"
   ]
  },
  {
   "cell_type": "code",
   "execution_count": 189,
   "metadata": {},
   "outputs": [
    {
     "data": {
      "text/plain": [
       "Insidef! (generic function with 1 method)"
      ]
     },
     "metadata": {},
     "output_type": "display_data"
    }
   ],
   "source": [
    "T=1.5\n",
    "function leVeque!(u,x,y,z,t)\n",
    "    half = 0.5/NN\n",
    "    @. u[:,:,:,1] =   x*(z.+half.+1) *N[1]\n",
    "    @. u[:,:,:,2] =  -y*(z.+half.+1) *N[2]\n",
    "    @. u[:,:,:,3] =    (((x.+half).^2+(y.+half).^2).^0.5.+1) *N[3]\n",
    "    u .*= cos(pi*t/T)\n",
    "end\n",
    "\n",
    "function Insidef!(f,dat)\n",
    "    copyto!(dat,f[inside(f)])\n",
    "end"
   ]
  },
  {
   "cell_type": "code",
   "execution_count": 190,
   "metadata": {},
   "outputs": [
    {
     "data": {
      "text/plain": [
       "Main.WaterLily.cVOF{3, Float64, Array{Float64, 3}, Array{Float64, 4}}([0.0 0.0 … 0.0 0.0; 0.0 0.0 … 0.0 0.0; … ; 0.0 0.0 … 0.0 0.0; 0.0 0.0 … 0.0 0.0;;; 0.0 0.0 … 0.0 0.0; 0.0 0.0 … 0.0 0.0; … ; 0.0 0.0 … 0.0 0.0; 0.0 0.0 … 0.0 0.0;;; 0.0 0.0 … 0.0 0.0; 0.0 0.0 … 0.0 0.0; … ; 0.0 0.0 … 0.0 0.0; 0.0 0.0 … 0.0 0.0;;; … ;;; 0.0 0.0 … 0.0 0.0; 0.0 0.0 … 0.0 0.0; … ; 0.0 0.0 … 0.0 0.0; 0.0 0.0 … 0.0 0.0;;; 0.0 0.0 … 0.0 0.0; 0.0 0.0 … 0.0 0.0; … ; 0.0 0.0 … 0.0 0.0; 0.0 0.0 … 0.0 0.0;;; 0.0 0.0 … 0.0 0.0; 0.0 0.0 … 0.0 0.0; … ; 0.0 0.0 … 0.0 0.0; 0.0 0.0 … 0.0 0.0], [0.0 0.0 … 0.0 0.0; 0.0 0.0 … 0.0 0.0; … ; 0.0 0.0 … 0.0 0.0; 0.0 0.0 … 0.0 0.0;;; 0.0 0.0 … 0.0 0.0; 0.0 0.0 … 0.0 0.0; … ; 0.0 0.0 … 0.0 0.0; 0.0 0.0 … 0.0 0.0;;; 0.0 0.0 … 0.0 0.0; 0.0 0.0 … 0.0 0.0; … ; 0.0 0.0 … 0.0 0.0; 0.0 0.0 … 0.0 0.0;;; … ;;; 0.0 0.0 … 0.0 0.0; 0.0 0.0 … 0.0 0.0; … ; 0.0 0.0 … 0.0 0.0; 0.0 0.0 … 0.0 0.0;;; 0.0 0.0 … 0.0 0.0; 0.0 0.0 … 0.0 0.0; … ; 0.0 0.0 … 0.0 0.0; 0.0 0.0 … 0.0 0.0;;; 0.0 0.0 … 0.0 0.0; 0.0 0.0 … 0.0 0.0; … ; 0.0 0.0 … 0.0 0.0; 0.0 0.0 … 0.0 0.0], [0.0 0.0 … 0.0 0.0; 0.0 0.0 … 0.0 0.0; … ; 0.0 0.0 … 0.0 0.0; 0.0 0.0 … 0.0 0.0;;; 0.0 0.0 … 0.0 0.0; 0.0 0.0 … 0.0 0.0; … ; 0.0 0.0 … 0.0 0.0; 0.0 0.0 … 0.0 0.0;;; 0.0 0.0 … 0.0 0.0; 0.0 0.0 … 0.0 0.0; … ; 0.0 0.0 … 0.0 0.0; 0.0 0.0 … 0.0 0.0;;; … ;;; 0.0 0.0 … 0.0 0.0; 0.0 0.0 … 0.0 0.0; … ; 0.0 0.0 … 0.0 0.0; 0.0 0.0 … 0.0 0.0;;; 0.0 0.0 … 0.0 0.0; 0.0 0.0 … 0.0 0.0; … ; 0.0 0.0 … 0.0 0.0; 0.0 0.0 … 0.0 0.0;;; 0.0 0.0 … 0.0 0.0; 0.0 0.0 … 0.0 0.0; … ; 0.0 0.0 … 0.0 0.0; 0.0 0.0 … 0.0 0.0], [-0.0 -0.0 … -0.0 -0.0; 0.0 0.0 … 0.0 0.0; … ; 0.0 0.0 … 0.0 0.0; -0.0 -0.0 … -0.0 -0.0;;; -0.0 -0.0 … -0.0 -0.0; 0.0 0.0 … 0.0 0.0; … ; 0.0 0.0 … 0.0 0.0; -0.0 -0.0 … -0.0 -0.0;;; -0.0 -0.0 … -0.0 -0.0; 0.0 0.0 … 0.0 0.0; … ; 0.0 0.0 … 0.0 0.0; -0.0 -0.0 … -0.0 -0.0;;; … ;;; -0.0 -0.0 … -0.0 -0.0; 0.0 0.0 … 0.0 0.0; … ; 0.0 0.0 … 0.0 0.0; -0.0 -0.0 … -0.0 -0.0;;; -0.0 -0.0 … -0.0 -0.0; 0.0 0.0 … 0.0 0.0; … ; 0.0 0.0 … 0.0 0.0; -0.0 -0.0 … -0.0 -0.0;;; -0.0 -0.0 … -0.0 -0.0; 0.0 0.0 … 0.0 0.0; … ; 0.0 0.0 … 0.0 0.0; -0.0 -0.0 … -0.0 -0.0;;;; -0.0 0.0 … 0.0 -0.0; -0.0 0.0 … 0.0 -0.0; … ; -0.0 0.0 … 0.0 -0.0; -0.0 0.0 … 0.0 -0.0;;; -0.0 0.0 … 0.0 -0.0; -0.0 0.0 … 0.0 -0.0; … ; -0.0 0.0 … 0.0 -0.0; -0.0 0.0 … 0.0 -0.0;;; -0.0 0.0 … 0.0 -0.0; -0.0 0.0 … 0.0 -0.0; … ; -0.0 0.0 … 0.0 -0.0; -0.0 0.0 … 0.0 -0.0;;; … ;;; -0.0 0.0 … 0.0 -0.0; -0.0 0.0 … 0.0 -0.0; … ; -0.0 0.0 … 0.0 -0.0; -0.0 0.0 … 0.0 -0.0;;; -0.0 0.0 … 0.0 -0.0; -0.0 0.0 … 0.0 -0.0; … ; -0.0 0.0 … 0.0 -0.0; -0.0 0.0 … 0.0 -0.0;;; -0.0 0.0 … 0.0 -0.0; -0.0 0.0 … 0.0 -0.0; … ; -0.0 0.0 … 0.0 -0.0; -0.0 0.0 … 0.0 -0.0;;;; 0.0 0.0 … 0.0 0.0; 0.0 0.0 … 0.0 0.0; … ; 0.0 0.0 … 0.0 0.0; 0.0 0.0 … 0.0 0.0;;; 0.0 0.0 … 0.0 0.0; 0.0 0.0 … 0.0 0.0; … ; 0.0 0.0 … 0.0 0.0; 0.0 0.0 … 0.0 0.0;;; 0.0 0.0 … 0.0 0.0; 0.0 0.0 … 0.0 0.0; … ; 0.0 0.0 … 0.0 0.0; 0.0 0.0 … 0.0 0.0;;; … ;;; 0.0 0.0 … 0.0 0.0; 0.0 0.0 … 0.0 0.0; … ; 0.0 0.0 … 0.0 0.0; 0.0 0.0 … 0.0 0.0;;; 0.0 0.0 … 0.0 0.0; 0.0 0.0 … 0.0 0.0; … ; 0.0 0.0 … 0.0 0.0; 0.0 0.0 … 0.0 0.0;;; 0.0 0.0 … 0.0 0.0; 0.0 0.0 … 0.0 0.0; … ; 0.0 0.0 … 0.0 0.0; 0.0 0.0 … 0.0 0.0], [0.0 0.0 … 0.0 0.0; 0.0 0.0 … 0.0 0.0; … ; 0.0 0.0 … 0.0 0.0; 0.0 0.0 … 0.0 0.0;;; 0.0 0.0 … 0.0 0.0; 0.0 0.0 … 0.0 0.0; … ; 0.0 0.0 … 0.0 0.0; 0.0 0.0 … 0.0 0.0;;; 0.0 0.0 … 0.0 0.0; 0.0 0.0 … 0.0 0.0; … ; 0.0 0.0 … 0.0 0.0; 0.0 0.0 … 0.0 0.0;;; … ;;; 0.0 0.0 … 0.0 0.0; 0.0 0.0 … 0.0 0.0; … ; 0.0 0.0 … 0.0 0.0; 0.0 0.0 … 0.0 0.0;;; 0.0 0.0 … 0.0 0.0; 0.0 0.0 … 0.0 0.0; … ; 0.0 0.0 … 0.0 0.0; 0.0 0.0 … 0.0 0.0;;; 0.0 0.0 … 0.0 0.0; 0.0 0.0 … 0.0 0.0; … ; 0.0 0.0 … 0.0 0.0; 0.0 0.0 … 0.0 0.0], [0 0 … 0 0; 0 0 … 0 0; … ; 0 0 … 0 0; 0 0 … 0 0;;; 0 0 … 0 0; 0 0 … 0 0; … ; 0 0 … 0 0; 0 0 … 0 0;;; 0 0 … 0 0; 0 0 … 0 0; … ; 0 0 … 0 0; 0 0 … 0 0;;; … ;;; 0 0 … 0 0; 0 0 … 0 0; … ; 0 0 … 0 0; 0 0 … 0 0;;; 0 0 … 0 0; 0 0 … 0 0; … ; 0 0 … 0 0; 0 0 … 0 0;;; 0 0 … 0 0; 0 0 … 0 0; … ; 0 0 … 0 0; 0 0 … 0 0], (3,), (0,), 15.0074, 0.001206)"
      ]
     },
     "metadata": {},
     "output_type": "display_data"
    }
   ],
   "source": [
    "αPlace = zeros(N.+2)\n",
    "n̂Place = zeros(Nd)\n",
    "\n",
    "ins = WaterLily.cVOF(\n",
    "    N,n̂Place,αPlace; \n",
    "    InterfaceSDF = (x) -> sqrt.(\n",
    "        (x[1]-0.17*N[1]-1.5).^2 + (x[2]-0.55*N[2]-1.5).^2 + (x[3]-0.35*N[3]-1.5).^2\n",
    "    )-N[1]*0.15, \n",
    "    perdir=(3,)\n",
    ")"
   ]
  },
  {
   "cell_type": "code",
   "execution_count": 191,
   "metadata": {},
   "outputs": [
    {
     "data": {
      "text/plain": [
       "Array{Float64, 3}"
      ]
     },
     "metadata": {},
     "output_type": "display_data"
    }
   ],
   "source": [
    "typeof(αPlace)"
   ]
  },
  {
   "cell_type": "code",
   "execution_count": 199,
   "metadata": {},
   "outputs": [],
   "source": [
    "t = LinRange(0,T,700)\n",
    "\n",
    "xList = reshape((1:N[1]+2).-2,(N[1]+2,1,1))/N[1]\n",
    "yList = reshape((1:N[2]+2).-2,(1,N[2]+2,1))/N[2]\n",
    "zList = reshape((1:N[3]+2).-2,(1,1,N[3]+2))/N[3]\n",
    "\n",
    "lx,ly,lz = ((1:N[1]).-0.5)/N[1],((1:N[2]).-0.5)/N[2],((1:N[3]).-0.5)/N[3]\n",
    "\n",
    "u⁰ = zeros(Nd)\n",
    "u  = zeros(Nd);\n",
    "leVeque!(u⁰,xList,yList,zList,t[1]);"
   ]
  },
  {
   "cell_type": "code",
   "execution_count": 200,
   "metadata": {},
   "outputs": [
    {
     "data": {
      "text/plain": [
       "0.0"
      ]
     },
     "metadata": {},
     "output_type": "display_data"
    }
   ],
   "source": [
    "Statistics.mean(abs.(\n",
    "    u⁰[3:end, 2:end-1, 2:end-1,1]-u⁰[2:end-1, 2:end-1, 2:end-1,1]+\n",
    "    u⁰[2:end-1, 3:end, 2:end-1,2]-u⁰[2:end-1, 2:end-1, 2:end-1,2]+\n",
    "    u⁰[2:end-1, 2:end-1, 3:end,3]-u⁰[2:end-1, 2:end-1, 2:end-1,3]\n",
    "))"
   ]
  },
  {
   "cell_type": "code",
   "execution_count": 194,
   "metadata": {},
   "outputs": [
    {
     "data": {
      "text/plain": [
       "1-element Vector{Any}:\n",
       " 0.01417560809632959"
      ]
     },
     "metadata": {},
     "output_type": "display_data"
    }
   ],
   "source": [
    "massConserv = []\n",
    "push!(massConserv,Statistics.mean(ins.f[2:end-1,2:end-1,2:end-1]))"
   ]
  },
  {
   "cell_type": "code",
   "execution_count": 195,
   "metadata": {},
   "outputs": [
    {
     "ename": "DomainError",
     "evalue": "DomainError with 2.72403627432638e-13:\nmin f{CartesianIndex(10, 35, 13)} ∉ [0,1]",
     "output_type": "error",
     "traceback": [
      "DomainError with 2.72403627432638e-13:\n",
      "min f{CartesianIndex(10, 35, 13)} ∉ [0,1]\n",
      "\n",
      "Stacktrace:\n",
      " [1] freeint_update!(δt::Float64, f::Array{Float64, 3}, fᶠ::Array{Float64, 3}, n̂::Array{Float64, 4}, α::Array{Float64, 3}, u::Array{Float64, 4}, u⁰::Array{Float64, 4}, c̄::Array{Int8, 3}; perdir::Tuple{Int64}, dirdir::Tuple{Int64})\n",
      "   @ Main.WaterLily ~/Documents/Github/WaterLily.jl/src/Multiphase.jl:328\n",
      " [2] (::var\"#141#142\")(i::Int64)\n",
      "   @ Main ~/Documents/Github/WaterLily.jl/test/TYTest/debugMultiphase_MyCase.ipynb:8\n",
      " [3] Record(func::var\"#141#142\", figlike::Makie.Figure, iter::UnitRange{Int64}; kw_args::Base.Pairs{Symbol, Any, Tuple{Symbol, Symbol}, NamedTuple{(:format, :framerate), Tuple{SubString{String}, Int64}}})\n",
      "   @ Makie ~/.julia/packages/Makie/Ylh0P/src/recording.jl:167\n",
      " [4] record(func::Function, figlike::Makie.Figure, path::String, iter::UnitRange{Int64}; kw_args::Base.Pairs{Symbol, Int64, Tuple{Symbol}, NamedTuple{(:framerate,), Tuple{Int64}}})\n",
      "   @ Makie ~/.julia/packages/Makie/Ylh0P/src/recording.jl:148\n",
      " [5] top-level scope\n",
      "   @ ~/Documents/Github/WaterLily.jl/test/TYTest/debugMultiphase_MyCase.ipynb:5"
     ]
    }
   ],
   "source": [
    "dat = ins.f[inside(ins.f)] |> Array;\n",
    "obs = Insidef!(ins.f,dat) |> Observable;\n",
    "fig, ax, lineplot = GLMakie.contour(obs,levels=[0.5],alpha=1,isorange=0.1)\n",
    "\n",
    "record(fig, computationID*\"_\"*\"fIso.mp4\", 2:size(t)[1]; framerate=100) do i\n",
    "    push!(massConserv,Statistics.mean(ins.f[2:end-1,2:end-1,2:end-1]))\n",
    "    leVeque!(u,xList,yList,zList,t[i])\n",
    "    WaterLily.freeint_update!(t[i]-t[i-1], ins.f, ins.fᶠ, ins.n̂, ins.α, u, u⁰, ins.c̄, perdir=ins.perdir, dirdir=ins.dirdir)\n",
    "    u⁰ .= u\n",
    "    obs[] = Insidef!(ins.f,dat)\n",
    "    i%100==1 && println(i)\n",
    "end"
   ]
  },
  {
   "cell_type": "code",
   "execution_count": 197,
   "metadata": {},
   "outputs": [
    {
     "data": {
      "image/png": "[encoded data removed]",
      "image/svg+xml": [
       "<?xml version=\"1.0\" encoding=\"utf-8\"?>\n",
       "<svg xmlns=\"http://www.w3.org/2000/svg\" xmlns:xlink=\"http://www.w3.org/1999/xlink\" width=\"600\" height=\"400\" viewBox=\"0 0 2400 1600\">\n",
       "<defs>\n",
       "  <clipPath id=\"clip880\">\n",
       "    <rect x=\"0\" y=\"0\" width=\"2400\" height=\"1600\"/>\n",
       "  </clipPath>\n",
       "</defs>\n",
       "<path clip-path=\"url(#clip880)\" d=\"M0 1600 L2400 1600 L2400 0 L0 0  Z\" fill=\"#ffffff\" fill-rule=\"evenodd\" fill-opacity=\"1\"/>\n",
       "<defs>\n",
       "  <clipPath id=\"clip881\">\n",
       "    <rect x=\"480\" y=\"0\" width=\"1681\" height=\"1600\"/>\n",
       "  </clipPath>\n",
       "</defs>\n",
       "<path clip-path=\"url(#clip880)\" d=\"M213.607 1486.45 L2352.76 1486.45 L2352.76 47.2441 L213.607 47.2441  Z\" fill=\"#ffffff\" fill-rule=\"evenodd\" fill-opacity=\"1\"/>\n",
       "<defs>\n",
       "  <clipPath id=\"clip882\">\n",
       "    <rect x=\"213\" y=\"47\" width=\"2140\" height=\"1440\"/>\n",
       "  </clipPath>\n",
       "</defs>\n",
       "<polyline clip-path=\"url(#clip882)\" style=\"stroke:#000000; stroke-linecap:round; stroke-linejoin:round; stroke-width:2; stroke-opacity:0.1; fill:none\" points=\"274.149,1486.45 274.149,47.2441 \"/>\n",
       "<polyline clip-path=\"url(#clip882)\" style=\"stroke:#000000; stroke-linecap:round; stroke-linejoin:round; stroke-width:2; stroke-opacity:0.1; fill:none\" points=\"778.666,1486.45 778.666,47.2441 \"/>\n",
       "<polyline clip-path=\"url(#clip882)\" style=\"stroke:#000000; stroke-linecap:round; stroke-linejoin:round; stroke-width:2; stroke-opacity:0.1; fill:none\" points=\"1283.18,1486.45 1283.18,47.2441 \"/>\n",
       "<polyline clip-path=\"url(#clip882)\" style=\"stroke:#000000; stroke-linecap:round; stroke-linejoin:round; stroke-width:2; stroke-opacity:0.1; fill:none\" points=\"1787.7,1486.45 1787.7,47.2441 \"/>\n",
       "<polyline clip-path=\"url(#clip882)\" style=\"stroke:#000000; stroke-linecap:round; stroke-linejoin:round; stroke-width:2; stroke-opacity:0.1; fill:none\" points=\"2292.21,1486.45 2292.21,47.2441 \"/>\n",
       "<polyline clip-path=\"url(#clip880)\" style=\"stroke:#000000; stroke-linecap:round; stroke-linejoin:round; stroke-width:4; stroke-opacity:1; fill:none\" points=\"213.607,1486.45 2352.76,1486.45 \"/>\n",
       "<polyline clip-path=\"url(#clip880)\" style=\"stroke:#000000; stroke-linecap:round; stroke-linejoin:round; stroke-width:4; stroke-opacity:1; fill:none\" points=\"274.149,1486.45 274.149,1467.55 \"/>\n",
       "<polyline clip-path=\"url(#clip880)\" style=\"stroke:#000000; stroke-linecap:round; stroke-linejoin:round; stroke-width:4; stroke-opacity:1; fill:none\" points=\"778.666,1486.45 778.666,1467.55 \"/>\n",
       "<polyline clip-path=\"url(#clip880)\" style=\"stroke:#000000; stroke-linecap:round; stroke-linejoin:round; stroke-width:4; stroke-opacity:1; fill:none\" points=\"1283.18,1486.45 1283.18,1467.55 \"/>\n",
       "<polyline clip-path=\"url(#clip880)\" style=\"stroke:#000000; stroke-linecap:round; stroke-linejoin:round; stroke-width:4; stroke-opacity:1; fill:none\" points=\"1787.7,1486.45 1787.7,1467.55 \"/>\n",
       "<polyline clip-path=\"url(#clip880)\" style=\"stroke:#000000; stroke-linecap:round; stroke-linejoin:round; stroke-width:4; stroke-opacity:1; fill:none\" points=\"2292.21,1486.45 2292.21,1467.55 \"/>\n",
       "<path clip-path=\"url(#clip880)\" d=\"M226.221 1544.91 L233.86 1544.91 L233.86 1518.55 L225.55 1520.21 L225.55 1515.95 L233.814 1514.29 L238.49 1514.29 L238.49 1544.91 L246.129 1544.91 L246.129 1548.85 L226.221 1548.85 L226.221 1544.91 Z\" fill=\"#000000\" fill-rule=\"nonzero\" fill-opacity=\"1\" /><path clip-path=\"url(#clip880)\" d=\"M255.573 1542.97 L260.457 1542.97 L260.457 1548.85 L255.573 1548.85 L255.573 1542.97 Z\" fill=\"#000000\" fill-rule=\"nonzero\" fill-opacity=\"1\" /><path clip-path=\"url(#clip880)\" d=\"M280.642 1517.37 Q277.031 1517.37 275.203 1520.93 Q273.397 1524.47 273.397 1531.6 Q273.397 1538.71 275.203 1542.27 Q277.031 1545.82 280.642 1545.82 Q284.277 1545.82 286.082 1542.27 Q287.911 1538.71 287.911 1531.6 Q287.911 1524.47 286.082 1520.93 Q284.277 1517.37 280.642 1517.37 M280.642 1513.66 Q286.453 1513.66 289.508 1518.27 Q292.587 1522.85 292.587 1531.6 Q292.587 1540.33 289.508 1544.94 Q286.453 1549.52 280.642 1549.52 Q274.832 1549.52 271.754 1544.94 Q268.698 1540.33 268.698 1531.6 Q268.698 1522.85 271.754 1518.27 Q274.832 1513.66 280.642 1513.66 Z\" fill=\"#000000\" fill-rule=\"nonzero\" fill-opacity=\"1\" /><path clip-path=\"url(#clip880)\" d=\"M310.804 1517.37 Q307.193 1517.37 305.365 1520.93 Q303.559 1524.47 303.559 1531.6 Q303.559 1538.71 305.365 1542.27 Q307.193 1545.82 310.804 1545.82 Q314.439 1545.82 316.244 1542.27 Q318.073 1538.71 318.073 1531.6 Q318.073 1524.47 316.244 1520.93 Q314.439 1517.37 310.804 1517.37 M310.804 1513.66 Q316.614 1513.66 319.67 1518.27 Q322.749 1522.85 322.749 1531.6 Q322.749 1540.33 319.67 1544.94 Q316.614 1549.52 310.804 1549.52 Q304.994 1549.52 301.915 1544.94 Q298.86 1540.33 298.86 1531.6 Q298.86 1522.85 301.915 1518.27 Q304.994 1513.66 310.804 1513.66 Z\" fill=\"#000000\" fill-rule=\"nonzero\" fill-opacity=\"1\" /><path clip-path=\"url(#clip880)\" d=\"M731.235 1544.91 L738.874 1544.91 L738.874 1518.55 L730.564 1520.21 L730.564 1515.95 L738.828 1514.29 L743.504 1514.29 L743.504 1544.91 L751.143 1544.91 L751.143 1548.85 L731.235 1548.85 L731.235 1544.91 Z\" fill=\"#000000\" fill-rule=\"nonzero\" fill-opacity=\"1\" /><path clip-path=\"url(#clip880)\" d=\"M760.587 1542.97 L765.471 1542.97 L765.471 1548.85 L760.587 1548.85 L760.587 1542.97 Z\" fill=\"#000000\" fill-rule=\"nonzero\" fill-opacity=\"1\" /><path clip-path=\"url(#clip880)\" d=\"M779.684 1544.91 L796.003 1544.91 L796.003 1548.85 L774.059 1548.85 L774.059 1544.91 Q776.721 1542.16 781.304 1537.53 Q785.911 1532.88 787.091 1531.53 Q789.337 1529.01 790.216 1527.27 Q791.119 1525.51 791.119 1523.82 Q791.119 1521.07 789.175 1519.33 Q787.253 1517.6 784.152 1517.6 Q781.953 1517.6 779.499 1518.36 Q777.068 1519.13 774.291 1520.68 L774.291 1515.95 Q777.115 1514.82 779.568 1514.24 Q782.022 1513.66 784.059 1513.66 Q789.429 1513.66 792.624 1516.35 Q795.818 1519.03 795.818 1523.52 Q795.818 1525.65 795.008 1527.57 Q794.221 1529.47 792.115 1532.07 Q791.536 1532.74 788.434 1535.95 Q785.332 1539.15 779.684 1544.91 Z\" fill=\"#000000\" fill-rule=\"nonzero\" fill-opacity=\"1\" /><path clip-path=\"url(#clip880)\" d=\"M805.864 1514.29 L824.221 1514.29 L824.221 1518.22 L810.147 1518.22 L810.147 1526.7 Q811.165 1526.35 812.184 1526.19 Q813.202 1526 814.221 1526 Q820.008 1526 823.388 1529.17 Q826.767 1532.34 826.767 1537.76 Q826.767 1543.34 823.295 1546.44 Q819.823 1549.52 813.503 1549.52 Q811.327 1549.52 809.059 1549.15 Q806.814 1548.78 804.406 1548.04 L804.406 1543.34 Q806.489 1544.47 808.712 1545.03 Q810.934 1545.58 813.411 1545.58 Q817.415 1545.58 819.753 1543.48 Q822.091 1541.37 822.091 1537.76 Q822.091 1534.15 819.753 1532.04 Q817.415 1529.94 813.411 1529.94 Q811.536 1529.94 809.661 1530.35 Q807.809 1530.77 805.864 1531.65 L805.864 1514.29 Z\" fill=\"#000000\" fill-rule=\"nonzero\" fill-opacity=\"1\" /><path clip-path=\"url(#clip880)\" d=\"M1235.25 1544.91 L1242.89 1544.91 L1242.89 1518.55 L1234.58 1520.21 L1234.58 1515.95 L1242.85 1514.29 L1247.52 1514.29 L1247.52 1544.91 L1255.16 1544.91 L1255.16 1548.85 L1235.25 1548.85 L1235.25 1544.91 Z\" fill=\"#000000\" fill-rule=\"nonzero\" fill-opacity=\"1\" /><path clip-path=\"url(#clip880)\" d=\"M1264.61 1542.97 L1269.49 1542.97 L1269.49 1548.85 L1264.61 1548.85 L1264.61 1542.97 Z\" fill=\"#000000\" fill-rule=\"nonzero\" fill-opacity=\"1\" /><path clip-path=\"url(#clip880)\" d=\"M1279.72 1514.29 L1298.08 1514.29 L1298.08 1518.22 L1284 1518.22 L1284 1526.7 Q1285.02 1526.35 1286.04 1526.19 Q1287.06 1526 1288.08 1526 Q1293.86 1526 1297.24 1529.17 Q1300.62 1532.34 1300.62 1537.76 Q1300.62 1543.34 1297.15 1546.44 Q1293.68 1549.52 1287.36 1549.52 Q1285.18 1549.52 1282.92 1549.15 Q1280.67 1548.78 1278.26 1548.04 L1278.26 1543.34 Q1280.35 1544.47 1282.57 1545.03 Q1284.79 1545.58 1287.27 1545.58 Q1291.27 1545.58 1293.61 1543.48 Q1295.95 1541.37 1295.95 1537.76 Q1295.95 1534.15 1293.61 1532.04 Q1291.27 1529.94 1287.27 1529.94 Q1285.39 1529.94 1283.52 1530.35 Q1281.67 1530.77 1279.72 1531.65 L1279.72 1514.29 Z\" fill=\"#000000\" fill-rule=\"nonzero\" fill-opacity=\"1\" /><path clip-path=\"url(#clip880)\" d=\"M1319.84 1517.37 Q1316.23 1517.37 1314.4 1520.93 Q1312.59 1524.47 1312.59 1531.6 Q1312.59 1538.71 1314.4 1542.27 Q1316.23 1545.82 1319.84 1545.82 Q1323.47 1545.82 1325.28 1542.27 Q1327.11 1538.71 1327.11 1531.6 Q1327.11 1524.47 1325.28 1520.93 Q1323.47 1517.37 1319.84 1517.37 M1319.84 1513.66 Q1325.65 1513.66 1328.7 1518.27 Q1331.78 1522.85 1331.78 1531.6 Q1331.78 1540.33 1328.7 1544.94 Q1325.65 1549.52 1319.84 1549.52 Q1314.03 1549.52 1310.95 1544.94 Q1307.89 1540.33 1307.89 1531.6 Q1307.89 1522.85 1310.95 1518.27 Q1314.03 1513.66 1319.84 1513.66 Z\" fill=\"#000000\" fill-rule=\"nonzero\" fill-opacity=\"1\" /><path clip-path=\"url(#clip880)\" d=\"M1740.27 1544.91 L1747.91 1544.91 L1747.91 1518.55 L1739.6 1520.21 L1739.6 1515.95 L1747.86 1514.29 L1752.54 1514.29 L1752.54 1544.91 L1760.17 1544.91 L1760.17 1548.85 L1740.27 1548.85 L1740.27 1544.91 Z\" fill=\"#000000\" fill-rule=\"nonzero\" fill-opacity=\"1\" /><path clip-path=\"url(#clip880)\" d=\"M1769.62 1542.97 L1774.5 1542.97 L1774.5 1548.85 L1769.62 1548.85 L1769.62 1542.97 Z\" fill=\"#000000\" fill-rule=\"nonzero\" fill-opacity=\"1\" /><path clip-path=\"url(#clip880)\" d=\"M1783.51 1514.29 L1805.73 1514.29 L1805.73 1516.28 L1793.18 1548.85 L1788.3 1548.85 L1800.11 1518.22 L1783.51 1518.22 L1783.51 1514.29 Z\" fill=\"#000000\" fill-rule=\"nonzero\" fill-opacity=\"1\" /><path clip-path=\"url(#clip880)\" d=\"M1814.9 1514.29 L1833.25 1514.29 L1833.25 1518.22 L1819.18 1518.22 L1819.18 1526.7 Q1820.2 1526.35 1821.22 1526.19 Q1822.23 1526 1823.25 1526 Q1829.04 1526 1832.42 1529.17 Q1835.8 1532.34 1835.8 1537.76 Q1835.8 1543.34 1832.33 1546.44 Q1828.86 1549.52 1822.54 1549.52 Q1820.36 1549.52 1818.09 1549.15 Q1815.85 1548.78 1813.44 1548.04 L1813.44 1543.34 Q1815.52 1544.47 1817.74 1545.03 Q1819.97 1545.58 1822.44 1545.58 Q1826.45 1545.58 1828.79 1543.48 Q1831.12 1541.37 1831.12 1537.76 Q1831.12 1534.15 1828.79 1532.04 Q1826.45 1529.94 1822.44 1529.94 Q1820.57 1529.94 1818.69 1530.35 Q1816.84 1530.77 1814.9 1531.65 L1814.9 1514.29 Z\" fill=\"#000000\" fill-rule=\"nonzero\" fill-opacity=\"1\" /><path clip-path=\"url(#clip880)\" d=\"M2248.37 1544.91 L2264.69 1544.91 L2264.69 1548.85 L2242.75 1548.85 L2242.75 1544.91 Q2245.41 1542.16 2249.99 1537.53 Q2254.6 1532.88 2255.78 1531.53 Q2258.02 1529.01 2258.9 1527.27 Q2259.81 1525.51 2259.81 1523.82 Q2259.81 1521.07 2257.86 1519.33 Q2255.94 1517.6 2252.84 1517.6 Q2250.64 1517.6 2248.19 1518.36 Q2245.76 1519.13 2242.98 1520.68 L2242.98 1515.95 Q2245.8 1514.82 2248.26 1514.24 Q2250.71 1513.66 2252.75 1513.66 Q2258.12 1513.66 2261.31 1516.35 Q2264.51 1519.03 2264.51 1523.52 Q2264.51 1525.65 2263.7 1527.57 Q2262.91 1529.47 2260.8 1532.07 Q2260.22 1532.74 2257.12 1535.95 Q2254.02 1539.15 2248.37 1544.91 Z\" fill=\"#000000\" fill-rule=\"nonzero\" fill-opacity=\"1\" /><path clip-path=\"url(#clip880)\" d=\"M2274.51 1542.97 L2279.39 1542.97 L2279.39 1548.85 L2274.51 1548.85 L2274.51 1542.97 Z\" fill=\"#000000\" fill-rule=\"nonzero\" fill-opacity=\"1\" /><path clip-path=\"url(#clip880)\" d=\"M2299.58 1517.37 Q2295.96 1517.37 2294.14 1520.93 Q2292.33 1524.47 2292.33 1531.6 Q2292.33 1538.71 2294.14 1542.27 Q2295.96 1545.82 2299.58 1545.82 Q2303.21 1545.82 2305.01 1542.27 Q2306.84 1538.71 2306.84 1531.6 Q2306.84 1524.47 2305.01 1520.93 Q2303.21 1517.37 2299.58 1517.37 M2299.58 1513.66 Q2305.39 1513.66 2308.44 1518.27 Q2311.52 1522.85 2311.52 1531.6 Q2311.52 1540.33 2308.44 1544.94 Q2305.39 1549.52 2299.58 1549.52 Q2293.76 1549.52 2290.69 1544.94 Q2287.63 1540.33 2287.63 1531.6 Q2287.63 1522.85 2290.69 1518.27 Q2293.76 1513.66 2299.58 1513.66 Z\" fill=\"#000000\" fill-rule=\"nonzero\" fill-opacity=\"1\" /><path clip-path=\"url(#clip880)\" d=\"M2329.74 1517.37 Q2326.13 1517.37 2324.3 1520.93 Q2322.49 1524.47 2322.49 1531.6 Q2322.49 1538.71 2324.3 1542.27 Q2326.13 1545.82 2329.74 1545.82 Q2333.37 1545.82 2335.18 1542.27 Q2337.01 1538.71 2337.01 1531.6 Q2337.01 1524.47 2335.18 1520.93 Q2333.37 1517.37 2329.74 1517.37 M2329.74 1513.66 Q2335.55 1513.66 2338.6 1518.27 Q2341.68 1522.85 2341.68 1531.6 Q2341.68 1540.33 2338.6 1544.94 Q2335.55 1549.52 2329.74 1549.52 Q2323.93 1549.52 2320.85 1544.94 Q2317.79 1540.33 2317.79 1531.6 Q2317.79 1522.85 2320.85 1518.27 Q2323.93 1513.66 2329.74 1513.66 Z\" fill=\"#000000\" fill-rule=\"nonzero\" fill-opacity=\"1\" /><polyline clip-path=\"url(#clip882)\" style=\"stroke:#000000; stroke-linecap:round; stroke-linejoin:round; stroke-width:2; stroke-opacity:0.1; fill:none\" points=\"213.607,1445.72 2352.76,1445.72 \"/>\n",
       "<polyline clip-path=\"url(#clip882)\" style=\"stroke:#000000; stroke-linecap:round; stroke-linejoin:round; stroke-width:2; stroke-opacity:0.1; fill:none\" points=\"213.607,1106.28 2352.76,1106.28 \"/>\n",
       "<polyline clip-path=\"url(#clip882)\" style=\"stroke:#000000; stroke-linecap:round; stroke-linejoin:round; stroke-width:2; stroke-opacity:0.1; fill:none\" points=\"213.607,766.846 2352.76,766.846 \"/>\n",
       "<polyline clip-path=\"url(#clip882)\" style=\"stroke:#000000; stroke-linecap:round; stroke-linejoin:round; stroke-width:2; stroke-opacity:0.1; fill:none\" points=\"213.607,427.411 2352.76,427.411 \"/>\n",
       "<polyline clip-path=\"url(#clip882)\" style=\"stroke:#000000; stroke-linecap:round; stroke-linejoin:round; stroke-width:2; stroke-opacity:0.1; fill:none\" points=\"213.607,87.9763 2352.76,87.9763 \"/>\n",
       "<polyline clip-path=\"url(#clip880)\" style=\"stroke:#000000; stroke-linecap:round; stroke-linejoin:round; stroke-width:4; stroke-opacity:1; fill:none\" points=\"213.607,1486.45 213.607,47.2441 \"/>\n",
       "<polyline clip-path=\"url(#clip880)\" style=\"stroke:#000000; stroke-linecap:round; stroke-linejoin:round; stroke-width:4; stroke-opacity:1; fill:none\" points=\"213.607,1445.72 232.505,1445.72 \"/>\n",
       "<polyline clip-path=\"url(#clip880)\" style=\"stroke:#000000; stroke-linecap:round; stroke-linejoin:round; stroke-width:4; stroke-opacity:1; fill:none\" points=\"213.607,1106.28 232.505,1106.28 \"/>\n",
       "<polyline clip-path=\"url(#clip880)\" style=\"stroke:#000000; stroke-linecap:round; stroke-linejoin:round; stroke-width:4; stroke-opacity:1; fill:none\" points=\"213.607,766.846 232.505,766.846 \"/>\n",
       "<polyline clip-path=\"url(#clip880)\" style=\"stroke:#000000; stroke-linecap:round; stroke-linejoin:round; stroke-width:4; stroke-opacity:1; fill:none\" points=\"213.607,427.411 232.505,427.411 \"/>\n",
       "<polyline clip-path=\"url(#clip880)\" style=\"stroke:#000000; stroke-linecap:round; stroke-linejoin:round; stroke-width:4; stroke-opacity:1; fill:none\" points=\"213.607,87.9763 232.505,87.9763 \"/>\n",
       "<path clip-path=\"url(#clip880)\" d=\"M51.6634 1465.51 L59.3023 1465.51 L59.3023 1439.14 L50.9921 1440.81 L50.9921 1436.55 L59.256 1434.88 L63.9319 1434.88 L63.9319 1465.51 L71.5707 1465.51 L71.5707 1469.44 L51.6634 1469.44 L51.6634 1465.51 Z\" fill=\"#000000\" fill-rule=\"nonzero\" fill-opacity=\"1\" /><path clip-path=\"url(#clip880)\" d=\"M91.0151 1437.96 Q87.404 1437.96 85.5753 1441.53 Q83.7697 1445.07 83.7697 1452.2 Q83.7697 1459.3 85.5753 1462.87 Q87.404 1466.41 91.0151 1466.41 Q94.6493 1466.41 96.4548 1462.87 Q98.2835 1459.3 98.2835 1452.2 Q98.2835 1445.07 96.4548 1441.53 Q94.6493 1437.96 91.0151 1437.96 M91.0151 1434.26 Q96.8252 1434.26 99.8808 1438.86 Q102.959 1443.45 102.959 1452.2 Q102.959 1460.92 99.8808 1465.53 Q96.8252 1470.11 91.0151 1470.11 Q85.2049 1470.11 82.1262 1465.53 Q79.0707 1460.92 79.0707 1452.2 Q79.0707 1443.45 82.1262 1438.86 Q85.2049 1434.26 91.0151 1434.26 Z\" fill=\"#000000\" fill-rule=\"nonzero\" fill-opacity=\"1\" /><path clip-path=\"url(#clip880)\" d=\"M102.959 1428.36 L127.071 1428.36 L127.071 1431.56 L102.959 1431.56 L102.959 1428.36 Z\" fill=\"#000000\" fill-rule=\"nonzero\" fill-opacity=\"1\" /><path clip-path=\"url(#clip880)\" d=\"M138.544 1438.84 L151.803 1438.84 L151.803 1442.03 L133.973 1442.03 L133.973 1438.84 Q136.136 1436.6 139.86 1432.84 Q143.603 1429.06 144.562 1427.96 Q146.387 1425.91 147.101 1424.5 Q147.835 1423.07 147.835 1421.7 Q147.835 1419.46 146.255 1418.05 Q144.694 1416.64 142.174 1416.64 Q140.387 1416.64 138.393 1417.26 Q136.418 1417.88 134.162 1419.14 L134.162 1415.31 Q136.456 1414.39 138.45 1413.92 Q140.443 1413.45 142.098 1413.45 Q146.462 1413.45 149.057 1415.63 Q151.653 1417.81 151.653 1421.46 Q151.653 1423.19 150.994 1424.75 Q150.355 1426.29 148.644 1428.4 Q148.173 1428.94 145.653 1431.56 Q143.133 1434.15 138.544 1438.84 Z\" fill=\"#000000\" fill-rule=\"nonzero\" fill-opacity=\"1\" /><path clip-path=\"url(#clip880)\" d=\"M167.903 1416.45 Q164.969 1416.45 163.483 1419.35 Q162.016 1422.23 162.016 1428.02 Q162.016 1433.8 163.483 1436.69 Q164.969 1439.57 167.903 1439.57 Q170.855 1439.57 172.322 1436.69 Q173.808 1433.8 173.808 1428.02 Q173.808 1422.23 172.322 1419.35 Q170.855 1416.45 167.903 1416.45 M167.903 1413.45 Q172.623 1413.45 175.106 1417.19 Q177.607 1420.91 177.607 1428.02 Q177.607 1435.11 175.106 1438.85 Q172.623 1442.58 167.903 1442.58 Q163.182 1442.58 160.68 1438.85 Q158.198 1435.11 158.198 1428.02 Q158.198 1420.91 160.68 1417.19 Q163.182 1413.45 167.903 1413.45 Z\" fill=\"#000000\" fill-rule=\"nonzero\" fill-opacity=\"1\" /><path clip-path=\"url(#clip880)\" d=\"M52.4722 1126.07 L60.111 1126.07 L60.111 1099.71 L51.8009 1101.37 L51.8009 1097.12 L60.0647 1095.45 L64.7406 1095.45 L64.7406 1126.07 L72.3795 1126.07 L72.3795 1130.01 L52.4722 1130.01 L52.4722 1126.07 Z\" fill=\"#000000\" fill-rule=\"nonzero\" fill-opacity=\"1\" /><path clip-path=\"url(#clip880)\" d=\"M91.8238 1098.53 Q88.2127 1098.53 86.384 1102.09 Q84.5785 1105.63 84.5785 1112.76 Q84.5785 1119.87 86.384 1123.43 Q88.2127 1126.98 91.8238 1126.98 Q95.458 1126.98 97.2636 1123.43 Q99.0923 1119.87 99.0923 1112.76 Q99.0923 1105.63 97.2636 1102.09 Q95.458 1098.53 91.8238 1098.53 M91.8238 1094.82 Q97.6339 1094.82 100.689 1099.43 Q103.768 1104.01 103.768 1112.76 Q103.768 1121.49 100.689 1126.1 Q97.6339 1130.68 91.8238 1130.68 Q86.0136 1130.68 82.935 1126.1 Q79.8794 1121.49 79.8794 1112.76 Q79.8794 1104.01 82.935 1099.43 Q86.0136 1094.82 91.8238 1094.82 Z\" fill=\"#000000\" fill-rule=\"nonzero\" fill-opacity=\"1\" /><path clip-path=\"url(#clip880)\" d=\"M103.768 1088.92 L127.88 1088.92 L127.88 1092.12 L103.768 1092.12 L103.768 1088.92 Z\" fill=\"#000000\" fill-rule=\"nonzero\" fill-opacity=\"1\" /><path clip-path=\"url(#clip880)\" d=\"M136.738 1099.4 L142.945 1099.4 L142.945 1077.98 L136.193 1079.33 L136.193 1075.87 L142.907 1074.52 L146.706 1074.52 L146.706 1099.4 L152.913 1099.4 L152.913 1102.6 L136.738 1102.6 L136.738 1099.4 Z\" fill=\"#000000\" fill-rule=\"nonzero\" fill-opacity=\"1\" /><path clip-path=\"url(#clip880)\" d=\"M160.624 1074.52 L175.539 1074.52 L175.539 1077.72 L164.103 1077.72 L164.103 1084.6 Q164.931 1084.32 165.759 1084.19 Q166.586 1084.03 167.414 1084.03 Q172.116 1084.03 174.862 1086.61 Q177.607 1089.19 177.607 1093.59 Q177.607 1098.12 174.786 1100.64 Q171.965 1103.14 166.831 1103.14 Q165.063 1103.14 163.22 1102.84 Q161.395 1102.54 159.439 1101.94 L159.439 1098.12 Q161.132 1099.04 162.937 1099.49 Q164.743 1099.95 166.755 1099.95 Q170.009 1099.95 171.909 1098.23 Q173.808 1096.52 173.808 1093.59 Q173.808 1090.66 171.909 1088.94 Q170.009 1087.23 166.755 1087.23 Q165.232 1087.23 163.709 1087.57 Q162.204 1087.91 160.624 1088.62 L160.624 1074.52 Z\" fill=\"#000000\" fill-rule=\"nonzero\" fill-opacity=\"1\" /><path clip-path=\"url(#clip880)\" d=\"M51.6634 786.638 L59.3023 786.638 L59.3023 760.273 L50.9921 761.939 L50.9921 757.68 L59.256 756.014 L63.9319 756.014 L63.9319 786.638 L71.5707 786.638 L71.5707 790.574 L51.6634 790.574 L51.6634 786.638 Z\" fill=\"#000000\" fill-rule=\"nonzero\" fill-opacity=\"1\" /><path clip-path=\"url(#clip880)\" d=\"M91.0151 759.092 Q87.404 759.092 85.5753 762.657 Q83.7697 766.199 83.7697 773.328 Q83.7697 780.435 85.5753 784 Q87.404 787.541 91.0151 787.541 Q94.6493 787.541 96.4548 784 Q98.2835 780.435 98.2835 773.328 Q98.2835 766.199 96.4548 762.657 Q94.6493 759.092 91.0151 759.092 M91.0151 755.389 Q96.8252 755.389 99.8808 759.995 Q102.959 764.578 102.959 773.328 Q102.959 782.055 99.8808 786.662 Q96.8252 791.245 91.0151 791.245 Q85.2049 791.245 82.1262 786.662 Q79.0707 782.055 79.0707 773.328 Q79.0707 764.578 82.1262 759.995 Q85.2049 755.389 91.0151 755.389 Z\" fill=\"#000000\" fill-rule=\"nonzero\" fill-opacity=\"1\" /><path clip-path=\"url(#clip880)\" d=\"M102.959 749.49 L127.071 749.49 L127.071 752.687 L102.959 752.687 L102.959 749.49 Z\" fill=\"#000000\" fill-rule=\"nonzero\" fill-opacity=\"1\" /><path clip-path=\"url(#clip880)\" d=\"M135.929 759.966 L142.136 759.966 L142.136 738.544 L135.384 739.898 L135.384 736.437 L142.098 735.083 L145.898 735.083 L145.898 759.966 L152.104 759.966 L152.104 763.163 L135.929 763.163 L135.929 759.966 Z\" fill=\"#000000\" fill-rule=\"nonzero\" fill-opacity=\"1\" /><path clip-path=\"url(#clip880)\" d=\"M167.903 737.585 Q164.969 737.585 163.483 740.481 Q162.016 743.359 162.016 749.151 Q162.016 754.925 163.483 757.822 Q164.969 760.699 167.903 760.699 Q170.855 760.699 172.322 757.822 Q173.808 754.925 173.808 749.151 Q173.808 743.359 172.322 740.481 Q170.855 737.585 167.903 737.585 M167.903 734.575 Q172.623 734.575 175.106 738.318 Q177.607 742.042 177.607 749.151 Q177.607 756.242 175.106 759.985 Q172.623 763.709 167.903 763.709 Q163.182 763.709 160.68 759.985 Q158.198 756.242 158.198 749.151 Q158.198 742.042 160.68 738.318 Q163.182 734.575 167.903 734.575 Z\" fill=\"#000000\" fill-rule=\"nonzero\" fill-opacity=\"1\" /><path clip-path=\"url(#clip880)\" d=\"M76.9787 447.204 L84.6175 447.204 L84.6175 420.838 L76.3074 422.505 L76.3074 418.245 L84.5712 416.579 L89.2471 416.579 L89.2471 447.204 L96.886 447.204 L96.886 451.139 L76.9787 451.139 L76.9787 447.204 Z\" fill=\"#000000\" fill-rule=\"nonzero\" fill-opacity=\"1\" /><path clip-path=\"url(#clip880)\" d=\"M116.33 419.657 Q112.719 419.657 110.891 423.222 Q109.085 426.764 109.085 433.893 Q109.085 441 110.891 444.565 Q112.719 448.106 116.33 448.106 Q119.965 448.106 121.77 444.565 Q123.599 441 123.599 433.893 Q123.599 426.764 121.77 423.222 Q119.965 419.657 116.33 419.657 M116.33 415.954 Q122.14 415.954 125.196 420.56 Q128.275 425.143 128.275 433.893 Q128.275 442.62 125.196 447.227 Q122.14 451.81 116.33 451.81 Q110.52 451.81 107.441 447.227 Q104.386 442.62 104.386 433.893 Q104.386 425.143 107.441 420.56 Q110.52 415.954 116.33 415.954 Z\" fill=\"#000000\" fill-rule=\"nonzero\" fill-opacity=\"1\" /><path clip-path=\"url(#clip880)\" d=\"M128.275 410.055 L152.386 410.055 L152.386 413.252 L128.275 413.252 L128.275 410.055 Z\" fill=\"#000000\" fill-rule=\"nonzero\" fill-opacity=\"1\" /><path clip-path=\"url(#clip880)\" d=\"M160.624 395.648 L175.539 395.648 L175.539 398.846 L164.103 398.846 L164.103 405.729 Q164.931 405.447 165.759 405.316 Q166.586 405.165 167.414 405.165 Q172.116 405.165 174.862 407.742 Q177.607 410.318 177.607 414.719 Q177.607 419.252 174.786 421.772 Q171.965 424.274 166.831 424.274 Q165.063 424.274 163.22 423.973 Q161.395 423.672 159.439 423.07 L159.439 419.252 Q161.132 420.174 162.937 420.625 Q164.743 421.076 166.755 421.076 Q170.009 421.076 171.909 419.365 Q173.808 417.653 173.808 414.719 Q173.808 411.785 171.909 410.074 Q170.009 408.362 166.755 408.362 Q165.232 408.362 163.709 408.701 Q162.204 409.039 160.624 409.754 L160.624 395.648 Z\" fill=\"#000000\" fill-rule=\"nonzero\" fill-opacity=\"1\" /><path clip-path=\"url(#clip880)\" d=\"M106.902 107.769 L114.541 107.769 L114.541 81.4031 L106.231 83.0698 L106.231 78.8105 L114.494 77.1439 L119.17 77.1439 L119.17 107.769 L126.809 107.769 L126.809 111.704 L106.902 111.704 L106.902 107.769 Z\" fill=\"#000000\" fill-rule=\"nonzero\" fill-opacity=\"1\" /><path clip-path=\"url(#clip880)\" d=\"M146.253 80.2226 Q142.642 80.2226 140.814 83.7874 Q139.008 87.329 139.008 94.4586 Q139.008 101.565 140.814 105.13 Q142.642 108.671 146.253 108.671 Q149.888 108.671 151.693 105.13 Q153.522 101.565 153.522 94.4586 Q153.522 87.329 151.693 83.7874 Q149.888 80.2226 146.253 80.2226 M146.253 76.5189 Q152.064 76.5189 155.119 81.1253 Q158.198 85.7086 158.198 94.4586 Q158.198 103.185 155.119 107.792 Q152.064 112.375 146.253 112.375 Q140.443 112.375 137.365 107.792 Q134.309 103.185 134.309 94.4586 Q134.309 85.7086 137.365 81.1253 Q140.443 76.5189 146.253 76.5189 Z\" fill=\"#000000\" fill-rule=\"nonzero\" fill-opacity=\"1\" /><path clip-path=\"url(#clip880)\" d=\"M167.903 58.7149 Q164.969 58.7149 163.483 61.6113 Q162.016 64.4889 162.016 70.2817 Q162.016 76.0557 163.483 78.9521 Q164.969 81.8297 167.903 81.8297 Q170.855 81.8297 172.322 78.9521 Q173.808 76.0557 173.808 70.2817 Q173.808 64.4889 172.322 61.6113 Q170.855 58.7149 167.903 58.7149 M167.903 55.7057 Q172.623 55.7057 175.106 59.4484 Q177.607 63.1724 177.607 70.2817 Q177.607 77.3722 175.106 81.115 Q172.623 84.8389 167.903 84.8389 Q163.182 84.8389 160.68 81.115 Q158.198 77.3722 158.198 70.2817 Q158.198 63.1724 160.68 59.4484 Q163.182 55.7057 167.903 55.7057 Z\" fill=\"#000000\" fill-rule=\"nonzero\" fill-opacity=\"1\" /><polyline clip-path=\"url(#clip882)\" style=\"stroke:#009af9; stroke-linecap:round; stroke-linejoin:round; stroke-width:4; stroke-opacity:1; fill:none\" points=\"274.149,1445.72 2292.21,1445.72 \"/>\n",
       "</svg>\n"
      ],
      "text/html": [
       "<?xml version=\"1.0\" encoding=\"utf-8\"?>\n",
       "<svg xmlns=\"http://www.w3.org/2000/svg\" xmlns:xlink=\"http://www.w3.org/1999/xlink\" width=\"600\" height=\"400\" viewBox=\"0 0 2400 1600\">\n",
       "<defs>\n",
       "  <clipPath id=\"clip930\">\n",
       "    <rect x=\"0\" y=\"0\" width=\"2400\" height=\"1600\"/>\n",
       "  </clipPath>\n",
       "</defs>\n",
       "<path clip-path=\"url(#clip930)\" d=\"M0 1600 L2400 1600 L2400 0 L0 0  Z\" fill=\"#ffffff\" fill-rule=\"evenodd\" fill-opacity=\"1\"/>\n",
       "<defs>\n",
       "  <clipPath id=\"clip931\">\n",
       "    <rect x=\"480\" y=\"0\" width=\"1681\" height=\"1600\"/>\n",
       "  </clipPath>\n",
       "</defs>\n",
       "<path clip-path=\"url(#clip930)\" d=\"M213.607 1486.45 L2352.76 1486.45 L2352.76 47.2441 L213.607 47.2441  Z\" fill=\"#ffffff\" fill-rule=\"evenodd\" fill-opacity=\"1\"/>\n",
       "<defs>\n",
       "  <clipPath id=\"clip932\">\n",
       "    <rect x=\"213\" y=\"47\" width=\"2140\" height=\"1440\"/>\n",
       "  </clipPath>\n",
       "</defs>\n",
       "<polyline clip-path=\"url(#clip932)\" style=\"stroke:#000000; stroke-linecap:round; stroke-linejoin:round; stroke-width:2; stroke-opacity:0.1; fill:none\" points=\"274.149,1486.45 274.149,47.2441 \"/>\n",
       "<polyline clip-path=\"url(#clip932)\" style=\"stroke:#000000; stroke-linecap:round; stroke-linejoin:round; stroke-width:2; stroke-opacity:0.1; fill:none\" points=\"778.666,1486.45 778.666,47.2441 \"/>\n",
       "<polyline clip-path=\"url(#clip932)\" style=\"stroke:#000000; stroke-linecap:round; stroke-linejoin:round; stroke-width:2; stroke-opacity:0.1; fill:none\" points=\"1283.18,1486.45 1283.18,47.2441 \"/>\n",
       "<polyline clip-path=\"url(#clip932)\" style=\"stroke:#000000; stroke-linecap:round; stroke-linejoin:round; stroke-width:2; stroke-opacity:0.1; fill:none\" points=\"1787.7,1486.45 1787.7,47.2441 \"/>\n",
       "<polyline clip-path=\"url(#clip932)\" style=\"stroke:#000000; stroke-linecap:round; stroke-linejoin:round; stroke-width:2; stroke-opacity:0.1; fill:none\" points=\"2292.21,1486.45 2292.21,47.2441 \"/>\n",
       "<polyline clip-path=\"url(#clip930)\" style=\"stroke:#000000; stroke-linecap:round; stroke-linejoin:round; stroke-width:4; stroke-opacity:1; fill:none\" points=\"213.607,1486.45 2352.76,1486.45 \"/>\n",
       "<polyline clip-path=\"url(#clip930)\" style=\"stroke:#000000; stroke-linecap:round; stroke-linejoin:round; stroke-width:4; stroke-opacity:1; fill:none\" points=\"274.149,1486.45 274.149,1467.55 \"/>\n",
       "<polyline clip-path=\"url(#clip930)\" style=\"stroke:#000000; stroke-linecap:round; stroke-linejoin:round; stroke-width:4; stroke-opacity:1; fill:none\" points=\"778.666,1486.45 778.666,1467.55 \"/>\n",
       "<polyline clip-path=\"url(#clip930)\" style=\"stroke:#000000; stroke-linecap:round; stroke-linejoin:round; stroke-width:4; stroke-opacity:1; fill:none\" points=\"1283.18,1486.45 1283.18,1467.55 \"/>\n",
       "<polyline clip-path=\"url(#clip930)\" style=\"stroke:#000000; stroke-linecap:round; stroke-linejoin:round; stroke-width:4; stroke-opacity:1; fill:none\" points=\"1787.7,1486.45 1787.7,1467.55 \"/>\n",
       "<polyline clip-path=\"url(#clip930)\" style=\"stroke:#000000; stroke-linecap:round; stroke-linejoin:round; stroke-width:4; stroke-opacity:1; fill:none\" points=\"2292.21,1486.45 2292.21,1467.55 \"/>\n",
       "<path clip-path=\"url(#clip930)\" d=\"M226.221 1544.91 L233.86 1544.91 L233.86 1518.55 L225.55 1520.21 L225.55 1515.95 L233.814 1514.29 L238.49 1514.29 L238.49 1544.91 L246.129 1544.91 L246.129 1548.85 L226.221 1548.85 L226.221 1544.91 Z\" fill=\"#000000\" fill-rule=\"nonzero\" fill-opacity=\"1\" /><path clip-path=\"url(#clip930)\" d=\"M255.573 1542.97 L260.457 1542.97 L260.457 1548.85 L255.573 1548.85 L255.573 1542.97 Z\" fill=\"#000000\" fill-rule=\"nonzero\" fill-opacity=\"1\" /><path clip-path=\"url(#clip930)\" d=\"M280.642 1517.37 Q277.031 1517.37 275.203 1520.93 Q273.397 1524.47 273.397 1531.6 Q273.397 1538.71 275.203 1542.27 Q277.031 1545.82 280.642 1545.82 Q284.277 1545.82 286.082 1542.27 Q287.911 1538.71 287.911 1531.6 Q287.911 1524.47 286.082 1520.93 Q284.277 1517.37 280.642 1517.37 M280.642 1513.66 Q286.453 1513.66 289.508 1518.27 Q292.587 1522.85 292.587 1531.6 Q292.587 1540.33 289.508 1544.94 Q286.453 1549.52 280.642 1549.52 Q274.832 1549.52 271.754 1544.94 Q268.698 1540.33 268.698 1531.6 Q268.698 1522.85 271.754 1518.27 Q274.832 1513.66 280.642 1513.66 Z\" fill=\"#000000\" fill-rule=\"nonzero\" fill-opacity=\"1\" /><path clip-path=\"url(#clip930)\" d=\"M310.804 1517.37 Q307.193 1517.37 305.365 1520.93 Q303.559 1524.47 303.559 1531.6 Q303.559 1538.71 305.365 1542.27 Q307.193 1545.82 310.804 1545.82 Q314.439 1545.82 316.244 1542.27 Q318.073 1538.71 318.073 1531.6 Q318.073 1524.47 316.244 1520.93 Q314.439 1517.37 310.804 1517.37 M310.804 1513.66 Q316.614 1513.66 319.67 1518.27 Q322.749 1522.85 322.749 1531.6 Q322.749 1540.33 319.67 1544.94 Q316.614 1549.52 310.804 1549.52 Q304.994 1549.52 301.915 1544.94 Q298.86 1540.33 298.86 1531.6 Q298.86 1522.85 301.915 1518.27 Q304.994 1513.66 310.804 1513.66 Z\" fill=\"#000000\" fill-rule=\"nonzero\" fill-opacity=\"1\" /><path clip-path=\"url(#clip930)\" d=\"M731.235 1544.91 L738.874 1544.91 L738.874 1518.55 L730.564 1520.21 L730.564 1515.95 L738.828 1514.29 L743.504 1514.29 L743.504 1544.91 L751.143 1544.91 L751.143 1548.85 L731.235 1548.85 L731.235 1544.91 Z\" fill=\"#000000\" fill-rule=\"nonzero\" fill-opacity=\"1\" /><path clip-path=\"url(#clip930)\" d=\"M760.587 1542.97 L765.471 1542.97 L765.471 1548.85 L760.587 1548.85 L760.587 1542.97 Z\" fill=\"#000000\" fill-rule=\"nonzero\" fill-opacity=\"1\" /><path clip-path=\"url(#clip930)\" d=\"M779.684 1544.91 L796.003 1544.91 L796.003 1548.85 L774.059 1548.85 L774.059 1544.91 Q776.721 1542.16 781.304 1537.53 Q785.911 1532.88 787.091 1531.53 Q789.337 1529.01 790.216 1527.27 Q791.119 1525.51 791.119 1523.82 Q791.119 1521.07 789.175 1519.33 Q787.253 1517.6 784.152 1517.6 Q781.953 1517.6 779.499 1518.36 Q777.068 1519.13 774.291 1520.68 L774.291 1515.95 Q777.115 1514.82 779.568 1514.24 Q782.022 1513.66 784.059 1513.66 Q789.429 1513.66 792.624 1516.35 Q795.818 1519.03 795.818 1523.52 Q795.818 1525.65 795.008 1527.57 Q794.221 1529.47 792.115 1532.07 Q791.536 1532.74 788.434 1535.95 Q785.332 1539.15 779.684 1544.91 Z\" fill=\"#000000\" fill-rule=\"nonzero\" fill-opacity=\"1\" /><path clip-path=\"url(#clip930)\" d=\"M805.864 1514.29 L824.221 1514.29 L824.221 1518.22 L810.147 1518.22 L810.147 1526.7 Q811.165 1526.35 812.184 1526.19 Q813.202 1526 814.221 1526 Q820.008 1526 823.388 1529.17 Q826.767 1532.34 826.767 1537.76 Q826.767 1543.34 823.295 1546.44 Q819.823 1549.52 813.503 1549.52 Q811.327 1549.52 809.059 1549.15 Q806.814 1548.78 804.406 1548.04 L804.406 1543.34 Q806.489 1544.47 808.712 1545.03 Q810.934 1545.58 813.411 1545.58 Q817.415 1545.58 819.753 1543.48 Q822.091 1541.37 822.091 1537.76 Q822.091 1534.15 819.753 1532.04 Q817.415 1529.94 813.411 1529.94 Q811.536 1529.94 809.661 1530.35 Q807.809 1530.77 805.864 1531.65 L805.864 1514.29 Z\" fill=\"#000000\" fill-rule=\"nonzero\" fill-opacity=\"1\" /><path clip-path=\"url(#clip930)\" d=\"M1235.25 1544.91 L1242.89 1544.91 L1242.89 1518.55 L1234.58 1520.21 L1234.58 1515.95 L1242.85 1514.29 L1247.52 1514.29 L1247.52 1544.91 L1255.16 1544.91 L1255.16 1548.85 L1235.25 1548.85 L1235.25 1544.91 Z\" fill=\"#000000\" fill-rule=\"nonzero\" fill-opacity=\"1\" /><path clip-path=\"url(#clip930)\" d=\"M1264.61 1542.97 L1269.49 1542.97 L1269.49 1548.85 L1264.61 1548.85 L1264.61 1542.97 Z\" fill=\"#000000\" fill-rule=\"nonzero\" fill-opacity=\"1\" /><path clip-path=\"url(#clip930)\" d=\"M1279.72 1514.29 L1298.08 1514.29 L1298.08 1518.22 L1284 1518.22 L1284 1526.7 Q1285.02 1526.35 1286.04 1526.19 Q1287.06 1526 1288.08 1526 Q1293.86 1526 1297.24 1529.17 Q1300.62 1532.34 1300.62 1537.76 Q1300.62 1543.34 1297.15 1546.44 Q1293.68 1549.52 1287.36 1549.52 Q1285.18 1549.52 1282.92 1549.15 Q1280.67 1548.78 1278.26 1548.04 L1278.26 1543.34 Q1280.35 1544.47 1282.57 1545.03 Q1284.79 1545.58 1287.27 1545.58 Q1291.27 1545.58 1293.61 1543.48 Q1295.95 1541.37 1295.95 1537.76 Q1295.95 1534.15 1293.61 1532.04 Q1291.27 1529.94 1287.27 1529.94 Q1285.39 1529.94 1283.52 1530.35 Q1281.67 1530.77 1279.72 1531.65 L1279.72 1514.29 Z\" fill=\"#000000\" fill-rule=\"nonzero\" fill-opacity=\"1\" /><path clip-path=\"url(#clip930)\" d=\"M1319.84 1517.37 Q1316.23 1517.37 1314.4 1520.93 Q1312.59 1524.47 1312.59 1531.6 Q1312.59 1538.71 1314.4 1542.27 Q1316.23 1545.82 1319.84 1545.82 Q1323.47 1545.82 1325.28 1542.27 Q1327.11 1538.71 1327.11 1531.6 Q1327.11 1524.47 1325.28 1520.93 Q1323.47 1517.37 1319.84 1517.37 M1319.84 1513.66 Q1325.65 1513.66 1328.7 1518.27 Q1331.78 1522.85 1331.78 1531.6 Q1331.78 1540.33 1328.7 1544.94 Q1325.65 1549.52 1319.84 1549.52 Q1314.03 1549.52 1310.95 1544.94 Q1307.89 1540.33 1307.89 1531.6 Q1307.89 1522.85 1310.95 1518.27 Q1314.03 1513.66 1319.84 1513.66 Z\" fill=\"#000000\" fill-rule=\"nonzero\" fill-opacity=\"1\" /><path clip-path=\"url(#clip930)\" d=\"M1740.27 1544.91 L1747.91 1544.91 L1747.91 1518.55 L1739.6 1520.21 L1739.6 1515.95 L1747.86 1514.29 L1752.54 1514.29 L1752.54 1544.91 L1760.17 1544.91 L1760.17 1548.85 L1740.27 1548.85 L1740.27 1544.91 Z\" fill=\"#000000\" fill-rule=\"nonzero\" fill-opacity=\"1\" /><path clip-path=\"url(#clip930)\" d=\"M1769.62 1542.97 L1774.5 1542.97 L1774.5 1548.85 L1769.62 1548.85 L1769.62 1542.97 Z\" fill=\"#000000\" fill-rule=\"nonzero\" fill-opacity=\"1\" /><path clip-path=\"url(#clip930)\" d=\"M1783.51 1514.29 L1805.73 1514.29 L1805.73 1516.28 L1793.18 1548.85 L1788.3 1548.85 L1800.11 1518.22 L1783.51 1518.22 L1783.51 1514.29 Z\" fill=\"#000000\" fill-rule=\"nonzero\" fill-opacity=\"1\" /><path clip-path=\"url(#clip930)\" d=\"M1814.9 1514.29 L1833.25 1514.29 L1833.25 1518.22 L1819.18 1518.22 L1819.18 1526.7 Q1820.2 1526.35 1821.22 1526.19 Q1822.23 1526 1823.25 1526 Q1829.04 1526 1832.42 1529.17 Q1835.8 1532.34 1835.8 1537.76 Q1835.8 1543.34 1832.33 1546.44 Q1828.86 1549.52 1822.54 1549.52 Q1820.36 1549.52 1818.09 1549.15 Q1815.85 1548.78 1813.44 1548.04 L1813.44 1543.34 Q1815.52 1544.47 1817.74 1545.03 Q1819.97 1545.58 1822.44 1545.58 Q1826.45 1545.58 1828.79 1543.48 Q1831.12 1541.37 1831.12 1537.76 Q1831.12 1534.15 1828.79 1532.04 Q1826.45 1529.94 1822.44 1529.94 Q1820.57 1529.94 1818.69 1530.35 Q1816.84 1530.77 1814.9 1531.65 L1814.9 1514.29 Z\" fill=\"#000000\" fill-rule=\"nonzero\" fill-opacity=\"1\" /><path clip-path=\"url(#clip930)\" d=\"M2248.37 1544.91 L2264.69 1544.91 L2264.69 1548.85 L2242.75 1548.85 L2242.75 1544.91 Q2245.41 1542.16 2249.99 1537.53 Q2254.6 1532.88 2255.78 1531.53 Q2258.02 1529.01 2258.9 1527.27 Q2259.81 1525.51 2259.81 1523.82 Q2259.81 1521.07 2257.86 1519.33 Q2255.94 1517.6 2252.84 1517.6 Q2250.64 1517.6 2248.19 1518.36 Q2245.76 1519.13 2242.98 1520.68 L2242.98 1515.95 Q2245.8 1514.82 2248.26 1514.24 Q2250.71 1513.66 2252.75 1513.66 Q2258.12 1513.66 2261.31 1516.35 Q2264.51 1519.03 2264.51 1523.52 Q2264.51 1525.65 2263.7 1527.57 Q2262.91 1529.47 2260.8 1532.07 Q2260.22 1532.74 2257.12 1535.95 Q2254.02 1539.15 2248.37 1544.91 Z\" fill=\"#000000\" fill-rule=\"nonzero\" fill-opacity=\"1\" /><path clip-path=\"url(#clip930)\" d=\"M2274.51 1542.97 L2279.39 1542.97 L2279.39 1548.85 L2274.51 1548.85 L2274.51 1542.97 Z\" fill=\"#000000\" fill-rule=\"nonzero\" fill-opacity=\"1\" /><path clip-path=\"url(#clip930)\" d=\"M2299.58 1517.37 Q2295.96 1517.37 2294.14 1520.93 Q2292.33 1524.47 2292.33 1531.6 Q2292.33 1538.71 2294.14 1542.27 Q2295.96 1545.82 2299.58 1545.82 Q2303.21 1545.82 2305.01 1542.27 Q2306.84 1538.71 2306.84 1531.6 Q2306.84 1524.47 2305.01 1520.93 Q2303.21 1517.37 2299.58 1517.37 M2299.58 1513.66 Q2305.39 1513.66 2308.44 1518.27 Q2311.52 1522.85 2311.52 1531.6 Q2311.52 1540.33 2308.44 1544.94 Q2305.39 1549.52 2299.58 1549.52 Q2293.76 1549.52 2290.69 1544.94 Q2287.63 1540.33 2287.63 1531.6 Q2287.63 1522.85 2290.69 1518.27 Q2293.76 1513.66 2299.58 1513.66 Z\" fill=\"#000000\" fill-rule=\"nonzero\" fill-opacity=\"1\" /><path clip-path=\"url(#clip930)\" d=\"M2329.74 1517.37 Q2326.13 1517.37 2324.3 1520.93 Q2322.49 1524.47 2322.49 1531.6 Q2322.49 1538.71 2324.3 1542.27 Q2326.13 1545.82 2329.74 1545.82 Q2333.37 1545.82 2335.18 1542.27 Q2337.01 1538.71 2337.01 1531.6 Q2337.01 1524.47 2335.18 1520.93 Q2333.37 1517.37 2329.74 1517.37 M2329.74 1513.66 Q2335.55 1513.66 2338.6 1518.27 Q2341.68 1522.85 2341.68 1531.6 Q2341.68 1540.33 2338.6 1544.94 Q2335.55 1549.52 2329.74 1549.52 Q2323.93 1549.52 2320.85 1544.94 Q2317.79 1540.33 2317.79 1531.6 Q2317.79 1522.85 2320.85 1518.27 Q2323.93 1513.66 2329.74 1513.66 Z\" fill=\"#000000\" fill-rule=\"nonzero\" fill-opacity=\"1\" /><polyline clip-path=\"url(#clip932)\" style=\"stroke:#000000; stroke-linecap:round; stroke-linejoin:round; stroke-width:2; stroke-opacity:0.1; fill:none\" points=\"213.607,1445.72 2352.76,1445.72 \"/>\n",
       "<polyline clip-path=\"url(#clip932)\" style=\"stroke:#000000; stroke-linecap:round; stroke-linejoin:round; stroke-width:2; stroke-opacity:0.1; fill:none\" points=\"213.607,1106.28 2352.76,1106.28 \"/>\n",
       "<polyline clip-path=\"url(#clip932)\" style=\"stroke:#000000; stroke-linecap:round; stroke-linejoin:round; stroke-width:2; stroke-opacity:0.1; fill:none\" points=\"213.607,766.846 2352.76,766.846 \"/>\n",
       "<polyline clip-path=\"url(#clip932)\" style=\"stroke:#000000; stroke-linecap:round; stroke-linejoin:round; stroke-width:2; stroke-opacity:0.1; fill:none\" points=\"213.607,427.411 2352.76,427.411 \"/>\n",
       "<polyline clip-path=\"url(#clip932)\" style=\"stroke:#000000; stroke-linecap:round; stroke-linejoin:round; stroke-width:2; stroke-opacity:0.1; fill:none\" points=\"213.607,87.9763 2352.76,87.9763 \"/>\n",
       "<polyline clip-path=\"url(#clip930)\" style=\"stroke:#000000; stroke-linecap:round; stroke-linejoin:round; stroke-width:4; stroke-opacity:1; fill:none\" points=\"213.607,1486.45 213.607,47.2441 \"/>\n",
       "<polyline clip-path=\"url(#clip930)\" style=\"stroke:#000000; stroke-linecap:round; stroke-linejoin:round; stroke-width:4; stroke-opacity:1; fill:none\" points=\"213.607,1445.72 232.505,1445.72 \"/>\n",
       "<polyline clip-path=\"url(#clip930)\" style=\"stroke:#000000; stroke-linecap:round; stroke-linejoin:round; stroke-width:4; stroke-opacity:1; fill:none\" points=\"213.607,1106.28 232.505,1106.28 \"/>\n",
       "<polyline clip-path=\"url(#clip930)\" style=\"stroke:#000000; stroke-linecap:round; stroke-linejoin:round; stroke-width:4; stroke-opacity:1; fill:none\" points=\"213.607,766.846 232.505,766.846 \"/>\n",
       "<polyline clip-path=\"url(#clip930)\" style=\"stroke:#000000; stroke-linecap:round; stroke-linejoin:round; stroke-width:4; stroke-opacity:1; fill:none\" points=\"213.607,427.411 232.505,427.411 \"/>\n",
       "<polyline clip-path=\"url(#clip930)\" style=\"stroke:#000000; stroke-linecap:round; stroke-linejoin:round; stroke-width:4; stroke-opacity:1; fill:none\" points=\"213.607,87.9763 232.505,87.9763 \"/>\n",
       "<path clip-path=\"url(#clip930)\" d=\"M51.6634 1465.51 L59.3023 1465.51 L59.3023 1439.14 L50.9921 1440.81 L50.9921 1436.55 L59.256 1434.88 L63.9319 1434.88 L63.9319 1465.51 L71.5707 1465.51 L71.5707 1469.44 L51.6634 1469.44 L51.6634 1465.51 Z\" fill=\"#000000\" fill-rule=\"nonzero\" fill-opacity=\"1\" /><path clip-path=\"url(#clip930)\" d=\"M91.0151 1437.96 Q87.404 1437.96 85.5753 1441.53 Q83.7697 1445.07 83.7697 1452.2 Q83.7697 1459.3 85.5753 1462.87 Q87.404 1466.41 91.0151 1466.41 Q94.6493 1466.41 96.4548 1462.87 Q98.2835 1459.3 98.2835 1452.2 Q98.2835 1445.07 96.4548 1441.53 Q94.6493 1437.96 91.0151 1437.96 M91.0151 1434.26 Q96.8252 1434.26 99.8808 1438.86 Q102.959 1443.45 102.959 1452.2 Q102.959 1460.92 99.8808 1465.53 Q96.8252 1470.11 91.0151 1470.11 Q85.2049 1470.11 82.1262 1465.53 Q79.0707 1460.92 79.0707 1452.2 Q79.0707 1443.45 82.1262 1438.86 Q85.2049 1434.26 91.0151 1434.26 Z\" fill=\"#000000\" fill-rule=\"nonzero\" fill-opacity=\"1\" /><path clip-path=\"url(#clip930)\" d=\"M102.959 1428.36 L127.071 1428.36 L127.071 1431.56 L102.959 1431.56 L102.959 1428.36 Z\" fill=\"#000000\" fill-rule=\"nonzero\" fill-opacity=\"1\" /><path clip-path=\"url(#clip930)\" d=\"M138.544 1438.84 L151.803 1438.84 L151.803 1442.03 L133.973 1442.03 L133.973 1438.84 Q136.136 1436.6 139.86 1432.84 Q143.603 1429.06 144.562 1427.96 Q146.387 1425.91 147.101 1424.5 Q147.835 1423.07 147.835 1421.7 Q147.835 1419.46 146.255 1418.05 Q144.694 1416.64 142.174 1416.64 Q140.387 1416.64 138.393 1417.26 Q136.418 1417.88 134.162 1419.14 L134.162 1415.31 Q136.456 1414.39 138.45 1413.92 Q140.443 1413.45 142.098 1413.45 Q146.462 1413.45 149.057 1415.63 Q151.653 1417.81 151.653 1421.46 Q151.653 1423.19 150.994 1424.75 Q150.355 1426.29 148.644 1428.4 Q148.173 1428.94 145.653 1431.56 Q143.133 1434.15 138.544 1438.84 Z\" fill=\"#000000\" fill-rule=\"nonzero\" fill-opacity=\"1\" /><path clip-path=\"url(#clip930)\" d=\"M167.903 1416.45 Q164.969 1416.45 163.483 1419.35 Q162.016 1422.23 162.016 1428.02 Q162.016 1433.8 163.483 1436.69 Q164.969 1439.57 167.903 1439.57 Q170.855 1439.57 172.322 1436.69 Q173.808 1433.8 173.808 1428.02 Q173.808 1422.23 172.322 1419.35 Q170.855 1416.45 167.903 1416.45 M167.903 1413.45 Q172.623 1413.45 175.106 1417.19 Q177.607 1420.91 177.607 1428.02 Q177.607 1435.11 175.106 1438.85 Q172.623 1442.58 167.903 1442.58 Q163.182 1442.58 160.68 1438.85 Q158.198 1435.11 158.198 1428.02 Q158.198 1420.91 160.68 1417.19 Q163.182 1413.45 167.903 1413.45 Z\" fill=\"#000000\" fill-rule=\"nonzero\" fill-opacity=\"1\" /><path clip-path=\"url(#clip930)\" d=\"M52.4722 1126.07 L60.111 1126.07 L60.111 1099.71 L51.8009 1101.37 L51.8009 1097.12 L60.0647 1095.45 L64.7406 1095.45 L64.7406 1126.07 L72.3795 1126.07 L72.3795 1130.01 L52.4722 1130.01 L52.4722 1126.07 Z\" fill=\"#000000\" fill-rule=\"nonzero\" fill-opacity=\"1\" /><path clip-path=\"url(#clip930)\" d=\"M91.8238 1098.53 Q88.2127 1098.53 86.384 1102.09 Q84.5785 1105.63 84.5785 1112.76 Q84.5785 1119.87 86.384 1123.43 Q88.2127 1126.98 91.8238 1126.98 Q95.458 1126.98 97.2636 1123.43 Q99.0923 1119.87 99.0923 1112.76 Q99.0923 1105.63 97.2636 1102.09 Q95.458 1098.53 91.8238 1098.53 M91.8238 1094.82 Q97.6339 1094.82 100.689 1099.43 Q103.768 1104.01 103.768 1112.76 Q103.768 1121.49 100.689 1126.1 Q97.6339 1130.68 91.8238 1130.68 Q86.0136 1130.68 82.935 1126.1 Q79.8794 1121.49 79.8794 1112.76 Q79.8794 1104.01 82.935 1099.43 Q86.0136 1094.82 91.8238 1094.82 Z\" fill=\"#000000\" fill-rule=\"nonzero\" fill-opacity=\"1\" /><path clip-path=\"url(#clip930)\" d=\"M103.768 1088.92 L127.88 1088.92 L127.88 1092.12 L103.768 1092.12 L103.768 1088.92 Z\" fill=\"#000000\" fill-rule=\"nonzero\" fill-opacity=\"1\" /><path clip-path=\"url(#clip930)\" d=\"M136.738 1099.4 L142.945 1099.4 L142.945 1077.98 L136.193 1079.33 L136.193 1075.87 L142.907 1074.52 L146.706 1074.52 L146.706 1099.4 L152.913 1099.4 L152.913 1102.6 L136.738 1102.6 L136.738 1099.4 Z\" fill=\"#000000\" fill-rule=\"nonzero\" fill-opacity=\"1\" /><path clip-path=\"url(#clip930)\" d=\"M160.624 1074.52 L175.539 1074.52 L175.539 1077.72 L164.103 1077.72 L164.103 1084.6 Q164.931 1084.32 165.759 1084.19 Q166.586 1084.03 167.414 1084.03 Q172.116 1084.03 174.862 1086.61 Q177.607 1089.19 177.607 1093.59 Q177.607 1098.12 174.786 1100.64 Q171.965 1103.14 166.831 1103.14 Q165.063 1103.14 163.22 1102.84 Q161.395 1102.54 159.439 1101.94 L159.439 1098.12 Q161.132 1099.04 162.937 1099.49 Q164.743 1099.95 166.755 1099.95 Q170.009 1099.95 171.909 1098.23 Q173.808 1096.52 173.808 1093.59 Q173.808 1090.66 171.909 1088.94 Q170.009 1087.23 166.755 1087.23 Q165.232 1087.23 163.709 1087.57 Q162.204 1087.91 160.624 1088.62 L160.624 1074.52 Z\" fill=\"#000000\" fill-rule=\"nonzero\" fill-opacity=\"1\" /><path clip-path=\"url(#clip930)\" d=\"M51.6634 786.638 L59.3023 786.638 L59.3023 760.273 L50.9921 761.939 L50.9921 757.68 L59.256 756.014 L63.9319 756.014 L63.9319 786.638 L71.5707 786.638 L71.5707 790.574 L51.6634 790.574 L51.6634 786.638 Z\" fill=\"#000000\" fill-rule=\"nonzero\" fill-opacity=\"1\" /><path clip-path=\"url(#clip930)\" d=\"M91.0151 759.092 Q87.404 759.092 85.5753 762.657 Q83.7697 766.199 83.7697 773.328 Q83.7697 780.435 85.5753 784 Q87.404 787.541 91.0151 787.541 Q94.6493 787.541 96.4548 784 Q98.2835 780.435 98.2835 773.328 Q98.2835 766.199 96.4548 762.657 Q94.6493 759.092 91.0151 759.092 M91.0151 755.389 Q96.8252 755.389 99.8808 759.995 Q102.959 764.578 102.959 773.328 Q102.959 782.055 99.8808 786.662 Q96.8252 791.245 91.0151 791.245 Q85.2049 791.245 82.1262 786.662 Q79.0707 782.055 79.0707 773.328 Q79.0707 764.578 82.1262 759.995 Q85.2049 755.389 91.0151 755.389 Z\" fill=\"#000000\" fill-rule=\"nonzero\" fill-opacity=\"1\" /><path clip-path=\"url(#clip930)\" d=\"M102.959 749.49 L127.071 749.49 L127.071 752.687 L102.959 752.687 L102.959 749.49 Z\" fill=\"#000000\" fill-rule=\"nonzero\" fill-opacity=\"1\" /><path clip-path=\"url(#clip930)\" d=\"M135.929 759.966 L142.136 759.966 L142.136 738.544 L135.384 739.898 L135.384 736.437 L142.098 735.083 L145.898 735.083 L145.898 759.966 L152.104 759.966 L152.104 763.163 L135.929 763.163 L135.929 759.966 Z\" fill=\"#000000\" fill-rule=\"nonzero\" fill-opacity=\"1\" /><path clip-path=\"url(#clip930)\" d=\"M167.903 737.585 Q164.969 737.585 163.483 740.481 Q162.016 743.359 162.016 749.151 Q162.016 754.925 163.483 757.822 Q164.969 760.699 167.903 760.699 Q170.855 760.699 172.322 757.822 Q173.808 754.925 173.808 749.151 Q173.808 743.359 172.322 740.481 Q170.855 737.585 167.903 737.585 M167.903 734.575 Q172.623 734.575 175.106 738.318 Q177.607 742.042 177.607 749.151 Q177.607 756.242 175.106 759.985 Q172.623 763.709 167.903 763.709 Q163.182 763.709 160.68 759.985 Q158.198 756.242 158.198 749.151 Q158.198 742.042 160.68 738.318 Q163.182 734.575 167.903 734.575 Z\" fill=\"#000000\" fill-rule=\"nonzero\" fill-opacity=\"1\" /><path clip-path=\"url(#clip930)\" d=\"M76.9787 447.204 L84.6175 447.204 L84.6175 420.838 L76.3074 422.505 L76.3074 418.245 L84.5712 416.579 L89.2471 416.579 L89.2471 447.204 L96.886 447.204 L96.886 451.139 L76.9787 451.139 L76.9787 447.204 Z\" fill=\"#000000\" fill-rule=\"nonzero\" fill-opacity=\"1\" /><path clip-path=\"url(#clip930)\" d=\"M116.33 419.657 Q112.719 419.657 110.891 423.222 Q109.085 426.764 109.085 433.893 Q109.085 441 110.891 444.565 Q112.719 448.106 116.33 448.106 Q119.965 448.106 121.77 444.565 Q123.599 441 123.599 433.893 Q123.599 426.764 121.77 423.222 Q119.965 419.657 116.33 419.657 M116.33 415.954 Q122.14 415.954 125.196 420.56 Q128.275 425.143 128.275 433.893 Q128.275 442.62 125.196 447.227 Q122.14 451.81 116.33 451.81 Q110.52 451.81 107.441 447.227 Q104.386 442.62 104.386 433.893 Q104.386 425.143 107.441 420.56 Q110.52 415.954 116.33 415.954 Z\" fill=\"#000000\" fill-rule=\"nonzero\" fill-opacity=\"1\" /><path clip-path=\"url(#clip930)\" d=\"M128.275 410.055 L152.386 410.055 L152.386 413.252 L128.275 413.252 L128.275 410.055 Z\" fill=\"#000000\" fill-rule=\"nonzero\" fill-opacity=\"1\" /><path clip-path=\"url(#clip930)\" d=\"M160.624 395.648 L175.539 395.648 L175.539 398.846 L164.103 398.846 L164.103 405.729 Q164.931 405.447 165.759 405.316 Q166.586 405.165 167.414 405.165 Q172.116 405.165 174.862 407.742 Q177.607 410.318 177.607 414.719 Q177.607 419.252 174.786 421.772 Q171.965 424.274 166.831 424.274 Q165.063 424.274 163.22 423.973 Q161.395 423.672 159.439 423.07 L159.439 419.252 Q161.132 420.174 162.937 420.625 Q164.743 421.076 166.755 421.076 Q170.009 421.076 171.909 419.365 Q173.808 417.653 173.808 414.719 Q173.808 411.785 171.909 410.074 Q170.009 408.362 166.755 408.362 Q165.232 408.362 163.709 408.701 Q162.204 409.039 160.624 409.754 L160.624 395.648 Z\" fill=\"#000000\" fill-rule=\"nonzero\" fill-opacity=\"1\" /><path clip-path=\"url(#clip930)\" d=\"M106.902 107.769 L114.541 107.769 L114.541 81.4031 L106.231 83.0698 L106.231 78.8105 L114.494 77.1439 L119.17 77.1439 L119.17 107.769 L126.809 107.769 L126.809 111.704 L106.902 111.704 L106.902 107.769 Z\" fill=\"#000000\" fill-rule=\"nonzero\" fill-opacity=\"1\" /><path clip-path=\"url(#clip930)\" d=\"M146.253 80.2226 Q142.642 80.2226 140.814 83.7874 Q139.008 87.329 139.008 94.4586 Q139.008 101.565 140.814 105.13 Q142.642 108.671 146.253 108.671 Q149.888 108.671 151.693 105.13 Q153.522 101.565 153.522 94.4586 Q153.522 87.329 151.693 83.7874 Q149.888 80.2226 146.253 80.2226 M146.253 76.5189 Q152.064 76.5189 155.119 81.1253 Q158.198 85.7086 158.198 94.4586 Q158.198 103.185 155.119 107.792 Q152.064 112.375 146.253 112.375 Q140.443 112.375 137.365 107.792 Q134.309 103.185 134.309 94.4586 Q134.309 85.7086 137.365 81.1253 Q140.443 76.5189 146.253 76.5189 Z\" fill=\"#000000\" fill-rule=\"nonzero\" fill-opacity=\"1\" /><path clip-path=\"url(#clip930)\" d=\"M167.903 58.7149 Q164.969 58.7149 163.483 61.6113 Q162.016 64.4889 162.016 70.2817 Q162.016 76.0557 163.483 78.9521 Q164.969 81.8297 167.903 81.8297 Q170.855 81.8297 172.322 78.9521 Q173.808 76.0557 173.808 70.2817 Q173.808 64.4889 172.322 61.6113 Q170.855 58.7149 167.903 58.7149 M167.903 55.7057 Q172.623 55.7057 175.106 59.4484 Q177.607 63.1724 177.607 70.2817 Q177.607 77.3722 175.106 81.115 Q172.623 84.8389 167.903 84.8389 Q163.182 84.8389 160.68 81.115 Q158.198 77.3722 158.198 70.2817 Q158.198 63.1724 160.68 59.4484 Q163.182 55.7057 167.903 55.7057 Z\" fill=\"#000000\" fill-rule=\"nonzero\" fill-opacity=\"1\" /><polyline clip-path=\"url(#clip932)\" style=\"stroke:#009af9; stroke-linecap:round; stroke-linejoin:round; stroke-width:4; stroke-opacity:1; fill:none\" points=\"274.149,1445.72 2292.21,1445.72 \"/>\n",
       "</svg>\n"
      ]
     },
     "metadata": {},
     "output_type": "display_data"
    }
   ],
   "source": [
    "massrel = abs.((massConserv.-massConserv[1])/massConserv[1]).+1e-20\n",
    "Plots.plot(massrel,yaxis=:log10,label=false)"
   ]
  }
 ],
 "metadata": {
  "kernelspec": {
   "display_name": "Julia 1.9.2",
   "language": "julia",
   "name": "julia-1.9"
  },
  "language_info": {
   "file_extension": ".jl",
   "mimetype": "application/julia",
   "name": "julia",
   "version": "1.9.2"
  },
  "orig_nbformat": 4
 },
 "nbformat": 4,
 "nbformat_minor": 2
}
